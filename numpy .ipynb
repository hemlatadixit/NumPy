{
 "cells": [
  {
   "cell_type": "markdown",
   "id": "b34571d2",
   "metadata": {},
   "source": [
    "## numpy gives us tha data structure in form of (array)numpy=numerical python array handle large amount of data\n"
   ]
  },
  {
   "cell_type": "code",
   "execution_count": 412,
   "id": "625b45f4",
   "metadata": {},
   "outputs": [
    {
     "data": {
      "text/plain": [
       "[(400, 40), (300, 50), (200, 60), (100, 70)]"
      ]
     },
     "execution_count": 412,
     "metadata": {},
     "output_type": "execute_result"
    }
   ],
   "source": [
    "d=[400,300,200,100]\n",
    "sp=[40,50,60,70]\n",
    "l=list(zip(d,sp))\n",
    "l"
   ]
  },
  {
   "cell_type": "code",
   "execution_count": 413,
   "id": "1ccc31b0",
   "metadata": {},
   "outputs": [
    {
     "data": {
      "text/plain": [
       "[[400, 40], [300, 50], [200, 60], [100, 70]]"
      ]
     },
     "execution_count": 413,
     "metadata": {},
     "output_type": "execute_result"
    }
   ],
   "source": [
    "main=[]\n",
    "for i in l:\n",
    "    l1=[]\n",
    "    for j in i:\n",
    "        l1.append(j)\n",
    "    main.append(l1)\n",
    "main    "
   ]
  },
  {
   "cell_type": "code",
   "execution_count": 414,
   "id": "aaeb9291",
   "metadata": {},
   "outputs": [
    {
     "name": "stdout",
     "output_type": "stream",
     "text": [
      "[10.0, 6.0, 3.3333333333333335, 1.4285714285714286]\n"
     ]
    }
   ],
   "source": [
    "time=[]\n",
    "for k in main:\n",
    "    time.append(k[0]/k[1])\n",
    "print(time)"
   ]
  },
  {
   "cell_type": "code",
   "execution_count": 415,
   "id": "61468656",
   "metadata": {},
   "outputs": [
    {
     "data": {
      "text/plain": [
       "array([10.        ,  6.        ,  2.85714286,  1.66666667])"
      ]
     },
     "execution_count": 415,
     "metadata": {},
     "output_type": "execute_result"
    }
   ],
   "source": [
    "import numpy as np\n",
    "d1=np.array([400,300,200,100])\n",
    "sp1=np.array([40,50,70,60])\n",
    "d1/sp1"
   ]
  },
  {
   "cell_type": "markdown",
   "id": "33a71b12",
   "metadata": {},
   "source": [
    "### ndarry=n dimensional array(core data structure of numpy)array\n",
    "**stores homogenious data\n",
    "**fast and efficient\n",
    "**"
   ]
  },
  {
   "cell_type": "markdown",
   "id": "5a6b9df3",
   "metadata": {},
   "source": [
    "from python str like list and tuple"
   ]
  },
  {
   "cell_type": "code",
   "execution_count": 416,
   "id": "e56ff750",
   "metadata": {},
   "outputs": [
    {
     "data": {
      "text/plain": [
       "dtype('int32')"
      ]
     },
     "execution_count": 416,
     "metadata": {},
     "output_type": "execute_result"
    }
   ],
   "source": [
    "a=np.array([1,2,3,4,5])  ## array creation from list\n",
    "type(a)\n",
    "a.dtype"
   ]
  },
  {
   "cell_type": "code",
   "execution_count": 417,
   "id": "39e80c75",
   "metadata": {},
   "outputs": [
    {
     "data": {
      "text/plain": [
       "dtype('float64')"
      ]
     },
     "execution_count": 417,
     "metadata": {},
     "output_type": "execute_result"
    }
   ],
   "source": [
    "a=np.array([1.1,1.2,3.2,4.2,5])      ## array creation from list\n",
    "type(a)\n",
    "a.dtype"
   ]
  },
  {
   "cell_type": "code",
   "execution_count": 418,
   "id": "a0433780",
   "metadata": {},
   "outputs": [
    {
     "data": {
      "text/plain": [
       "array([[20, 30, 46],\n",
       "       [30, 40, 50]])"
      ]
     },
     "execution_count": 418,
     "metadata": {},
     "output_type": "execute_result"
    }
   ],
   "source": [
    "a2=np.array([[20,30,46],[30,40,50]])      ### array creat in 2 dimension list:\n",
    "a2"
   ]
  },
  {
   "cell_type": "code",
   "execution_count": 419,
   "id": "878c59d7",
   "metadata": {},
   "outputs": [
    {
     "data": {
      "text/plain": [
       "dtype('int32')"
      ]
     },
     "execution_count": 419,
     "metadata": {},
     "output_type": "execute_result"
    }
   ],
   "source": [
    "a2=np.array([[[20,30,46],[30,40,50],[20,39,40]]])    ### array creat in  3 dimension list:\n",
    "a2\n",
    "a2.dtype\n"
   ]
  },
  {
   "cell_type": "code",
   "execution_count": 420,
   "id": "c7754f48",
   "metadata": {},
   "outputs": [
    {
     "data": {
      "text/plain": [
       "array([20, 30, 40])"
      ]
     },
     "execution_count": 420,
     "metadata": {},
     "output_type": "execute_result"
    }
   ],
   "source": [
    "a1=np.array((20,30,40))\n",
    "a1"
   ]
  },
  {
   "cell_type": "code",
   "execution_count": 421,
   "id": "1ad17427",
   "metadata": {},
   "outputs": [
    {
     "data": {
      "text/plain": [
       "0"
      ]
     },
     "execution_count": 421,
     "metadata": {},
     "output_type": "execute_result"
    }
   ],
   "source": [
    "a1=np.array(\"hello\") ## ita zeroth dimensional#\n",
    "a1\n",
    "a1.ndim"
   ]
  },
  {
   "cell_type": "markdown",
   "id": "af2e6ec8",
   "metadata": {},
   "source": [
    "## importtant property of ndarray\n",
    "\n",
    "*ndim\n",
    "*shape\n",
    "*size\n",
    "*\n"
   ]
  },
  {
   "cell_type": "code",
   "execution_count": 422,
   "id": "5f0d236c",
   "metadata": {},
   "outputs": [
    {
     "name": "stdout",
     "output_type": "stream",
     "text": [
      "[20 30 40]\n"
     ]
    },
    {
     "data": {
      "text/plain": [
       "1"
      ]
     },
     "execution_count": 422,
     "metadata": {},
     "output_type": "execute_result"
    }
   ],
   "source": [
    "print(np.array([20,30,40]))     ## single dimension array\n",
    "a1=np.array([20,30,40])\n",
    "a1.ndim\n"
   ]
  },
  {
   "cell_type": "code",
   "execution_count": 423,
   "id": "4f29a47d",
   "metadata": {},
   "outputs": [
    {
     "data": {
      "text/plain": [
       "2"
      ]
     },
     "execution_count": 423,
     "metadata": {},
     "output_type": "execute_result"
    }
   ],
   "source": [
    "c=np.array([[1, 2, 3], [4, 5, 6]]) ## 2D array\n",
    "c.ndim"
   ]
  },
  {
   "cell_type": "code",
   "execution_count": 424,
   "id": "98deab95",
   "metadata": {},
   "outputs": [
    {
     "data": {
      "text/plain": [
       "3"
      ]
     },
     "execution_count": 424,
     "metadata": {},
     "output_type": "execute_result"
    }
   ],
   "source": [
    "c= np.array([[[1, 2, 3], [4, 5, 6]], [[1, 2, 3], [4, 5, 6]]])#### 3D array\n",
    "c.ndim"
   ]
  },
  {
   "cell_type": "code",
   "execution_count": 425,
   "id": "eb3d71cf",
   "metadata": {},
   "outputs": [
    {
     "data": {
      "text/plain": [
       "7"
      ]
     },
     "execution_count": 425,
     "metadata": {},
     "output_type": "execute_result"
    }
   ],
   "source": [
    "import numpy as np\n",
    "e= np.array([[[[[[[2,3,4,5,6]]]]]]])\n",
    "e.ndim"
   ]
  },
  {
   "cell_type": "code",
   "execution_count": 426,
   "id": "883b2007",
   "metadata": {},
   "outputs": [
    {
     "name": "stdout",
     "output_type": "stream",
     "text": [
      "0\n",
      "0\n",
      "1\n",
      "2\n",
      "3\n",
      "4\n",
      "2\n",
      "5\n"
     ]
    }
   ],
   "source": [
    "a = np.array(42)\n",
    "b = np.array([1, 2, 3, 4, 5]) # in  single dimension we can not judge the rows and columns\n",
    "c = np.array([[1, 2, 3], [4, 5, 6]])\n",
    "d = np.array([[[1, 2, 3], [4, 5, 6]], [[1, 2, 3], [4, 5, 6]]])\n",
    "e=np.array([[[[1, 2, 3], [4, 5, 6]]]])\n",
    "f=np.array([[2,3,4,5]])\n",
    "g=np.array([[[[[20,30]]]]])\n",
    "print(a.ndim)\n",
    "print(np.ndim(a))\n",
    "print(b.ndim)\n",
    "print(c.ndim)\n",
    "print(d.ndim)\n",
    "print(e.ndim)\n",
    "print(f.ndim)\n",
    "print(g.ndim)\n",
    "\n",
    "\n",
    "\n"
   ]
  },
  {
   "cell_type": "code",
   "execution_count": 427,
   "id": "cb118a38",
   "metadata": {},
   "outputs": [
    {
     "data": {
      "text/plain": [
       "array([[[[[1, 2, 3, 4]]]]])"
      ]
     },
     "execution_count": 427,
     "metadata": {},
     "output_type": "execute_result"
    }
   ],
   "source": [
    "a1=np.array([1,2,3,4],ndmin=5)   ### change dimension by by giving value\n",
    "a1"
   ]
  },
  {
   "cell_type": "code",
   "execution_count": 428,
   "id": "d28f8142",
   "metadata": {},
   "outputs": [
    {
     "data": {
      "text/plain": [
       "array([[[[[[[ 1,  2,  3],\n",
       "            [20, 30, 40],\n",
       "            [30, 40, 50]]]]]]])"
      ]
     },
     "execution_count": 428,
     "metadata": {},
     "output_type": "execute_result"
    }
   ],
   "source": [
    "a1=np.array([[1,2,3],[20,30,40],[30,40,50]],ndmin=7)\n",
    "a1"
   ]
  },
  {
   "cell_type": "markdown",
   "id": "fb9d8c61",
   "metadata": {},
   "source": [
    "## shape (number of elements present in each dimension)"
   ]
  },
  {
   "cell_type": "code",
   "execution_count": 429,
   "id": "e7314c1e",
   "metadata": {},
   "outputs": [
    {
     "name": "stdout",
     "output_type": "stream",
     "text": [
      "(3,)\n"
     ]
    }
   ],
   "source": [
    "## shape of 1D\n",
    "\n",
    "a=np.array([1,2,3])   ## we can not judge how rows and columns(thats why comma occer)\n",
    "print(a.shape)"
   ]
  },
  {
   "cell_type": "code",
   "execution_count": 430,
   "id": "c4a29a09",
   "metadata": {},
   "outputs": [
    {
     "data": {
      "text/plain": [
       "(2, 4)"
      ]
     },
     "execution_count": 430,
     "metadata": {},
     "output_type": "execute_result"
    }
   ],
   "source": [
    "a=np.array([[2,4,5,5],[4,5,6,7]])\n",
    "a.shape"
   ]
  },
  {
   "cell_type": "code",
   "execution_count": 431,
   "id": "f4fcc7eb",
   "metadata": {},
   "outputs": [
    {
     "data": {
      "text/plain": [
       "(1, 3, 4)"
      ]
     },
     "execution_count": 431,
     "metadata": {},
     "output_type": "execute_result"
    }
   ],
   "source": [
    "a=np.array([[[2,4,5,5],[4,5,6,7],[2,3,4,5]]])\n",
    "a.shape"
   ]
  },
  {
   "cell_type": "code",
   "execution_count": 432,
   "id": "1e62cb69",
   "metadata": {},
   "outputs": [
    {
     "data": {
      "text/plain": [
       "(1, 4)"
      ]
     },
     "execution_count": 432,
     "metadata": {},
     "output_type": "execute_result"
    }
   ],
   "source": [
    "a=np.array([[1,2,35,5]])\n",
    "a.shape"
   ]
  },
  {
   "cell_type": "code",
   "execution_count": 433,
   "id": "34ef11a3",
   "metadata": {},
   "outputs": [
    {
     "data": {
      "text/plain": [
       "(0,)"
      ]
     },
     "execution_count": 433,
     "metadata": {},
     "output_type": "execute_result"
    }
   ],
   "source": [
    "a=np.array([])\n",
    "a.shape"
   ]
  },
  {
   "cell_type": "code",
   "execution_count": 434,
   "id": "67dac522",
   "metadata": {},
   "outputs": [
    {
     "data": {
      "text/plain": [
       "(2, 4)"
      ]
     },
     "execution_count": 434,
     "metadata": {},
     "output_type": "execute_result"
    }
   ],
   "source": [
    "a=np.array([[2,4,5,5],[4,5,6,7]])\n",
    "a.shape"
   ]
  },
  {
   "cell_type": "code",
   "execution_count": 435,
   "id": "9651e9f5",
   "metadata": {},
   "outputs": [
    {
     "name": "stdout",
     "output_type": "stream",
     "text": [
      "(1, 1, 1, 1, 1, 3, 3)\n"
     ]
    },
    {
     "data": {
      "text/plain": [
       "array([[1, 2, 3],\n",
       "       [4, 5, 6]])"
      ]
     },
     "execution_count": 435,
     "metadata": {},
     "output_type": "execute_result"
    }
   ],
   "source": [
    "k=np.array([[[[[[[2,3,4],[45,78,90],[50,90,89]]]]]]])\n",
    "print(k.shape)\n",
    "c\n"
   ]
  },
  {
   "cell_type": "code",
   "execution_count": 436,
   "id": "0b3a5272",
   "metadata": {},
   "outputs": [
    {
     "name": "stdout",
     "output_type": "stream",
     "text": [
      "(1, 1, 1, 1, 1, 3, 3)\n"
     ]
    }
   ],
   "source": [
    "import numpy as np\n",
    "k=np.array([[[[[[[2,3,4],[45,78,90],[50,90,89]]]]]]])\n",
    "print(k.shape)"
   ]
  },
  {
   "cell_type": "code",
   "execution_count": 437,
   "id": "bc9a0983",
   "metadata": {},
   "outputs": [
    {
     "data": {
      "text/plain": [
       "(1, 1, 1, 1, 1, 1, 1, 4)"
      ]
     },
     "execution_count": 437,
     "metadata": {},
     "output_type": "execute_result"
    }
   ],
   "source": [
    "import numpy as np\n",
    "a=np.array([[[[[[[[\"pizza\",\"sweet corn\",\"coffee\",\"lemonade\"]]]]]]]])\n",
    "a.shape"
   ]
  },
  {
   "cell_type": "code",
   "execution_count": 438,
   "id": "bce000ec",
   "metadata": {},
   "outputs": [
    {
     "data": {
      "text/plain": [
       "array([1, 2, 3, 4])"
      ]
     },
     "execution_count": 438,
     "metadata": {},
     "output_type": "execute_result"
    }
   ],
   "source": [
    "import numpy as np\n",
    "lst=[1,2,3,4]\n",
    "arr=np.array(lst)\n",
    "arr"
   ]
  },
  {
   "cell_type": "code",
   "execution_count": 439,
   "id": "70c70cbf",
   "metadata": {},
   "outputs": [
    {
     "data": {
      "text/plain": [
       "numpy.ndarray"
      ]
     },
     "execution_count": 439,
     "metadata": {},
     "output_type": "execute_result"
    }
   ],
   "source": [
    "type(arr)"
   ]
  },
  {
   "cell_type": "code",
   "execution_count": 440,
   "id": "8df13230",
   "metadata": {},
   "outputs": [
    {
     "data": {
      "text/plain": [
       "(4,)"
      ]
     },
     "execution_count": 440,
     "metadata": {},
     "output_type": "execute_result"
    }
   ],
   "source": [
    "arr.shape"
   ]
  },
  {
   "cell_type": "code",
   "execution_count": 441,
   "id": "43b2ac0e",
   "metadata": {},
   "outputs": [
    {
     "data": {
      "text/plain": [
       "1"
      ]
     },
     "execution_count": 441,
     "metadata": {},
     "output_type": "execute_result"
    }
   ],
   "source": [
    "arr.ndim"
   ]
  },
  {
   "cell_type": "code",
   "execution_count": 442,
   "id": "0b972973",
   "metadata": {},
   "outputs": [
    {
     "data": {
      "text/plain": [
       "dtype('int32')"
      ]
     },
     "execution_count": 442,
     "metadata": {},
     "output_type": "execute_result"
    }
   ],
   "source": [
    "arr.dtype"
   ]
  },
  {
   "cell_type": "code",
   "execution_count": 443,
   "id": "73b05c45",
   "metadata": {},
   "outputs": [
    {
     "data": {
      "text/plain": [
       "array([[[[[[[['pizza', 'sweet corn', 'coffee', 'lemonade']]]]]]]],\n",
       "      dtype='<U10')"
      ]
     },
     "execution_count": 443,
     "metadata": {},
     "output_type": "execute_result"
    }
   ],
   "source": [
    "a"
   ]
  },
  {
   "cell_type": "code",
   "execution_count": 444,
   "id": "9be4ccd7",
   "metadata": {},
   "outputs": [
    {
     "data": {
      "text/plain": [
       "(1, 1, 1, 1, 1, 1, 1, 4)"
      ]
     },
     "execution_count": 444,
     "metadata": {},
     "output_type": "execute_result"
    }
   ],
   "source": [
    "a.shape"
   ]
  },
  {
   "cell_type": "code",
   "execution_count": 445,
   "id": "405fca20",
   "metadata": {},
   "outputs": [
    {
     "data": {
      "text/plain": [
       "8"
      ]
     },
     "execution_count": 445,
     "metadata": {},
     "output_type": "execute_result"
    }
   ],
   "source": [
    "a.ndim"
   ]
  },
  {
   "cell_type": "code",
   "execution_count": 446,
   "id": "a6cd1294",
   "metadata": {},
   "outputs": [
    {
     "data": {
      "text/plain": [
       "array([1, 2, 3, 4])"
      ]
     },
     "execution_count": 446,
     "metadata": {},
     "output_type": "execute_result"
    }
   ],
   "source": [
    "## indexing\n",
    "arr"
   ]
  },
  {
   "cell_type": "code",
   "execution_count": 447,
   "id": "9ebdd61e",
   "metadata": {},
   "outputs": [
    {
     "data": {
      "text/plain": [
       "4"
      ]
     },
     "execution_count": 447,
     "metadata": {},
     "output_type": "execute_result"
    }
   ],
   "source": [
    "arr[3]"
   ]
  },
  {
   "cell_type": "code",
   "execution_count": 448,
   "id": "5ec71dc5",
   "metadata": {},
   "outputs": [
    {
     "data": {
      "text/plain": [
       "array([1, 2, 3, 8])"
      ]
     },
     "execution_count": 448,
     "metadata": {},
     "output_type": "execute_result"
    }
   ],
   "source": [
    "arr[3]=8\n",
    "arr"
   ]
  },
  {
   "cell_type": "code",
   "execution_count": 449,
   "id": "e2d5dc88",
   "metadata": {},
   "outputs": [
    {
     "data": {
      "text/plain": [
       "8"
      ]
     },
     "execution_count": 449,
     "metadata": {},
     "output_type": "execute_result"
    }
   ],
   "source": [
    "arr[-1]"
   ]
  },
  {
   "cell_type": "code",
   "execution_count": 450,
   "id": "3c8a1fa5",
   "metadata": {},
   "outputs": [
    {
     "data": {
      "text/plain": [
       "array([1, 2, 3])"
      ]
     },
     "execution_count": 450,
     "metadata": {},
     "output_type": "execute_result"
    }
   ],
   "source": [
    "arr[:-1]"
   ]
  },
  {
   "cell_type": "code",
   "execution_count": 451,
   "id": "51fb4328",
   "metadata": {},
   "outputs": [
    {
     "data": {
      "text/plain": [
       "array([8, 3, 2, 1])"
      ]
     },
     "execution_count": 451,
     "metadata": {},
     "output_type": "execute_result"
    }
   ],
   "source": [
    "arr[::-1]"
   ]
  },
  {
   "cell_type": "code",
   "execution_count": 452,
   "id": "befd90f9",
   "metadata": {},
   "outputs": [
    {
     "data": {
      "text/plain": [
       "array([8, 2])"
      ]
     },
     "execution_count": 452,
     "metadata": {},
     "output_type": "execute_result"
    }
   ],
   "source": [
    "arr[::-2]"
   ]
  },
  {
   "cell_type": "code",
   "execution_count": 453,
   "id": "d5673d7c",
   "metadata": {},
   "outputs": [
    {
     "name": "stdout",
     "output_type": "stream",
     "text": [
      "[[1 2 3 4]\n",
      " [5 6 7 8]\n",
      " [3 4 5 6]]\n"
     ]
    }
   ],
   "source": [
    "a=np.array([[1,2,3,4],[5,6,7,8],[3,4,5,6]])\n",
    "a\n",
    "print(a)"
   ]
  },
  {
   "cell_type": "code",
   "execution_count": 454,
   "id": "620c517f",
   "metadata": {},
   "outputs": [
    {
     "data": {
      "text/plain": [
       "array([[6, 7, 8],\n",
       "       [4, 5, 6]])"
      ]
     },
     "execution_count": 454,
     "metadata": {},
     "output_type": "execute_result"
    }
   ],
   "source": [
    "a[1:,1:4]"
   ]
  },
  {
   "cell_type": "code",
   "execution_count": 455,
   "id": "5c674592",
   "metadata": {},
   "outputs": [
    {
     "data": {
      "text/plain": [
       "array([[2, 3, 4],\n",
       "       [6, 7, 8],\n",
       "       [4, 5, 6]])"
      ]
     },
     "execution_count": 455,
     "metadata": {},
     "output_type": "execute_result"
    }
   ],
   "source": [
    "a[0:,1:4]"
   ]
  },
  {
   "cell_type": "code",
   "execution_count": 456,
   "id": "24b49069",
   "metadata": {},
   "outputs": [
    {
     "data": {
      "text/plain": [
       "array([[1],\n",
       "       [5],\n",
       "       [3]])"
      ]
     },
     "execution_count": 456,
     "metadata": {},
     "output_type": "execute_result"
    }
   ],
   "source": [
    "a[0:,0:1]"
   ]
  },
  {
   "cell_type": "code",
   "execution_count": 457,
   "id": "999e0d60",
   "metadata": {},
   "outputs": [
    {
     "data": {
      "text/plain": [
       "array([[1, 2, 3, 4],\n",
       "       [5, 6, 7, 8],\n",
       "       [3, 4, 5, 6]])"
      ]
     },
     "execution_count": 457,
     "metadata": {},
     "output_type": "execute_result"
    }
   ],
   "source": [
    "a"
   ]
  },
  {
   "cell_type": "code",
   "execution_count": 458,
   "id": "f448c841",
   "metadata": {},
   "outputs": [
    {
     "data": {
      "text/plain": [
       "array([[3, 4],\n",
       "       [7, 8],\n",
       "       [5, 6]])"
      ]
     },
     "execution_count": 458,
     "metadata": {},
     "output_type": "execute_result"
    }
   ],
   "source": [
    "a[:,2:]"
   ]
  },
  {
   "cell_type": "code",
   "execution_count": 459,
   "id": "183df22c",
   "metadata": {},
   "outputs": [
    {
     "data": {
      "text/plain": [
       "array([[1, 2, 3, 4],\n",
       "       [5, 6, 7, 8],\n",
       "       [3, 4, 5, 6]])"
      ]
     },
     "execution_count": 459,
     "metadata": {},
     "output_type": "execute_result"
    }
   ],
   "source": [
    "a"
   ]
  },
  {
   "cell_type": "code",
   "execution_count": 460,
   "id": "e9e6dfaf",
   "metadata": {},
   "outputs": [
    {
     "data": {
      "text/plain": [
       "array([[1],\n",
       "       [5],\n",
       "       [3]])"
      ]
     },
     "execution_count": 460,
     "metadata": {},
     "output_type": "execute_result"
    }
   ],
   "source": [
    "a[0:,0:1]"
   ]
  },
  {
   "cell_type": "markdown",
   "id": "0c1368aa",
   "metadata": {},
   "source": [
    "### EDA (exploratary data analysis)"
   ]
  },
  {
   "cell_type": "code",
   "execution_count": 461,
   "id": "c2331125",
   "metadata": {},
   "outputs": [
    {
     "data": {
      "text/plain": [
       "array([[1, 2, 3, 4],\n",
       "       [5, 6, 7, 8],\n",
       "       [3, 4, 5, 6]])"
      ]
     },
     "execution_count": 461,
     "metadata": {},
     "output_type": "execute_result"
    }
   ],
   "source": [
    "a"
   ]
  },
  {
   "cell_type": "code",
   "execution_count": 462,
   "id": "b68deb52",
   "metadata": {},
   "outputs": [
    {
     "data": {
      "text/plain": [
       "array([[False, False, False,  True],\n",
       "       [ True,  True,  True,  True],\n",
       "       [False,  True,  True,  True]])"
      ]
     },
     "execution_count": 462,
     "metadata": {},
     "output_type": "execute_result"
    }
   ],
   "source": [
    "a>3"
   ]
  },
  {
   "cell_type": "code",
   "execution_count": 463,
   "id": "36e4d4f4",
   "metadata": {},
   "outputs": [
    {
     "data": {
      "text/plain": [
       "array([1, 2, 3, 8])"
      ]
     },
     "execution_count": 463,
     "metadata": {},
     "output_type": "execute_result"
    }
   ],
   "source": [
    "arr"
   ]
  },
  {
   "cell_type": "code",
   "execution_count": 464,
   "id": "5e3736cb",
   "metadata": {},
   "outputs": [
    {
     "data": {
      "text/plain": [
       "array([ True,  True, False, False])"
      ]
     },
     "execution_count": 464,
     "metadata": {},
     "output_type": "execute_result"
    }
   ],
   "source": [
    "arr<3"
   ]
  },
  {
   "cell_type": "code",
   "execution_count": 465,
   "id": "3cdaa990",
   "metadata": {},
   "outputs": [
    {
     "data": {
      "text/plain": [
       "[array([ True,  True,  True, False])]"
      ]
     },
     "execution_count": 465,
     "metadata": {},
     "output_type": "execute_result"
    }
   ],
   "source": [
    "a1=[arr<4]\n",
    "a1"
   ]
  },
  {
   "cell_type": "code",
   "execution_count": 466,
   "id": "4c6380ae",
   "metadata": {},
   "outputs": [
    {
     "data": {
      "text/plain": [
       "[array([ True,  True,  True, False])]"
      ]
     },
     "execution_count": 466,
     "metadata": {},
     "output_type": "execute_result"
    }
   ],
   "source": [
    "a1"
   ]
  },
  {
   "cell_type": "code",
   "execution_count": 467,
   "id": "4b3dd294",
   "metadata": {},
   "outputs": [
    {
     "data": {
      "text/plain": [
       "array([[1, 2, 3, 4, 5],\n",
       "       [2, 3, 0, 5, 6],\n",
       "       [2, 0, 4, 5, 6]])"
      ]
     },
     "execution_count": 467,
     "metadata": {},
     "output_type": "execute_result"
    }
   ],
   "source": [
    "list1=[1,2,3,4,5]\n",
    "list2=[2,3,0,5,6]\n",
    "list3=[2,0,4,5,6]\n",
    "arr=np.array([list1,list2,list3])\n",
    "arr"
   ]
  },
  {
   "cell_type": "code",
   "execution_count": 468,
   "id": "8037c5c2",
   "metadata": {},
   "outputs": [
    {
     "data": {
      "text/plain": [
       "array([[1],\n",
       "       [2]])"
      ]
     },
     "execution_count": 468,
     "metadata": {},
     "output_type": "execute_result"
    }
   ],
   "source": [
    "arr[0:3:2,0:1:2]"
   ]
  },
  {
   "cell_type": "code",
   "execution_count": 469,
   "id": "811b9043",
   "metadata": {},
   "outputs": [
    {
     "data": {
      "text/plain": [
       "array([[2, 3],\n",
       "       [2, 0]])"
      ]
     },
     "execution_count": 469,
     "metadata": {},
     "output_type": "execute_result"
    }
   ],
   "source": [
    "arr[1:,0:2]"
   ]
  },
  {
   "cell_type": "code",
   "execution_count": 470,
   "id": "f3eba936",
   "metadata": {},
   "outputs": [
    {
     "data": {
      "text/plain": [
       "array([[1, 2, 3, 4, 5],\n",
       "       [2, 3, 0, 5, 6],\n",
       "       [2, 0, 4, 5, 6]])"
      ]
     },
     "execution_count": 470,
     "metadata": {},
     "output_type": "execute_result"
    }
   ],
   "source": [
    "arr"
   ]
  },
  {
   "cell_type": "code",
   "execution_count": 471,
   "id": "f476c148",
   "metadata": {},
   "outputs": [
    {
     "data": {
      "text/plain": [
       "array([[2, 3, 4, 5],\n",
       "       [3, 0, 5, 6],\n",
       "       [0, 4, 5, 6]])"
      ]
     },
     "execution_count": 471,
     "metadata": {},
     "output_type": "execute_result"
    }
   ],
   "source": [
    "arr[0:3,1:]"
   ]
  },
  {
   "cell_type": "code",
   "execution_count": 472,
   "id": "64ec4a36",
   "metadata": {},
   "outputs": [
    {
     "data": {
      "text/plain": [
       "array([[5, 6],\n",
       "       [5, 6]])"
      ]
     },
     "execution_count": 472,
     "metadata": {},
     "output_type": "execute_result"
    }
   ],
   "source": [
    "arr[1:,3:]"
   ]
  },
  {
   "cell_type": "code",
   "execution_count": 473,
   "id": "5a64e125",
   "metadata": {},
   "outputs": [
    {
     "data": {
      "text/plain": [
       "(3, 5)"
      ]
     },
     "execution_count": 473,
     "metadata": {},
     "output_type": "execute_result"
    }
   ],
   "source": [
    "arr.shape"
   ]
  },
  {
   "cell_type": "code",
   "execution_count": 474,
   "id": "b85be310",
   "metadata": {},
   "outputs": [
    {
     "data": {
      "text/plain": [
       "array([[1, 2, 3],\n",
       "       [4, 5, 2],\n",
       "       [3, 0, 5],\n",
       "       [6, 2, 0],\n",
       "       [4, 5, 6]])"
      ]
     },
     "execution_count": 474,
     "metadata": {},
     "output_type": "execute_result"
    }
   ],
   "source": [
    "arr.reshape(5,3)"
   ]
  },
  {
   "cell_type": "code",
   "execution_count": 475,
   "id": "57e690af",
   "metadata": {},
   "outputs": [
    {
     "data": {
      "text/plain": [
       "array([ 1,  3,  5,  7,  9, 11, 13, 15, 17, 19])"
      ]
     },
     "execution_count": 475,
     "metadata": {},
     "output_type": "execute_result"
    }
   ],
   "source": [
    "### to create  array\n",
    "np.arange(1,20,2)"
   ]
  },
  {
   "cell_type": "code",
   "execution_count": 476,
   "id": "4a6e8a87",
   "metadata": {},
   "outputs": [
    {
     "data": {
      "text/plain": [
       "array([[ 1,  3,  5,  7,  9],\n",
       "       [11, 13, 15, 17, 19]])"
      ]
     },
     "execution_count": 476,
     "metadata": {},
     "output_type": "execute_result"
    }
   ],
   "source": [
    "np.arange(1,20,2).reshape(2,5)"
   ]
  },
  {
   "cell_type": "code",
   "execution_count": 477,
   "id": "f0938e3a",
   "metadata": {},
   "outputs": [
    {
     "data": {
      "text/plain": [
       "array([[ 1,  3,  5,  7,  9, 11, 13, 15, 17, 19]])"
      ]
     },
     "execution_count": 477,
     "metadata": {},
     "output_type": "execute_result"
    }
   ],
   "source": [
    "np.arange(1,20,2).reshape(1,10)"
   ]
  },
  {
   "cell_type": "code",
   "execution_count": 478,
   "id": "94b8f67c",
   "metadata": {},
   "outputs": [
    {
     "data": {
      "text/plain": [
       "array([[[ 1,  3],\n",
       "        [ 5,  7],\n",
       "        [ 9, 11],\n",
       "        [13, 15],\n",
       "        [17, 19]]])"
      ]
     },
     "execution_count": 478,
     "metadata": {},
     "output_type": "execute_result"
    }
   ],
   "source": [
    "np.arange(1,20,2).reshape(1,5,2)"
   ]
  },
  {
   "cell_type": "code",
   "execution_count": 479,
   "id": "eea0fa5f",
   "metadata": {},
   "outputs": [
    {
     "data": {
      "text/plain": [
       "array([[[ 1],\n",
       "        [ 3],\n",
       "        [ 5],\n",
       "        [ 7],\n",
       "        [ 9],\n",
       "        [11],\n",
       "        [13],\n",
       "        [15],\n",
       "        [17],\n",
       "        [19]]])"
      ]
     },
     "execution_count": 479,
     "metadata": {},
     "output_type": "execute_result"
    }
   ],
   "source": [
    "a=np.arange(1,20,2).reshape(1,10,1)\n",
    "a"
   ]
  },
  {
   "cell_type": "code",
   "execution_count": 480,
   "id": "fa55f5fa",
   "metadata": {},
   "outputs": [
    {
     "data": {
      "text/plain": [
       "array([[[ 1],\n",
       "        [ 3],\n",
       "        [ 5],\n",
       "        [ 7],\n",
       "        [ 9]],\n",
       "\n",
       "       [[11],\n",
       "        [13],\n",
       "        [15],\n",
       "        [17],\n",
       "        [19]]])"
      ]
     },
     "execution_count": 480,
     "metadata": {},
     "output_type": "execute_result"
    }
   ],
   "source": [
    "np.arange(1,20,2).reshape(2,5,1)"
   ]
  },
  {
   "cell_type": "code",
   "execution_count": 481,
   "id": "08027383",
   "metadata": {},
   "outputs": [
    {
     "data": {
      "text/plain": [
       "array([[1, 2, 3, 4, 5],\n",
       "       [2, 3, 0, 5, 6],\n",
       "       [2, 0, 4, 5, 6]])"
      ]
     },
     "execution_count": 481,
     "metadata": {},
     "output_type": "execute_result"
    }
   ],
   "source": [
    "arr"
   ]
  },
  {
   "cell_type": "code",
   "execution_count": 482,
   "id": "5be81931",
   "metadata": {},
   "outputs": [
    {
     "data": {
      "text/plain": [
       "array([[1, 5],\n",
       "       [2, 6],\n",
       "       [2, 6]])"
      ]
     },
     "execution_count": 482,
     "metadata": {},
     "output_type": "execute_result"
    }
   ],
   "source": [
    "arr[:,::4]"
   ]
  },
  {
   "cell_type": "code",
   "execution_count": 483,
   "id": "f9f98453",
   "metadata": {},
   "outputs": [
    {
     "data": {
      "text/plain": [
       "array([[1, 4],\n",
       "       [2, 5],\n",
       "       [2, 5]])"
      ]
     },
     "execution_count": 483,
     "metadata": {},
     "output_type": "execute_result"
    }
   ],
   "source": [
    "arr[:,::3]"
   ]
  },
  {
   "cell_type": "code",
   "execution_count": 484,
   "id": "d691f386",
   "metadata": {},
   "outputs": [
    {
     "data": {
      "text/plain": [
       "array([[ 1,  4,  9, 16, 25],\n",
       "       [ 4,  9,  0, 25, 36],\n",
       "       [ 4,  0, 16, 25, 36]])"
      ]
     },
     "execution_count": 484,
     "metadata": {},
     "output_type": "execute_result"
    }
   ],
   "source": [
    "arr*arr"
   ]
  },
  {
   "cell_type": "code",
   "execution_count": 485,
   "id": "d544437c",
   "metadata": {},
   "outputs": [
    {
     "data": {
      "text/plain": [
       "array([[1., 1., 1.],\n",
       "       [1., 1., 1.],\n",
       "       [1., 1., 1.],\n",
       "       [1., 1., 1.],\n",
       "       [1., 1., 1.]])"
      ]
     },
     "execution_count": 485,
     "metadata": {},
     "output_type": "execute_result"
    }
   ],
   "source": [
    "np.ones((5,3))"
   ]
  },
  {
   "cell_type": "code",
   "execution_count": 486,
   "id": "7ffb6abc",
   "metadata": {},
   "outputs": [
    {
     "data": {
      "text/plain": [
       "array([[0., 0., 0., 0., 0.],\n",
       "       [0., 0., 0., 0., 0.],\n",
       "       [0., 0., 0., 0., 0.],\n",
       "       [0., 0., 0., 0., 0.]])"
      ]
     },
     "execution_count": 486,
     "metadata": {},
     "output_type": "execute_result"
    }
   ],
   "source": [
    "np.zeros((4,5))"
   ]
  },
  {
   "cell_type": "code",
   "execution_count": 487,
   "id": "addd62b8",
   "metadata": {},
   "outputs": [
    {
     "data": {
      "text/plain": [
       "array([25, 30, 37, 37, 18])"
      ]
     },
     "execution_count": 487,
     "metadata": {},
     "output_type": "execute_result"
    }
   ],
   "source": [
    "np.random.randint(2,40,5)"
   ]
  },
  {
   "cell_type": "code",
   "execution_count": 488,
   "id": "ccb607c8",
   "metadata": {},
   "outputs": [
    {
     "data": {
      "text/plain": [
       "array([[35,  4],\n",
       "       [ 8, 39]])"
      ]
     },
     "execution_count": 488,
     "metadata": {},
     "output_type": "execute_result"
    }
   ],
   "source": [
    "np.random.randint(2,40,4).reshape(2,2)"
   ]
  },
  {
   "cell_type": "code",
   "execution_count": 489,
   "id": "9c00cc1c",
   "metadata": {},
   "outputs": [
    {
     "data": {
      "text/plain": [
       "array([[-0.06798036, -1.1849607 , -3.27152882, -0.8746591 ,  1.11828039],\n",
       "       [-1.02853183,  0.42103779,  0.52186904, -0.13609885,  1.42770594]])"
      ]
     },
     "execution_count": 489,
     "metadata": {},
     "output_type": "execute_result"
    }
   ],
   "source": [
    "np.random.randn(2,5)"
   ]
  },
  {
   "cell_type": "markdown",
   "id": "8a35e209",
   "metadata": {},
   "source": [
    "## size create an array of shape 2,4,2"
   ]
  },
  {
   "cell_type": "code",
   "execution_count": 492,
   "id": "9803d76a",
   "metadata": {},
   "outputs": [
    {
     "data": {
      "text/plain": [
       "(2, 4, 2)"
      ]
     },
     "execution_count": 492,
     "metadata": {},
     "output_type": "execute_result"
    }
   ],
   "source": [
    "a=np.array([[[1,2],[3,4],[5,6],[7,8]],[[9,10],[11,12],[13,14],[15,16]]])\n",
    "a.shape"
   ]
  },
  {
   "cell_type": "code",
   "execution_count": 493,
   "id": "f0157577",
   "metadata": {},
   "outputs": [
    {
     "name": "stdout",
     "output_type": "stream",
     "text": [
      "(1, 1, 1, 1, 1, 3, 3)\n"
     ]
    },
    {
     "data": {
      "text/plain": [
       "[]"
      ]
     },
     "execution_count": 493,
     "metadata": {},
     "output_type": "execute_result"
    }
   ],
   "source": [
    "import numpy as np\n",
    "k=np.array([[[[[[[2,3,4],[45,78,90],[50,90,89]]]]]]])\n",
    "print(k.shape)\n",
    "[]"
   ]
  },
  {
   "cell_type": "markdown",
   "id": "bb92d03e",
   "metadata": {},
   "source": [
    " ## create array of (1,1,3,3)"
   ]
  },
  {
   "cell_type": "code",
   "execution_count": 495,
   "id": "49f0a588",
   "metadata": {},
   "outputs": [
    {
     "data": {
      "text/plain": [
       "(1, 1, 3, 3)"
      ]
     },
     "execution_count": 495,
     "metadata": {},
     "output_type": "execute_result"
    }
   ],
   "source": [
    "import numpy as np\n",
    "a1=np.array([[[[1,2,3],[4,5,6],[5,6,7]]]])\n",
    "a1.shape"
   ]
  },
  {
   "cell_type": "code",
   "execution_count": 496,
   "id": "fc52b101",
   "metadata": {},
   "outputs": [
    {
     "data": {
      "text/plain": [
       "(1, 1, 3, 3, 3)"
      ]
     },
     "execution_count": 496,
     "metadata": {},
     "output_type": "execute_result"
    }
   ],
   "source": [
    "import numpy as np# create an array of 1,1,3,3,3\n",
    "a1=np.array([[[[[1,2,3],[1,1,1],[1,1,1]],[[1,1,1],[1,1,1],[1,1,1]],[[1,1,1],[1,1,1],[1,1,1]]]]])\n",
    "a1.shape"
   ]
  },
  {
   "cell_type": "code",
   "execution_count": 497,
   "id": "4544275c",
   "metadata": {},
   "outputs": [
    {
     "data": {
      "text/plain": [
       "5"
      ]
     },
     "execution_count": 497,
     "metadata": {},
     "output_type": "execute_result"
    }
   ],
   "source": [
    "a1.ndim  ##(rank and dimension are same)"
   ]
  },
  {
   "cell_type": "markdown",
   "id": "28239bf6",
   "metadata": {},
   "source": [
    "## size of array"
   ]
  },
  {
   "cell_type": "code",
   "execution_count": 499,
   "id": "7e340b67",
   "metadata": {},
   "outputs": [
    {
     "data": {
      "text/plain": [
       "(1, 4)"
      ]
     },
     "execution_count": 499,
     "metadata": {},
     "output_type": "execute_result"
    }
   ],
   "source": [
    "a=np.array([[20,30,40,50]])\n",
    "np.size(a)\n",
    "a.shape"
   ]
  },
  {
   "cell_type": "code",
   "execution_count": 500,
   "id": "44c57e61",
   "metadata": {},
   "outputs": [
    {
     "data": {
      "text/plain": [
       "2"
      ]
     },
     "execution_count": 500,
     "metadata": {},
     "output_type": "execute_result"
    }
   ],
   "source": [
    "a.ndim"
   ]
  },
  {
   "cell_type": "code",
   "execution_count": 501,
   "id": "37e804b5",
   "metadata": {},
   "outputs": [
    {
     "name": "stdout",
     "output_type": "stream",
     "text": [
      "1\n"
     ]
    }
   ],
   "source": [
    "print(np.size(a,axis=0))"
   ]
  },
  {
   "cell_type": "code",
   "execution_count": 502,
   "id": "e94b605f",
   "metadata": {},
   "outputs": [
    {
     "name": "stdout",
     "output_type": "stream",
     "text": [
      "8\n",
      "2\n",
      "4\n"
     ]
    }
   ],
   "source": [
    "a=np.array([[1,2,3,4],[4,5,6,7]])\n",
    "print(np.size(a))\n",
    "print(np.size(a,0))\n",
    "print(np.size(a,1))"
   ]
  },
  {
   "cell_type": "code",
   "execution_count": 503,
   "id": "e13c3c43",
   "metadata": {},
   "outputs": [
    {
     "name": "stdout",
     "output_type": "stream",
     "text": [
      "16\n"
     ]
    }
   ],
   "source": [
    "a=np.array([[[1,2,1,1],[1,2,3,4]],[[1,1,1,1],[1,1,1,1]]])\n",
    "print(np.size(a))"
   ]
  },
  {
   "cell_type": "markdown",
   "id": "874d5762",
   "metadata": {},
   "source": [
    "## itemsize: represent memoery occupied  by each  element in bytes"
   ]
  },
  {
   "cell_type": "code",
   "execution_count": 504,
   "id": "f0420923",
   "metadata": {},
   "outputs": [
    {
     "name": "stdout",
     "output_type": "stream",
     "text": [
      "int32\n",
      "4\n",
      "12\n"
     ]
    }
   ],
   "source": [
    "l=[1,2,3]\n",
    "a=np.array(l)\n",
    "print(a.dtype) ### int32 means 4bytes 4*8bytes =32 bits\n",
    "print(a.itemsize)\n",
    "print(a.size*a.itemsize) ## total memory occupied by array"
   ]
  },
  {
   "cell_type": "code",
   "execution_count": 505,
   "id": "4ce16f4d",
   "metadata": {},
   "outputs": [
    {
     "name": "stdout",
     "output_type": "stream",
     "text": [
      "[[1. 1. 1.]\n",
      " [1. 1. 1.]]\n"
     ]
    },
    {
     "data": {
      "text/plain": [
       "dtype('float64')"
      ]
     },
     "execution_count": 505,
     "metadata": {},
     "output_type": "execute_result"
    }
   ],
   "source": [
    "a=np.ones((2,3))\n",
    "print(a)\n",
    "a.dtype ## by default : float"
   ]
  },
  {
   "cell_type": "code",
   "execution_count": 506,
   "id": "6a8a12fd",
   "metadata": {},
   "outputs": [
    {
     "name": "stdout",
     "output_type": "stream",
     "text": [
      "[[[1.]\n",
      "  [1.]\n",
      "  [1.]]\n",
      "\n",
      " [[1.]\n",
      "  [1.]\n",
      "  [1.]]]\n"
     ]
    },
    {
     "data": {
      "text/plain": [
       "dtype('float64')"
      ]
     },
     "execution_count": 506,
     "metadata": {},
     "output_type": "execute_result"
    }
   ],
   "source": [
    "a=np.ones((2,3,1)) ## to create array of shape (2,3,1)\n",
    "print(a)\n",
    "a.dtype"
   ]
  },
  {
   "cell_type": "markdown",
   "id": "2ca6abd0",
   "metadata": {},
   "source": [
    "## 'ASTYPE : CONVERT THA EXISTING DTYPE TO ANOTHER"
   ]
  },
  {
   "cell_type": "code",
   "execution_count": 507,
   "id": "319906c5",
   "metadata": {},
   "outputs": [
    {
     "data": {
      "text/plain": [
       "array([[[1],\n",
       "        [1],\n",
       "        [1]],\n",
       "\n",
       "       [[1],\n",
       "        [1],\n",
       "        [1]]])"
      ]
     },
     "execution_count": 507,
     "metadata": {},
     "output_type": "execute_result"
    }
   ],
   "source": [
    "a1=a.astype(\"int\") ### float to int\n",
    "a1\n"
   ]
  },
  {
   "cell_type": "code",
   "execution_count": 508,
   "id": "0b3d4ea2",
   "metadata": {},
   "outputs": [
    {
     "name": "stdout",
     "output_type": "stream",
     "text": [
      "856\n",
      "4\n",
      "list takes : 85600 bytes\n",
      "array takes :  400 bytes\n"
     ]
    }
   ],
   "source": [
    "import sys\n",
    "l=list(range(100))\n",
    "a=np.arange(100)\n",
    "print(sys.getsizeof(l))\n",
    "print(a.itemsize)\n",
    "print(\"list takes :\",sys.getsizeof(l)*len(l),\"bytes\")  ##ys.getsizeof(l) : size of each element in the list\n",
    "print(\"array takes : \",a.itemsize*a.size,\"bytes\" ) ## itemsize: size of each element in the array.\n",
    "\n"
   ]
  },
  {
   "cell_type": "markdown",
   "id": "c3b216d7",
   "metadata": {},
   "source": [
    "## Array indexing"
   ]
  },
  {
   "cell_type": "code",
   "execution_count": 509,
   "id": "a317d28d",
   "metadata": {},
   "outputs": [
    {
     "data": {
      "text/plain": [
       "array([1, 4])"
      ]
     },
     "execution_count": 509,
     "metadata": {},
     "output_type": "execute_result"
    }
   ],
   "source": [
    "a=np.array([1,2,3,4])\n",
    "a[0:4:3]"
   ]
  },
  {
   "cell_type": "code",
   "execution_count": 510,
   "id": "39b744f1",
   "metadata": {},
   "outputs": [
    {
     "data": {
      "text/plain": [
       "array([2, 3, 4, 5, 6])"
      ]
     },
     "execution_count": 510,
     "metadata": {},
     "output_type": "execute_result"
    }
   ],
   "source": [
    "a=np.array([[2,3,4,5,6],[7,8,9,0,90],[20,30,40,50,90]])\n",
    "a[0]"
   ]
  },
  {
   "cell_type": "code",
   "execution_count": 511,
   "id": "57b38244",
   "metadata": {},
   "outputs": [
    {
     "data": {
      "text/plain": [
       "array([20, 30, 40, 50, 90])"
      ]
     },
     "execution_count": 511,
     "metadata": {},
     "output_type": "execute_result"
    }
   ],
   "source": [
    "a[-1]"
   ]
  },
  {
   "cell_type": "code",
   "execution_count": 512,
   "id": "afae89f5",
   "metadata": {},
   "outputs": [
    {
     "data": {
      "text/plain": [
       "40"
      ]
     },
     "execution_count": 512,
     "metadata": {},
     "output_type": "execute_result"
    }
   ],
   "source": [
    "a[-1][2]"
   ]
  },
  {
   "cell_type": "code",
   "execution_count": 513,
   "id": "f1b1ae2c",
   "metadata": {},
   "outputs": [
    {
     "data": {
      "text/plain": [
       "array([50, 90])"
      ]
     },
     "execution_count": 513,
     "metadata": {},
     "output_type": "execute_result"
    }
   ],
   "source": [
    "a[-1][3:]"
   ]
  },
  {
   "cell_type": "code",
   "execution_count": 514,
   "id": "b55ca846",
   "metadata": {},
   "outputs": [
    {
     "data": {
      "text/plain": [
       "array([2, 3, 4, 5, 6])"
      ]
     },
     "execution_count": 514,
     "metadata": {},
     "output_type": "execute_result"
    }
   ],
   "source": [
    "a=np.array([[2,3,4,5,6],[7,8,9,0,90],[20,30,40,50,90]])\n",
    "a[0]"
   ]
  },
  {
   "cell_type": "code",
   "execution_count": 515,
   "id": "95931ebe",
   "metadata": {},
   "outputs": [
    {
     "data": {
      "text/plain": [
       "array([[ 2,  3,  4,  5,  6],\n",
       "       [20, 30, 40, 50, 90]])"
      ]
     },
     "execution_count": 515,
     "metadata": {},
     "output_type": "execute_result"
    }
   ],
   "source": [
    "a[0:3:2,:]"
   ]
  },
  {
   "cell_type": "code",
   "execution_count": 516,
   "id": "65d3d757",
   "metadata": {},
   "outputs": [
    {
     "data": {
      "text/plain": [
       "array([[ 2,  3,  4,  5,  6],\n",
       "       [ 7,  8,  9,  0, 90],\n",
       "       [20, 30, 40, 50, 90]])"
      ]
     },
     "execution_count": 516,
     "metadata": {},
     "output_type": "execute_result"
    }
   ],
   "source": [
    "a"
   ]
  },
  {
   "cell_type": "code",
   "execution_count": 517,
   "id": "996c8234",
   "metadata": {},
   "outputs": [
    {
     "data": {
      "text/plain": [
       "array([[ 8,  9],\n",
       "       [30, 40]])"
      ]
     },
     "execution_count": 517,
     "metadata": {},
     "output_type": "execute_result"
    }
   ],
   "source": [
    "a[1:,1:3]"
   ]
  },
  {
   "cell_type": "code",
   "execution_count": 518,
   "id": "4dda3050",
   "metadata": {},
   "outputs": [
    {
     "name": "stdout",
     "output_type": "stream",
     "text": [
      "[[ 2  3  4  5  6]\n",
      " [ 7  8  9  0 90]\n",
      " [20 30 40 50 90]]\n",
      "[2 3 4 5 6]\n",
      "[ 7  8  9  0 90]\n",
      "[20 30 40 50 90]\n",
      "[20 30 40 50 90]\n",
      "4\n",
      "[ 9  0 90]\n",
      "7\n",
      "[ 4  9 40]\n",
      "[[ 4  5  6]\n",
      " [ 9  0 90]]\n",
      "[9]\n",
      "[[ 4  6]\n",
      " [40 90]]\n",
      "[[ 3  5]\n",
      " [30 50]]\n"
     ]
    }
   ],
   "source": [
    "a=np.array([[2,3,4,5,6],[7,8,9,0,90],[20,30,40,50,90]])  # 2d array  here , \n",
    "print(a)\n",
    "print(a[0]) #or print(a[-3]) means first row\n",
    "print(a[1]) #or print(a[-2]) means second row\n",
    "print(a[2]) #or print(a[-1]) means third row\n",
    "print(a[-1]) # or print(a[2])  means  last row\n",
    "print(a[0][2]) # fetch 4\n",
    "print(a[1][2:]) # 9,0,90\n",
    "print(a[-2][0])  # fetch 7\n",
    "print(a[:,2])  ## all rows with 2nd column  (discontinous manner)\n",
    "print(a[0:2,2:]) ## ist and 2nd rows with columns from 2nd(disconinous manner)\n",
    "print(a[1,2:3])\n",
    "print(a[0:3:2,2:5:2]) ## feth 4,6 40 ,90\n",
    "#print(a[[0,2],[1,3]])\n",
    "print(a[0:3:2,1:4:2]) ## fetch 3, 30 5 and 50\n",
    " \n"
   ]
  },
  {
   "cell_type": "code",
   "execution_count": 519,
   "id": "2f48de02",
   "metadata": {},
   "outputs": [
    {
     "data": {
      "text/plain": [
       "array([[[['pizza', 'sweet corn', 'coffee', 'lemonade']]]], dtype='<U10')"
      ]
     },
     "execution_count": 519,
     "metadata": {},
     "output_type": "execute_result"
    }
   ],
   "source": [
    "a=np.array([[[[[[[[\"pizza\",\"sweet corn\",\"coffee\",\"lemonade\"]]]]]]]])\n",
    "a[0][0][0][-1]"
   ]
  },
  {
   "cell_type": "code",
   "execution_count": 520,
   "id": "7df34fe4",
   "metadata": {},
   "outputs": [
    {
     "name": "stdout",
     "output_type": "stream",
     "text": [
      "pizza\n"
     ]
    }
   ],
   "source": [
    "print(a[0][0][0][0][0][0][0][0])\n"
   ]
  },
  {
   "cell_type": "code",
   "execution_count": 521,
   "id": "62a34af1",
   "metadata": {},
   "outputs": [
    {
     "data": {
      "text/plain": [
       "98"
      ]
     },
     "execution_count": 521,
     "metadata": {},
     "output_type": "execute_result"
    }
   ],
   "source": [
    "a=np.array([[[[[1,2,3,50,],[4,5,6,90],[7,8,9,99],[11,12,3,98]]]]])\n",
    "a[0][0][0][-1][-1]"
   ]
  },
  {
   "cell_type": "code",
   "execution_count": 522,
   "id": "8346c9d1",
   "metadata": {},
   "outputs": [
    {
     "data": {
      "text/plain": [
       "98"
      ]
     },
     "execution_count": 522,
     "metadata": {},
     "output_type": "execute_result"
    }
   ],
   "source": [
    "a[0][0][0][3][-1]"
   ]
  },
  {
   "cell_type": "code",
   "execution_count": 523,
   "id": "493cb5a7",
   "metadata": {},
   "outputs": [
    {
     "data": {
      "text/plain": [
       "array([ 3, 50])"
      ]
     },
     "execution_count": 523,
     "metadata": {},
     "output_type": "execute_result"
    }
   ],
   "source": [
    "a[0][0][0][0][2:]"
   ]
  },
  {
   "cell_type": "code",
   "execution_count": 524,
   "id": "cf9f6781",
   "metadata": {},
   "outputs": [
    {
     "data": {
      "text/plain": [
       "19"
      ]
     },
     "execution_count": 524,
     "metadata": {},
     "output_type": "execute_result"
    }
   ],
   "source": [
    "a=np.array([[[[1,2,3,4,5],[6,7,8,9,0],[11,12,13,14,15],[16,17,18,19,20]]]])\n",
    "\n",
    "a[0][0][-1][-2]"
   ]
  },
  {
   "cell_type": "code",
   "execution_count": 525,
   "id": "8ec211ef",
   "metadata": {},
   "outputs": [
    {
     "data": {
      "text/plain": [
       "array([13, 15])"
      ]
     },
     "execution_count": 525,
     "metadata": {},
     "output_type": "execute_result"
    }
   ],
   "source": [
    "a[0][0][2][2:5:2]"
   ]
  },
  {
   "cell_type": "code",
   "execution_count": 526,
   "id": "3a56dff9",
   "metadata": {},
   "outputs": [
    {
     "data": {
      "text/plain": [
       "array([7, 8, 9])"
      ]
     },
     "execution_count": 526,
     "metadata": {},
     "output_type": "execute_result"
    }
   ],
   "source": [
    "import numpy as np\n",
    "arr = np.array([[[1, 2, 3], [4, 5, 6]], [[7, 8, 9], [10, 11, 12]]])\n",
    "arr[1][0]"
   ]
  },
  {
   "cell_type": "code",
   "execution_count": 527,
   "id": "eff44c71",
   "metadata": {},
   "outputs": [
    {
     "data": {
      "text/plain": [
       "array([8, 9])"
      ]
     },
     "execution_count": 527,
     "metadata": {},
     "output_type": "execute_result"
    }
   ],
   "source": [
    "arr[1][0][1:3]"
   ]
  },
  {
   "cell_type": "code",
   "execution_count": 528,
   "id": "f309b6fc",
   "metadata": {},
   "outputs": [
    {
     "data": {
      "text/plain": [
       "array([11, 12])"
      ]
     },
     "execution_count": 528,
     "metadata": {},
     "output_type": "execute_result"
    }
   ],
   "source": [
    "arr[1][1][1:3]"
   ]
  },
  {
   "cell_type": "code",
   "execution_count": 529,
   "id": "a68a88c8",
   "metadata": {},
   "outputs": [
    {
     "data": {
      "text/plain": [
       "array([[[ 1,  2,  3],\n",
       "        [ 4,  5,  6]],\n",
       "\n",
       "       [[ 7,  8,  9],\n",
       "        [10, 11, 12]]])"
      ]
     },
     "execution_count": 529,
     "metadata": {},
     "output_type": "execute_result"
    }
   ],
   "source": [
    "arr"
   ]
  },
  {
   "cell_type": "code",
   "execution_count": 530,
   "id": "d2a0296f",
   "metadata": {},
   "outputs": [
    {
     "data": {
      "text/plain": [
       "array([[ 8,  9],\n",
       "       [11, 12]])"
      ]
     },
     "execution_count": 530,
     "metadata": {},
     "output_type": "execute_result"
    }
   ],
   "source": [
    "arr[1][:,1:]"
   ]
  },
  {
   "cell_type": "markdown",
   "id": "171e2d7b",
   "metadata": {},
   "source": [
    "## Indexing with boolean: from EDA point  of view"
   ]
  },
  {
   "cell_type": "code",
   "execution_count": 531,
   "id": "ce81b57f",
   "metadata": {},
   "outputs": [
    {
     "data": {
      "text/plain": [
       "array([[ 20,  30,  60],\n",
       "       [ 40,  80,  90],\n",
       "       [ 70,  90, 100]])"
      ]
     },
     "execution_count": 531,
     "metadata": {},
     "output_type": "execute_result"
    }
   ],
   "source": [
    "a=np.array([[20,30,60],[40,80,90],[70,90,100]])\n",
    "a"
   ]
  },
  {
   "cell_type": "code",
   "execution_count": 532,
   "id": "5041ca79",
   "metadata": {},
   "outputs": [
    {
     "data": {
      "text/plain": [
       "array([[ True,  True, False],\n",
       "       [False, False, False],\n",
       "       [False, False, False]])"
      ]
     },
     "execution_count": 532,
     "metadata": {},
     "output_type": "execute_result"
    }
   ],
   "source": [
    "a<40"
   ]
  },
  {
   "cell_type": "code",
   "execution_count": 533,
   "id": "ac872b30",
   "metadata": {},
   "outputs": [
    {
     "data": {
      "text/plain": [
       "array([[ True,  True, False],\n",
       "       [False, False, False],\n",
       "       [False, False, False]])"
      ]
     },
     "execution_count": 533,
     "metadata": {},
     "output_type": "execute_result"
    }
   ],
   "source": [
    "x=a<40\n",
    "x"
   ]
  },
  {
   "cell_type": "code",
   "execution_count": 534,
   "id": "fdcef197",
   "metadata": {},
   "outputs": [
    {
     "data": {
      "text/plain": [
       "array([20, 30])"
      ]
     },
     "execution_count": 534,
     "metadata": {},
     "output_type": "execute_result"
    }
   ],
   "source": [
    "a[x]"
   ]
  },
  {
   "cell_type": "code",
   "execution_count": 535,
   "id": "79218ae6",
   "metadata": {},
   "outputs": [
    {
     "data": {
      "text/plain": [
       "array([20, 30])"
      ]
     },
     "execution_count": 535,
     "metadata": {},
     "output_type": "execute_result"
    }
   ],
   "source": [
    "a[a<40]"
   ]
  },
  {
   "cell_type": "code",
   "execution_count": 536,
   "id": "d1d36992",
   "metadata": {},
   "outputs": [
    {
     "data": {
      "text/plain": [
       "array([['85', '85', 'nothing'],\n",
       "       ['nothing', 'nothing', 'nothing'],\n",
       "       ['nothing', 'nothing', 'nothing']], dtype='<U7')"
      ]
     },
     "execution_count": 536,
     "metadata": {},
     "output_type": "execute_result"
    }
   ],
   "source": [
    "np.where(a<40,\"85\",\"nothing\")"
   ]
  },
  {
   "cell_type": "markdown",
   "id": "85c651c0",
   "metadata": {},
   "source": [
    "## Double array (multi condition)"
   ]
  },
  {
   "cell_type": "code",
   "execution_count": 537,
   "id": "1363e4ba",
   "metadata": {},
   "outputs": [
    {
     "data": {
      "text/plain": [
       "array([ 60,  80,  90,  70,  90, 100])"
      ]
     },
     "execution_count": 537,
     "metadata": {},
     "output_type": "execute_result"
    }
   ],
   "source": [
    "a[(a%2==0)&(a>40)]   ### And condition\n"
   ]
  },
  {
   "cell_type": "code",
   "execution_count": 538,
   "id": "7ab07048",
   "metadata": {},
   "outputs": [
    {
     "data": {
      "text/plain": [
       "array([ 20,  30,  60,  40,  80,  90,  70,  90, 100])"
      ]
     },
     "execution_count": 538,
     "metadata": {},
     "output_type": "execute_result"
    }
   ],
   "source": [
    "a[(a%2==0)|(a>40)]   ### Or condition\n"
   ]
  },
  {
   "cell_type": "code",
   "execution_count": 539,
   "id": "d58d3d33",
   "metadata": {},
   "outputs": [
    {
     "data": {
      "text/plain": [
       "array([ 20,  30,  60,  40,  80,  90,  70,  90, 100])"
      ]
     },
     "execution_count": 539,
     "metadata": {},
     "output_type": "execute_result"
    }
   ],
   "source": [
    "a[((a>40)|(a%2==0))]   ### Or condition\n"
   ]
  },
  {
   "cell_type": "code",
   "execution_count": 540,
   "id": "ab00b972",
   "metadata": {},
   "outputs": [
    {
     "data": {
      "text/plain": [
       "4"
      ]
     },
     "execution_count": 540,
     "metadata": {},
     "output_type": "execute_result"
    }
   ],
   "source": [
    "a=[[[[2,3,4,5],[40,50,60,90]]]]\n",
    "a=np.array(a)\n",
    "a.ndim\n"
   ]
  },
  {
   "cell_type": "markdown",
   "id": "cbd0098c",
   "metadata": {},
   "source": []
  },
  {
   "cell_type": "code",
   "execution_count": 541,
   "id": "06cef8e3",
   "metadata": {},
   "outputs": [
    {
     "data": {
      "text/plain": [
       "array([ 3, 50])"
      ]
     },
     "execution_count": 541,
     "metadata": {},
     "output_type": "execute_result"
    }
   ],
   "source": [
    "a[0][0][ :,1]  ##,a[0][0][1][1:2]"
   ]
  },
  {
   "cell_type": "code",
   "execution_count": 542,
   "id": "1a31053f",
   "metadata": {},
   "outputs": [
    {
     "data": {
      "text/plain": [
       "array([ 3, 90])"
      ]
     },
     "execution_count": 542,
     "metadata": {},
     "output_type": "execute_result"
    }
   ],
   "source": [
    "a[0][0][[0,1],[1,3]]  ##,a[0][0][1][1:2]"
   ]
  },
  {
   "cell_type": "code",
   "execution_count": 543,
   "id": "feb97f21",
   "metadata": {},
   "outputs": [
    {
     "data": {
      "text/plain": [
       "array([ 3, 60])"
      ]
     },
     "execution_count": 543,
     "metadata": {},
     "output_type": "execute_result"
    }
   ],
   "source": [
    "a[0][0][[0,1],[1,2]]"
   ]
  },
  {
   "cell_type": "code",
   "execution_count": 544,
   "id": "db2d92f7",
   "metadata": {},
   "outputs": [
    {
     "data": {
      "text/plain": [
       "array([ 3, 90])"
      ]
     },
     "execution_count": 544,
     "metadata": {},
     "output_type": "execute_result"
    }
   ],
   "source": [
    "a[0][0][[0,1],[1,-1]]"
   ]
  },
  {
   "cell_type": "code",
   "execution_count": 545,
   "id": "fe565786",
   "metadata": {},
   "outputs": [
    {
     "data": {
      "text/plain": [
       "array([ 3, 90])"
      ]
     },
     "execution_count": 545,
     "metadata": {},
     "output_type": "execute_result"
    }
   ],
   "source": [
    "a[0][0][[0,1],[1,3]]  ##,a[0][0][1][1:2]"
   ]
  },
  {
   "cell_type": "code",
   "execution_count": 546,
   "id": "637731a6",
   "metadata": {},
   "outputs": [
    {
     "data": {
      "text/plain": [
       "array([ 5, 90])"
      ]
     },
     "execution_count": 546,
     "metadata": {},
     "output_type": "execute_result"
    }
   ],
   "source": [
    "a[0][0][ :,-1]"
   ]
  },
  {
   "cell_type": "code",
   "execution_count": 547,
   "id": "ca120a72",
   "metadata": {},
   "outputs": [
    {
     "data": {
      "text/plain": [
       "array([60, 90])"
      ]
     },
     "execution_count": 547,
     "metadata": {},
     "output_type": "execute_result"
    }
   ],
   "source": [
    "a[0][0][1,2:]"
   ]
  },
  {
   "cell_type": "code",
   "execution_count": 548,
   "id": "fe23228f",
   "metadata": {},
   "outputs": [
    {
     "data": {
      "text/plain": [
       "array([[[[ 2,  3,  4,  5],\n",
       "         [40, 50, 60, 90]]]])"
      ]
     },
     "execution_count": 548,
     "metadata": {},
     "output_type": "execute_result"
    }
   ],
   "source": [
    "a"
   ]
  },
  {
   "cell_type": "code",
   "execution_count": 549,
   "id": "e398c98f",
   "metadata": {},
   "outputs": [
    {
     "name": "stdout",
     "output_type": "stream",
     "text": [
      "[ 5 90]\n"
     ]
    }
   ],
   "source": [
    "print(a[0][0][:,3])"
   ]
  },
  {
   "cell_type": "code",
   "execution_count": 550,
   "id": "b069ab51",
   "metadata": {},
   "outputs": [
    {
     "data": {
      "text/plain": [
       "array([[ 1,  2,  3, 12],\n",
       "       [ 4,  5,  6,  0],\n",
       "       [ 6,  7,  8,  9]])"
      ]
     },
     "execution_count": 550,
     "metadata": {},
     "output_type": "execute_result"
    }
   ],
   "source": [
    "a=np.array([[1,2,3,12],[4,5,6,0],[6,7,8,9]])\n",
    "a"
   ]
  },
  {
   "cell_type": "code",
   "execution_count": 551,
   "id": "a8faf79d",
   "metadata": {},
   "outputs": [
    {
     "data": {
      "text/plain": [
       "array([6, 7])"
      ]
     },
     "execution_count": 551,
     "metadata": {},
     "output_type": "execute_result"
    }
   ],
   "source": [
    "a[2,[0,1,]]"
   ]
  },
  {
   "cell_type": "markdown",
   "id": "28ee7497",
   "metadata": {},
   "source": [
    "## iteration  ( using : np.nditer())"
   ]
  },
  {
   "cell_type": "code",
   "execution_count": 554,
   "id": "e2608fdf",
   "metadata": {},
   "outputs": [
    {
     "name": "stdout",
     "output_type": "stream",
     "text": [
      "[[2 3 4]\n",
      " [5 6 7]]\n"
     ]
    }
   ],
   "source": [
    "a=np.array([[2,3,4],[5,6,7]])  \n",
    "print(a)"
   ]
  },
  {
   "cell_type": "code",
   "execution_count": 555,
   "id": "7426bcac",
   "metadata": {},
   "outputs": [
    {
     "name": "stdout",
     "output_type": "stream",
     "text": [
      "2\n",
      "3\n",
      "4\n",
      "5\n",
      "6\n",
      "7\n"
     ]
    }
   ],
   "source": [
    "for i in np.nditer(a):\n",
    "    print(i)"
   ]
  },
  {
   "cell_type": "markdown",
   "id": "b20aa939",
   "metadata": {},
   "source": [
    "## COPY and VIEW:"
   ]
  },
  {
   "cell_type": "code",
   "execution_count": 556,
   "id": "14f4ddc2",
   "metadata": {},
   "outputs": [
    {
     "name": "stdout",
     "output_type": "stream",
     "text": [
      "copy---- [ 2  3  4 70]\n",
      "original array [2 3 4 5]\n"
     ]
    }
   ],
   "source": [
    "a=np.array([2,3,4,5])\n",
    "a1=a.copy()   ## deep copy\n",
    "a1[3]=70\n",
    "print(\"copy----\",a1)\n",
    "print(\"original array\",a)"
   ]
  },
  {
   "cell_type": "code",
   "execution_count": 557,
   "id": "8504b064",
   "metadata": {},
   "outputs": [
    {
     "name": "stdout",
     "output_type": "stream",
     "text": [
      "copy---- [ 2  3  4 70]\n",
      "original array [ 2  3  4 70]\n"
     ]
    }
   ],
   "source": [
    "a=np.array([2,3,4,5])\n",
    "a1=a.view()  ### shalow copy\n",
    "a1[3]=70\n",
    "print(\"copy----\",a1)\n",
    "print(\"original array\",a)"
   ]
  },
  {
   "cell_type": "code",
   "execution_count": 558,
   "id": "00fd89ec",
   "metadata": {},
   "outputs": [
    {
     "name": "stdout",
     "output_type": "stream",
     "text": [
      "[  2   3 700   5]\n",
      "[2 3 4 5]\n"
     ]
    }
   ],
   "source": [
    "a=np.array([2,3,4,5])\n",
    "a2=a.copy()            ###  implicitly view occure\n",
    "a2[2]=\"700\"\n",
    "print(a2)\n",
    "print(a)"
   ]
  },
  {
   "cell_type": "markdown",
   "id": "46f4ac35",
   "metadata": {},
   "source": [
    "## (reshape behaves like deep copy0  (resize behaves like a view)"
   ]
  },
  {
   "cell_type": "code",
   "execution_count": 559,
   "id": "fd5aa1fc",
   "metadata": {},
   "outputs": [
    {
     "data": {
      "text/plain": [
       "array([[1, 2, 3, 4, 5, 6],\n",
       "       [1, 2, 3, 4, 5, 6]])"
      ]
     },
     "execution_count": 559,
     "metadata": {},
     "output_type": "execute_result"
    }
   ],
   "source": [
    "x=np.array([[1,2,3,4,5,6],[1,2,3,4,5,6]])\n",
    "x"
   ]
  },
  {
   "cell_type": "code",
   "execution_count": 560,
   "id": "f9812be6",
   "metadata": {},
   "outputs": [
    {
     "name": "stdout",
     "output_type": "stream",
     "text": [
      "12\n",
      "(2, 6)\n"
     ]
    },
    {
     "data": {
      "text/plain": [
       "2"
      ]
     },
     "execution_count": 560,
     "metadata": {},
     "output_type": "execute_result"
    }
   ],
   "source": [
    "print(x.size)\n",
    "print(x.shape)\n",
    "x.ndim"
   ]
  },
  {
   "cell_type": "markdown",
   "id": "d7e298bc",
   "metadata": {},
   "source": [
    "### how we rep (2,6) as(6,2),(3,4),(4,3),(12,1),(1,12)"
   ]
  },
  {
   "cell_type": "code",
   "execution_count": 561,
   "id": "ab8df90c",
   "metadata": {},
   "outputs": [
    {
     "name": "stdout",
     "output_type": "stream",
     "text": [
      "deep copy [[1 2 3 4 5 6 1 2 3 4 5 6]]\n",
      "origion copy [[1 2 3 4 5 6]\n",
      " [1 2 3 4 5 6]]\n"
     ]
    }
   ],
   "source": [
    "x1=x.reshape(1,12)\n",
    "print(\"deep copy\",x1)\n",
    "print(\"origion copy\",x)"
   ]
  },
  {
   "cell_type": "code",
   "execution_count": 562,
   "id": "0aec0942",
   "metadata": {},
   "outputs": [
    {
     "name": "stdout",
     "output_type": "stream",
     "text": [
      "deep copy [[1 2]\n",
      " [3 4]\n",
      " [5 6]\n",
      " [1 2]\n",
      " [3 4]\n",
      " [5 6]]\n",
      "origion copy [[1 2 3 4 5 6]\n",
      " [1 2 3 4 5 6]]\n"
     ]
    }
   ],
   "source": [
    "x1=x.reshape(6,2)\n",
    "print(\"deep copy\",x1)\n",
    "print(\"origion copy\",x)"
   ]
  },
  {
   "cell_type": "code",
   "execution_count": 563,
   "id": "71b90e8e",
   "metadata": {},
   "outputs": [
    {
     "name": "stdout",
     "output_type": "stream",
     "text": [
      "deep copy None\n",
      "origion copy [[1 2 3 4 5 6 1 2 3 4 5 6]]\n"
     ]
    }
   ],
   "source": [
    "x1=x.resize(1,12)\n",
    "print(\"deep copy\",x1)\n",
    "print(\"origion copy\",x)"
   ]
  },
  {
   "cell_type": "code",
   "execution_count": 564,
   "id": "901b7ac0",
   "metadata": {},
   "outputs": [
    {
     "name": "stdout",
     "output_type": "stream",
     "text": [
      "deep copy [[1 2 3 4]\n",
      " [5 6 1 2]\n",
      " [3 4 5 6]]\n",
      "origion copy [[1 2 3 4 5 6 1 2 3 4 5 6]]\n"
     ]
    }
   ],
   "source": [
    "x1=x.reshape(3,4)\n",
    "print(\"deep copy\",x1)\n",
    "print(\"origion copy\",x)"
   ]
  },
  {
   "cell_type": "code",
   "execution_count": 565,
   "id": "60909cf5",
   "metadata": {},
   "outputs": [
    {
     "name": "stdout",
     "output_type": "stream",
     "text": [
      "deep copy [[1 2 3 4 5 6]\n",
      " [1 2 3 4 5 6]]\n",
      "origion copy [[1 2 3 4 5 6 1 2 3 4 5 6]]\n"
     ]
    }
   ],
   "source": [
    "x1=x.reshape(2,6)\n",
    "print(\"deep copy\",x1)\n",
    "print(\"origion copy\",x)"
   ]
  },
  {
   "cell_type": "code",
   "execution_count": 566,
   "id": "989ee95a",
   "metadata": {},
   "outputs": [
    {
     "name": "stdout",
     "output_type": "stream",
     "text": [
      "[1 2 3 4 5 6 7 8]\n"
     ]
    }
   ],
   "source": [
    "arr = np.array([1, 2, 3, 4, 5, 6, 7, 8])\n",
    "\n",
    "print(arr)\n",
    "\n",
    "newarr = arr.reshape(2, 2, -1)\n",
    "arr = np.array([1, 2, 3, 4, 5, 6, 7, 8])\n",
    "\n"
   ]
  },
  {
   "cell_type": "markdown",
   "id": "367d5737",
   "metadata": {},
   "source": [
    "## (**flatten()  its treats as deep copy)  (**reshape(-1)) ( **ravel()  its treats as shalow copy)"
   ]
  },
  {
   "cell_type": "code",
   "execution_count": 567,
   "id": "aef1fcb9",
   "metadata": {},
   "outputs": [
    {
     "name": "stdout",
     "output_type": "stream",
     "text": [
      "1d---- [1 2 3 4 5 6]\n",
      "2d---- [[1 2 3]\n",
      " [4 5 6]]\n"
     ]
    }
   ],
   "source": [
    "arr=np.array([[1,2,3],[4,5,6,]])\n",
    "arr1=arr.ravel()\n",
    "print(\"1d----\",arr1)\n",
    "print(\"2d----\",arr)"
   ]
  },
  {
   "cell_type": "code",
   "execution_count": 568,
   "id": "5fefa517",
   "metadata": {},
   "outputs": [
    {
     "name": "stdout",
     "output_type": "stream",
     "text": [
      "ravel shalow copy== [  1   2   3 700   5   6]\n",
      "2d== [[  1   2   3]\n",
      " [700   5   6]]\n"
     ]
    }
   ],
   "source": [
    "arr1[3]=700\n",
    "print(\"ravel shalow copy==\",arr1)\n",
    "print(\"2d==\",arr)"
   ]
  },
  {
   "cell_type": "code",
   "execution_count": 244,
   "id": "97be606d",
   "metadata": {},
   "outputs": [
    {
     "name": "stdout",
     "output_type": "stream",
     "text": [
      "flatten shalow copy== [  1   2   3 700   5   6]\n",
      "2d== [[  1   2   3]\n",
      " [700   5   6]]\n"
     ]
    }
   ],
   "source": [
    "arr1[3]=700\n",
    "print(\"flatten shalow copy==\",arr1)\n",
    "print(\"2d==\",arr)"
   ]
  },
  {
   "cell_type": "code",
   "execution_count": 245,
   "id": "aae3eb76",
   "metadata": {},
   "outputs": [
    {
     "name": "stdout",
     "output_type": "stream",
     "text": [
      "1d---- [1 2 3 4 5 6]\n",
      "2d---- [[1 2 3]\n",
      " [4 5 6]]\n"
     ]
    }
   ],
   "source": [
    "arr=np.array([[1,2,3],[4,5,6,]])\n",
    "arr1=arr.flatten()\n",
    "print(\"1d----\",arr1)\n",
    "print(\"2d----\",arr)"
   ]
  },
  {
   "cell_type": "code",
   "execution_count": 246,
   "id": "0cab84ba",
   "metadata": {},
   "outputs": [
    {
     "name": "stdout",
     "output_type": "stream",
     "text": [
      "flatten shalow copy== [  1   2   3 700   5   6]\n",
      "2d== [[1 2 3]\n",
      " [4 5 6]]\n"
     ]
    }
   ],
   "source": [
    "arr1[3]=700\n",
    "print(\"flatten shalow copy==\",arr1)\n",
    "print(\"2d==\",arr)"
   ]
  },
  {
   "cell_type": "code",
   "execution_count": 249,
   "id": "e792c861",
   "metadata": {},
   "outputs": [
    {
     "name": "stdout",
     "output_type": "stream",
     "text": [
      "1d---- [[1 2 3]\n",
      " [4 5 6]]\n",
      "2d---- [[1 2 3]\n",
      " [4 5 6]]\n"
     ]
    }
   ],
   "source": [
    "arr=np.array([[1,2,3],[4,5,6,]])\n",
    "arr1=arr\n",
    "print(\"1d----\",arr1)\n",
    "\n",
    "print(\"2d----\",arr)"
   ]
  },
  {
   "cell_type": "markdown",
   "id": "a4822448",
   "metadata": {},
   "source": [
    "## arange()"
   ]
  },
  {
   "cell_type": "code",
   "execution_count": 251,
   "id": "35da1118",
   "metadata": {},
   "outputs": [
    {
     "data": {
      "text/plain": [
       "array([ 1,  2,  3,  4,  5,  6,  7,  8,  9, 10])"
      ]
     },
     "execution_count": 251,
     "metadata": {},
     "output_type": "execute_result"
    }
   ],
   "source": [
    "a=np.arange(1,11)\n",
    "a"
   ]
  },
  {
   "cell_type": "code",
   "execution_count": 252,
   "id": "5a7a7b30",
   "metadata": {},
   "outputs": [
    {
     "data": {
      "text/plain": [
       "array([ 0,  5, 10, 15, 20, 25, 30, 35, 40, 45])"
      ]
     },
     "execution_count": 252,
     "metadata": {},
     "output_type": "execute_result"
    }
   ],
   "source": [
    "a=np.arange(0,50,5)\n",
    "a"
   ]
  },
  {
   "cell_type": "code",
   "execution_count": 253,
   "id": "6697b0e6",
   "metadata": {},
   "outputs": [
    {
     "name": "stdout",
     "output_type": "stream",
     "text": [
      "[ 1  2  3  4  5  6  7  8  9 10]\n",
      "[1 3 5 7 9]\n",
      "[ 1.1  1.3  1.5  1.7  1.9  2.1  2.3  2.5  2.7  2.9  3.1  3.3  3.5  3.7\n",
      "  3.9  4.1  4.3  4.5  4.7  4.9  5.1  5.3  5.5  5.7  5.9  6.1  6.3  6.5\n",
      "  6.7  6.9  7.1  7.3  7.5  7.7  7.9  8.1  8.3  8.5  8.7  8.9  9.1  9.3\n",
      "  9.5  9.7  9.9 10.1 10.3 10.5 10.7 10.9 11.1]\n"
     ]
    }
   ],
   "source": [
    "a=np.arange(1,11)\n",
    "print(a)\n",
    "a1=np.arange(1,11,2)\n",
    "print(a1)\n",
    "a2=np.arange(1.1,11.2,0.2)\n",
    "print(a2)\n",
    "#a2 = np.reshape(2, -1, 2)\n",
    "#newarr2 = arr.reshape(-1, 2, 2)\n",
    "\n"
   ]
  },
  {
   "cell_type": "markdown",
   "id": "a1ff2eb4",
   "metadata": {},
   "source": [
    "#### linespace()   :  creates"
   ]
  },
  {
   "cell_type": "code",
   "execution_count": 254,
   "id": "1db9d795",
   "metadata": {},
   "outputs": [
    {
     "data": {
      "text/plain": [
       "array([-30.        , -23.33333333, -16.66666667, -10.        ,\n",
       "        -3.33333333,   3.33333333,  10.        ,  16.66666667,\n",
       "        23.33333333,  30.        ])"
      ]
     },
     "execution_count": 254,
     "metadata": {},
     "output_type": "execute_result"
    }
   ],
   "source": [
    "a=np.linspace(-30,30,10) ##behave total number has given to advanced in \n",
    "a"
   ]
  },
  {
   "cell_type": "code",
   "execution_count": 255,
   "id": "3f05361f",
   "metadata": {},
   "outputs": [
    {
     "data": {
      "text/plain": [
       "array([-30, -20, -10,   0,  10,  20])"
      ]
     },
     "execution_count": 255,
     "metadata": {},
     "output_type": "execute_result"
    }
   ],
   "source": [
    "a=np.arange(-30,30,10) ##behaves as stepsize (10)\n",
    "a"
   ]
  },
  {
   "cell_type": "code",
   "execution_count": 256,
   "id": "6dc8b6c8",
   "metadata": {},
   "outputs": [
    {
     "data": {
      "text/plain": [
       "array([1.00000000e-30, 4.64158883e-24, 2.15443469e-17, 1.00000000e-10,\n",
       "       4.64158883e-04, 2.15443469e+03, 1.00000000e+10, 4.64158883e+16,\n",
       "       2.15443469e+23, 1.00000000e+30])"
      ]
     },
     "execution_count": 256,
     "metadata": {},
     "output_type": "execute_result"
    }
   ],
   "source": [
    "a=np.logspace(-30,30,10) ##show log value of linspace \n",
    "a"
   ]
  },
  {
   "cell_type": "code",
   "execution_count": 257,
   "id": "50a4238f",
   "metadata": {},
   "outputs": [
    {
     "data": {
      "text/plain": [
       "array([[[[[ 2,  3,  4,  5],\n",
       "          [40, 50, 60, 90]]]]])"
      ]
     },
     "execution_count": 257,
     "metadata": {},
     "output_type": "execute_result"
    }
   ],
   "source": [
    "import  numpy as np\n",
    "a=np.array([[[[[2,3,4,5],[40,50,60,90]]]]])\n",
    "a"
   ]
  },
  {
   "cell_type": "code",
   "execution_count": 258,
   "id": "1320999c",
   "metadata": {},
   "outputs": [
    {
     "data": {
      "text/plain": [
       "array([[[ 2,  3,  4,  5],\n",
       "        [40, 50, 60, 90]]])"
      ]
     },
     "execution_count": 258,
     "metadata": {},
     "output_type": "execute_result"
    }
   ],
   "source": [
    "a[0][0]"
   ]
  },
  {
   "cell_type": "code",
   "execution_count": 259,
   "id": "63814ecc",
   "metadata": {},
   "outputs": [
    {
     "data": {
      "text/plain": [
       "array([ 3,  5,  7,  9, 11, 13, 15, 17, 19, 21, 23, 25, 27, 29])"
      ]
     },
     "execution_count": 259,
     "metadata": {},
     "output_type": "execute_result"
    }
   ],
   "source": [
    "a=np.arange(3,30,2)  ## 13 15 21 29\n",
    "a"
   ]
  },
  {
   "cell_type": "code",
   "execution_count": 260,
   "id": "8cab7d7b",
   "metadata": {},
   "outputs": [
    {
     "data": {
      "text/plain": [
       "array([13, 15, 21, 29])"
      ]
     },
     "execution_count": 260,
     "metadata": {},
     "output_type": "execute_result"
    }
   ],
   "source": [
    "a[[5,6,9,13]]   # 1d array"
   ]
  },
  {
   "cell_type": "code",
   "execution_count": 261,
   "id": "99f36910",
   "metadata": {},
   "outputs": [
    {
     "data": {
      "text/plain": [
       "15"
      ]
     },
     "execution_count": 261,
     "metadata": {},
     "output_type": "execute_result"
    }
   ],
   "source": [
    "a[6]"
   ]
  },
  {
   "cell_type": "code",
   "execution_count": 262,
   "id": "90898037",
   "metadata": {},
   "outputs": [
    {
     "data": {
      "text/plain": [
       "array([13, 15, 21, 29])"
      ]
     },
     "execution_count": 262,
     "metadata": {},
     "output_type": "execute_result"
    }
   ],
   "source": [
    "a[[5,6,9,-1]]   # 1d array"
   ]
  },
  {
   "cell_type": "markdown",
   "id": "07e5d1b8",
   "metadata": {},
   "source": [
    "###  some arrays are used for initilisation purpose\n",
    "\n",
    "* np.empty()\n",
    "* np.zeros()\n",
    "* np.ones()"
   ]
  },
  {
   "cell_type": "code",
   "execution_count": 263,
   "id": "ab567cfb",
   "metadata": {},
   "outputs": [
    {
     "data": {
      "text/plain": [
       "array([[0., 0., 0.],\n",
       "       [0., 0., 0.]])"
      ]
     },
     "execution_count": 263,
     "metadata": {},
     "output_type": "execute_result"
    }
   ],
   "source": [
    "import numpy as np\n",
    "a=np.empty([2,3])\n",
    "a"
   ]
  },
  {
   "cell_type": "code",
   "execution_count": 264,
   "id": "401dfd9c",
   "metadata": {},
   "outputs": [
    {
     "data": {
      "text/plain": [
       "array([[1, 2, 3],\n",
       "       [4, 5, 6]])"
      ]
     },
     "execution_count": 264,
     "metadata": {},
     "output_type": "execute_result"
    }
   ],
   "source": [
    "import numpy as np\n",
    "a=np.empty([2,3],dtype=\"int\")\n",
    "a"
   ]
  },
  {
   "cell_type": "code",
   "execution_count": 265,
   "id": "6734ad9b",
   "metadata": {},
   "outputs": [
    {
     "data": {
      "text/plain": [
       "array([[0, 0, 0, 0],\n",
       "       [0, 0, 0, 0],\n",
       "       [0, 0, 0, 0],\n",
       "       [0, 0, 0, 0]])"
      ]
     },
     "execution_count": 265,
     "metadata": {},
     "output_type": "execute_result"
    }
   ],
   "source": [
    "a=np.zeros([4,4],dtype=\"int\")\n",
    "a"
   ]
  },
  {
   "cell_type": "code",
   "execution_count": 266,
   "id": "2185ac00",
   "metadata": {},
   "outputs": [
    {
     "data": {
      "text/plain": [
       "array([[1, 1, 1, 1]])"
      ]
     },
     "execution_count": 266,
     "metadata": {},
     "output_type": "execute_result"
    }
   ],
   "source": [
    "a=np.ones([1,4],dtype=\"int\")\n",
    "a"
   ]
  },
  {
   "cell_type": "code",
   "execution_count": 267,
   "id": "d1c45b0c",
   "metadata": {},
   "outputs": [
    {
     "data": {
      "text/plain": [
       "array([[ 3, 20,  5,  4],\n",
       "       [ 3,  4, 50,  6],\n",
       "       [ 7,  8,  7,  1]])"
      ]
     },
     "execution_count": 267,
     "metadata": {},
     "output_type": "execute_result"
    }
   ],
   "source": [
    "a1=np.array([[1,2,3,4],[3,4,5,6],[7,8,9,0]])\n",
    "a1\n",
    "\n",
    "a2=np.array([[3,20,5,4],[3,4,50,6],[7,8,7,1]])\n",
    "a2"
   ]
  },
  {
   "cell_type": "code",
   "execution_count": 268,
   "id": "f5d58baf",
   "metadata": {},
   "outputs": [
    {
     "data": {
      "text/plain": [
       "array([[ 4, 22,  8,  8],\n",
       "       [ 6,  8, 55, 12],\n",
       "       [14, 16, 16,  1]])"
      ]
     },
     "execution_count": 268,
     "metadata": {},
     "output_type": "execute_result"
    }
   ],
   "source": [
    "a1+a2"
   ]
  },
  {
   "cell_type": "code",
   "execution_count": 269,
   "id": "74a595d2",
   "metadata": {},
   "outputs": [
    {
     "data": {
      "text/plain": [
       "array([[  3,  40,  15,  16],\n",
       "       [  9,  16, 250,  36],\n",
       "       [ 49,  64,  63,   0]])"
      ]
     },
     "execution_count": 269,
     "metadata": {},
     "output_type": "execute_result"
    }
   ],
   "source": [
    "a1*a2"
   ]
  },
  {
   "cell_type": "code",
   "execution_count": 270,
   "id": "71eba342",
   "metadata": {},
   "outputs": [
    {
     "data": {
      "text/plain": [
       "array([[0.33333333, 0.1       , 0.6       , 1.        ],\n",
       "       [1.        , 1.        , 0.1       , 1.        ],\n",
       "       [1.        , 1.        , 1.28571429, 0.        ]])"
      ]
     },
     "execution_count": 270,
     "metadata": {},
     "output_type": "execute_result"
    }
   ],
   "source": [
    "a1/a2"
   ]
  },
  {
   "cell_type": "code",
   "execution_count": 271,
   "id": "d3252230",
   "metadata": {},
   "outputs": [
    {
     "data": {
      "text/plain": [
       "array([[ 3,  6,  9, 12],\n",
       "       [ 9, 12, 15, 18],\n",
       "       [21, 24, 27,  0]])"
      ]
     },
     "execution_count": 271,
     "metadata": {},
     "output_type": "execute_result"
    }
   ],
   "source": [
    "a1*3"
   ]
  },
  {
   "cell_type": "code",
   "execution_count": 272,
   "id": "26f8f36a",
   "metadata": {},
   "outputs": [
    {
     "data": {
      "text/plain": [
       "array([[False, False,  True,  True],\n",
       "       [ True,  True,  True,  True],\n",
       "       [ True,  True,  True, False]])"
      ]
     },
     "execution_count": 272,
     "metadata": {},
     "output_type": "execute_result"
    }
   ],
   "source": [
    "a1>2"
   ]
  },
  {
   "cell_type": "code",
   "execution_count": 273,
   "id": "040a7952",
   "metadata": {},
   "outputs": [
    {
     "data": {
      "text/plain": [
       "array([3, 4, 3, 4, 5, 6, 7, 8, 9])"
      ]
     },
     "execution_count": 273,
     "metadata": {},
     "output_type": "execute_result"
    }
   ],
   "source": [
    "a1[a1>2]"
   ]
  },
  {
   "cell_type": "code",
   "execution_count": 274,
   "id": "ad32d3e5",
   "metadata": {},
   "outputs": [
    {
     "data": {
      "text/plain": [
       "array([[False, False, False, False],\n",
       "       [False, False, False, False],\n",
       "       [False, False,  True, False]])"
      ]
     },
     "execution_count": 274,
     "metadata": {},
     "output_type": "execute_result"
    }
   ],
   "source": [
    "a1>a2"
   ]
  },
  {
   "cell_type": "code",
   "execution_count": 275,
   "id": "39705059",
   "metadata": {},
   "outputs": [
    {
     "data": {
      "text/plain": [
       "array([[ -2, -18,  -2,   0],\n",
       "       [  0,   0, -45,   0],\n",
       "       [  0,   0,   2,  -1]])"
      ]
     },
     "execution_count": 275,
     "metadata": {},
     "output_type": "execute_result"
    }
   ],
   "source": [
    "a1-a2"
   ]
  },
  {
   "cell_type": "code",
   "execution_count": 276,
   "id": "31f6431c",
   "metadata": {},
   "outputs": [
    {
     "data": {
      "text/plain": [
       "array([[1, 2, 3, 4],\n",
       "       [3, 4, 5, 6],\n",
       "       [7, 8, 9, 0]])"
      ]
     },
     "execution_count": 276,
     "metadata": {},
     "output_type": "execute_result"
    }
   ],
   "source": [
    "a1"
   ]
  },
  {
   "cell_type": "code",
   "execution_count": 277,
   "id": "ef28e0bd",
   "metadata": {},
   "outputs": [
    {
     "data": {
      "text/plain": [
       "array([[1.        , 1.41421356, 1.73205081, 2.        ],\n",
       "       [1.73205081, 2.        , 2.23606798, 2.44948974],\n",
       "       [2.64575131, 2.82842712, 3.        , 0.        ]])"
      ]
     },
     "execution_count": 277,
     "metadata": {},
     "output_type": "execute_result"
    }
   ],
   "source": [
    "np.sqrt(a1)"
   ]
  },
  {
   "cell_type": "code",
   "execution_count": 278,
   "id": "d6716d5a",
   "metadata": {},
   "outputs": [
    {
     "data": {
      "text/plain": [
       "array([[ 0.84147098,  0.90929743,  0.14112001, -0.7568025 ],\n",
       "       [ 0.14112001, -0.7568025 , -0.95892427, -0.2794155 ],\n",
       "       [ 0.6569866 ,  0.98935825,  0.41211849,  0.        ]])"
      ]
     },
     "execution_count": 278,
     "metadata": {},
     "output_type": "execute_result"
    }
   ],
   "source": [
    "np.sin(a1)"
   ]
  },
  {
   "cell_type": "code",
   "execution_count": 279,
   "id": "c6fb88e8",
   "metadata": {},
   "outputs": [
    {
     "data": {
      "text/plain": [
       "array([[ 0.54030231, -0.41614684, -0.9899925 , -0.65364362],\n",
       "       [-0.9899925 , -0.65364362,  0.28366219,  0.96017029],\n",
       "       [ 0.75390225, -0.14550003, -0.91113026,  1.        ]])"
      ]
     },
     "execution_count": 279,
     "metadata": {},
     "output_type": "execute_result"
    }
   ],
   "source": [
    "np.cos(a1)"
   ]
  },
  {
   "cell_type": "code",
   "execution_count": 280,
   "id": "be433f54",
   "metadata": {},
   "outputs": [
    {
     "data": {
      "text/plain": [
       "2"
      ]
     },
     "execution_count": 280,
     "metadata": {},
     "output_type": "execute_result"
    }
   ],
   "source": [
    "import math\n",
    "a=2.3\n",
    "math.floor(a)"
   ]
  },
  {
   "cell_type": "code",
   "execution_count": 281,
   "id": "a1293a16",
   "metadata": {},
   "outputs": [
    {
     "data": {
      "text/plain": [
       "3"
      ]
     },
     "execution_count": 281,
     "metadata": {},
     "output_type": "execute_result"
    }
   ],
   "source": [
    "math.ceil(a)"
   ]
  },
  {
   "cell_type": "code",
   "execution_count": 282,
   "id": "d8336fbd",
   "metadata": {},
   "outputs": [
    {
     "data": {
      "text/plain": [
       "-4"
      ]
     },
     "execution_count": 282,
     "metadata": {},
     "output_type": "execute_result"
    }
   ],
   "source": [
    "a=-3.4\n",
    "math.floor(a)"
   ]
  },
  {
   "cell_type": "code",
   "execution_count": 283,
   "id": "cf0f9700",
   "metadata": {},
   "outputs": [
    {
     "data": {
      "text/plain": [
       "-3"
      ]
     },
     "execution_count": 283,
     "metadata": {},
     "output_type": "execute_result"
    }
   ],
   "source": [
    "math.ceil(a)"
   ]
  },
  {
   "cell_type": "code",
   "execution_count": 284,
   "id": "eaea9bef",
   "metadata": {},
   "outputs": [
    {
     "data": {
      "text/plain": [
       "1.46"
      ]
     },
     "execution_count": 284,
     "metadata": {},
     "output_type": "execute_result"
    }
   ],
   "source": [
    "a=1.456456\n",
    "round(a,2)"
   ]
  },
  {
   "cell_type": "code",
   "execution_count": 285,
   "id": "5b419c88",
   "metadata": {},
   "outputs": [
    {
     "ename": "TypeError",
     "evalue": "array() takes from 1 to 2 positional arguments but 3 were given",
     "output_type": "error",
     "traceback": [
      "\u001b[1;31m---------------------------------------------------------------------------\u001b[0m",
      "\u001b[1;31mTypeError\u001b[0m                                 Traceback (most recent call last)",
      "Input \u001b[1;32mIn [285]\u001b[0m, in \u001b[0;36m<cell line: 1>\u001b[1;34m()\u001b[0m\n\u001b[1;32m----> 1\u001b[0m a1\u001b[38;5;241m=\u001b[39m\u001b[43mnp\u001b[49m\u001b[38;5;241;43m.\u001b[39;49m\u001b[43marray\u001b[49m\u001b[43m(\u001b[49m\u001b[38;5;241;43m2.3\u001b[39;49m\u001b[43m,\u001b[49m\u001b[38;5;241;43m56.7\u001b[39;49m\u001b[43m,\u001b[49m\u001b[38;5;241;43m-\u001b[39;49m\u001b[38;5;241;43m4.5\u001b[39;49m\u001b[43m)\u001b[49m\n\u001b[0;32m      2\u001b[0m np\u001b[38;5;241m.\u001b[39mceil(a1)\n",
      "\u001b[1;31mTypeError\u001b[0m: array() takes from 1 to 2 positional arguments but 3 were given"
     ]
    }
   ],
   "source": [
    "a1=np.array(2.3,56.7,-4.5)\n",
    "np.ceil(a1)"
   ]
  },
  {
   "cell_type": "code",
   "execution_count": 286,
   "id": "20d5f613",
   "metadata": {},
   "outputs": [
    {
     "data": {
      "text/plain": [
       "array([[1, 2, 3, 4],\n",
       "       [5, 6, 7, 8],\n",
       "       [3, 4, 5, 6]])"
      ]
     },
     "execution_count": 286,
     "metadata": {},
     "output_type": "execute_result"
    }
   ],
   "source": [
    "a=np.array([[1,2,3,4],[5,6,7,8],[3,4,5,6]])\n",
    "a"
   ]
  },
  {
   "cell_type": "code",
   "execution_count": 287,
   "id": "64694a51",
   "metadata": {},
   "outputs": [
    {
     "data": {
      "text/plain": [
       "7"
      ]
     },
     "execution_count": 287,
     "metadata": {},
     "output_type": "execute_result"
    }
   ],
   "source": [
    "np.argmax(a)"
   ]
  },
  {
   "cell_type": "code",
   "execution_count": 288,
   "id": "adaef5e4",
   "metadata": {},
   "outputs": [
    {
     "data": {
      "text/plain": [
       "0"
      ]
     },
     "execution_count": 288,
     "metadata": {},
     "output_type": "execute_result"
    }
   ],
   "source": [
    "np.argmin(a)"
   ]
  },
  {
   "cell_type": "code",
   "execution_count": 289,
   "id": "fdc0f64f",
   "metadata": {},
   "outputs": [
    {
     "data": {
      "text/plain": [
       "array([5, 6, 7, 8])"
      ]
     },
     "execution_count": 289,
     "metadata": {},
     "output_type": "execute_result"
    }
   ],
   "source": [
    "a.max(axis=0)"
   ]
  },
  {
   "cell_type": "code",
   "execution_count": 290,
   "id": "f4901ddf",
   "metadata": {},
   "outputs": [
    {
     "data": {
      "text/plain": [
       "array([4, 8, 6])"
      ]
     },
     "execution_count": 290,
     "metadata": {},
     "output_type": "execute_result"
    }
   ],
   "source": [
    "a.max(axis=1)"
   ]
  },
  {
   "cell_type": "code",
   "execution_count": 291,
   "id": "96c092f4",
   "metadata": {},
   "outputs": [
    {
     "data": {
      "text/plain": [
       "52"
      ]
     },
     "execution_count": 291,
     "metadata": {},
     "output_type": "execute_result"
    }
   ],
   "source": [
    "a1.sum()"
   ]
  },
  {
   "cell_type": "code",
   "execution_count": 292,
   "id": "ba17e670",
   "metadata": {},
   "outputs": [
    {
     "data": {
      "text/plain": [
       "array([11, 14, 17, 10])"
      ]
     },
     "execution_count": 292,
     "metadata": {},
     "output_type": "execute_result"
    }
   ],
   "source": [
    "a1.sum(axis=0) ##sum of element by axis vice"
   ]
  },
  {
   "cell_type": "code",
   "execution_count": 293,
   "id": "e952b42e",
   "metadata": {},
   "outputs": [
    {
     "data": {
      "text/plain": [
       "array([[1, 2, 3, 0],\n",
       "       [3, 4, 5, 4],\n",
       "       [7, 8, 9, 6]])"
      ]
     },
     "execution_count": 293,
     "metadata": {},
     "output_type": "execute_result"
    }
   ],
   "source": [
    "np.sort(a1,axis=0)"
   ]
  },
  {
   "cell_type": "code",
   "execution_count": 294,
   "id": "e7efe256",
   "metadata": {},
   "outputs": [
    {
     "data": {
      "text/plain": [
       "array([[1, 2, 3, 4],\n",
       "       [3, 4, 5, 6],\n",
       "       [0, 7, 8, 9]])"
      ]
     },
     "execution_count": 294,
     "metadata": {},
     "output_type": "execute_result"
    }
   ],
   "source": [
    "np.sort(a1,axis=1)"
   ]
  },
  {
   "cell_type": "markdown",
   "id": "3d26926f",
   "metadata": {},
   "source": [
    "## difference between matrix and array`( matrix is at most 2d whilw  array can be n dimension)"
   ]
  },
  {
   "cell_type": "markdown",
   "id": "7f949e6c",
   "metadata": {},
   "source": [
    "## matrix   (matrix is subclass of array)\n"
   ]
  },
  {
   "cell_type": "code",
   "execution_count": 295,
   "id": "ef30d4f4",
   "metadata": {},
   "outputs": [
    {
     "data": {
      "text/plain": [
       "matrix([[1, 2],\n",
       "        [3, 4]])"
      ]
     },
     "execution_count": 295,
     "metadata": {},
     "output_type": "execute_result"
    }
   ],
   "source": [
    "import numpy as np\n",
    "a=np.mat([[1,2],[3,4]])\n",
    "a"
   ]
  },
  {
   "cell_type": "code",
   "execution_count": 296,
   "id": "b5d81b95",
   "metadata": {},
   "outputs": [
    {
     "data": {
      "text/plain": [
       "matrix([[1, 2, 5],\n",
       "        [7, 3, 4]])"
      ]
     },
     "execution_count": 296,
     "metadata": {},
     "output_type": "execute_result"
    }
   ],
   "source": [
    "a=np.mat([[1,2,5],[7,3,4]])\n",
    "a"
   ]
  },
  {
   "cell_type": "code",
   "execution_count": 297,
   "id": "d1a06886",
   "metadata": {},
   "outputs": [
    {
     "data": {
      "text/plain": [
       "matrix([[1, 2, 3],\n",
       "        [3, 4, 4],\n",
       "        [3, 4, 5]])"
      ]
     },
     "execution_count": 297,
     "metadata": {},
     "output_type": "execute_result"
    }
   ],
   "source": [
    "a=np.mat([[1,2,3],[3,4,4],[3,4,5]])\n",
    "a"
   ]
  },
  {
   "cell_type": "code",
   "execution_count": 298,
   "id": "6bb05f4e",
   "metadata": {},
   "outputs": [
    {
     "ename": "ValueError",
     "evalue": "matrix must be 2-dimensional",
     "output_type": "error",
     "traceback": [
      "\u001b[1;31m---------------------------------------------------------------------------\u001b[0m",
      "\u001b[1;31mValueError\u001b[0m                                Traceback (most recent call last)",
      "Input \u001b[1;32mIn [298]\u001b[0m, in \u001b[0;36m<cell line: 1>\u001b[1;34m()\u001b[0m\n\u001b[1;32m----> 1\u001b[0m a\u001b[38;5;241m=\u001b[39m\u001b[43mnp\u001b[49m\u001b[38;5;241;43m.\u001b[39;49m\u001b[43mmat\u001b[49m\u001b[43m(\u001b[49m\u001b[43m[\u001b[49m\u001b[43m[\u001b[49m\u001b[43m[\u001b[49m\u001b[38;5;241;43m1\u001b[39;49m\u001b[43m,\u001b[49m\u001b[38;5;241;43m2\u001b[39;49m\u001b[43m,\u001b[49m\u001b[38;5;241;43m3\u001b[39;49m\u001b[43m]\u001b[49m\u001b[43m,\u001b[49m\u001b[43m[\u001b[49m\u001b[38;5;241;43m3\u001b[39;49m\u001b[43m,\u001b[49m\u001b[38;5;241;43m4\u001b[39;49m\u001b[43m,\u001b[49m\u001b[38;5;241;43m4\u001b[39;49m\u001b[43m]\u001b[49m\u001b[43m,\u001b[49m\u001b[43m[\u001b[49m\u001b[38;5;241;43m3\u001b[39;49m\u001b[43m,\u001b[49m\u001b[38;5;241;43m4\u001b[39;49m\u001b[43m,\u001b[49m\u001b[38;5;241;43m5\u001b[39;49m\u001b[43m]\u001b[49m\u001b[43m]\u001b[49m\u001b[43m]\u001b[49m\u001b[43m)\u001b[49m\n\u001b[0;32m      2\u001b[0m a\n",
      "File \u001b[1;32m~\\anaconda3\\lib\\site-packages\\numpy\\matrixlib\\defmatrix.py:69\u001b[0m, in \u001b[0;36masmatrix\u001b[1;34m(data, dtype)\u001b[0m\n\u001b[0;32m     36\u001b[0m \u001b[38;5;129m@set_module\u001b[39m(\u001b[38;5;124m'\u001b[39m\u001b[38;5;124mnumpy\u001b[39m\u001b[38;5;124m'\u001b[39m)\n\u001b[0;32m     37\u001b[0m \u001b[38;5;28;01mdef\u001b[39;00m \u001b[38;5;21masmatrix\u001b[39m(data, dtype\u001b[38;5;241m=\u001b[39m\u001b[38;5;28;01mNone\u001b[39;00m):\n\u001b[0;32m     38\u001b[0m     \u001b[38;5;124;03m\"\"\"\u001b[39;00m\n\u001b[0;32m     39\u001b[0m \u001b[38;5;124;03m    Interpret the input as a matrix.\u001b[39;00m\n\u001b[0;32m     40\u001b[0m \n\u001b[1;32m   (...)\u001b[0m\n\u001b[0;32m     67\u001b[0m \n\u001b[0;32m     68\u001b[0m \u001b[38;5;124;03m    \"\"\"\u001b[39;00m\n\u001b[1;32m---> 69\u001b[0m     \u001b[38;5;28;01mreturn\u001b[39;00m \u001b[43mmatrix\u001b[49m\u001b[43m(\u001b[49m\u001b[43mdata\u001b[49m\u001b[43m,\u001b[49m\u001b[43m \u001b[49m\u001b[43mdtype\u001b[49m\u001b[38;5;241;43m=\u001b[39;49m\u001b[43mdtype\u001b[49m\u001b[43m,\u001b[49m\u001b[43m \u001b[49m\u001b[43mcopy\u001b[49m\u001b[38;5;241;43m=\u001b[39;49m\u001b[38;5;28;43;01mFalse\u001b[39;49;00m\u001b[43m)\u001b[49m\n",
      "File \u001b[1;32m~\\anaconda3\\lib\\site-packages\\numpy\\matrixlib\\defmatrix.py:149\u001b[0m, in \u001b[0;36mmatrix.__new__\u001b[1;34m(subtype, data, dtype, copy)\u001b[0m\n\u001b[0;32m    147\u001b[0m shape \u001b[38;5;241m=\u001b[39m arr\u001b[38;5;241m.\u001b[39mshape\n\u001b[0;32m    148\u001b[0m \u001b[38;5;28;01mif\u001b[39;00m (ndim \u001b[38;5;241m>\u001b[39m \u001b[38;5;241m2\u001b[39m):\n\u001b[1;32m--> 149\u001b[0m     \u001b[38;5;28;01mraise\u001b[39;00m \u001b[38;5;167;01mValueError\u001b[39;00m(\u001b[38;5;124m\"\u001b[39m\u001b[38;5;124mmatrix must be 2-dimensional\u001b[39m\u001b[38;5;124m\"\u001b[39m)\n\u001b[0;32m    150\u001b[0m \u001b[38;5;28;01melif\u001b[39;00m ndim \u001b[38;5;241m==\u001b[39m \u001b[38;5;241m0\u001b[39m:\n\u001b[0;32m    151\u001b[0m     shape \u001b[38;5;241m=\u001b[39m (\u001b[38;5;241m1\u001b[39m, \u001b[38;5;241m1\u001b[39m)\n",
      "\u001b[1;31mValueError\u001b[0m: matrix must be 2-dimensional"
     ]
    }
   ],
   "source": [
    "a=np.mat([[[1,2,3],[3,4,4],[3,4,5]]])\n",
    "a"
   ]
  },
  {
   "cell_type": "code",
   "execution_count": 299,
   "id": "4621c06b",
   "metadata": {},
   "outputs": [
    {
     "data": {
      "text/plain": [
       "matrix([[19, 22],\n",
       "        [41, 48]])"
      ]
     },
     "execution_count": 299,
     "metadata": {},
     "output_type": "execute_result"
    }
   ],
   "source": [
    "m1=np.array([[1,2],[3,4]])\n",
    "m2=np.array([[3,4],[8,9]])\n",
    "m1*m2 \n",
    "\n",
    "\n",
    "\n",
    "\n",
    "m1=np.mat([[1,2],[3,4]])\n",
    "m2=np.mat([[3,4],[8,9]])\n",
    "m1*m2  #\n"
   ]
  },
  {
   "cell_type": "code",
   "execution_count": 300,
   "id": "6c27382d",
   "metadata": {},
   "outputs": [
    {
     "data": {
      "text/plain": [
       "matrix([[1, 2, 3],\n",
       "        [3, 4, 4],\n",
       "        [3, 4, 5]])"
      ]
     },
     "execution_count": 300,
     "metadata": {},
     "output_type": "execute_result"
    }
   ],
   "source": [
    "a=np.mat([[1,2,3],[3,4,4],[3,4,5]])\n",
    "a"
   ]
  },
  {
   "cell_type": "code",
   "execution_count": 301,
   "id": "b8023df8",
   "metadata": {},
   "outputs": [
    {
     "data": {
      "text/plain": [
       "matrix([[1, 3, 3],\n",
       "        [2, 4, 4],\n",
       "        [3, 4, 5]])"
      ]
     },
     "execution_count": 301,
     "metadata": {},
     "output_type": "execute_result"
    }
   ],
   "source": [
    "a.T"
   ]
  },
  {
   "cell_type": "code",
   "execution_count": 302,
   "id": "d665c479",
   "metadata": {},
   "outputs": [
    {
     "data": {
      "text/plain": [
       "matrix([[1, 3, 3],\n",
       "        [2, 4, 4],\n",
       "        [3, 4, 5]])"
      ]
     },
     "execution_count": 302,
     "metadata": {},
     "output_type": "execute_result"
    }
   ],
   "source": [
    "np.transpose(a)\n"
   ]
  },
  {
   "cell_type": "code",
   "execution_count": 303,
   "id": "c7c15fc7",
   "metadata": {},
   "outputs": [
    {
     "data": {
      "text/plain": [
       "10"
      ]
     },
     "execution_count": 303,
     "metadata": {},
     "output_type": "execute_result"
    }
   ],
   "source": [
    "np.trace(a)  #(its give sum of diogonal element)"
   ]
  },
  {
   "cell_type": "markdown",
   "id": "a8a4035e",
   "metadata": {},
   "source": [
    "## Inverse"
   ]
  },
  {
   "cell_type": "code",
   "execution_count": 306,
   "id": "3fd90e46",
   "metadata": {},
   "outputs": [
    {
     "name": "stdout",
     "output_type": "stream",
     "text": [
      "(2, 2)\n",
      "(2, 2)\n"
     ]
    },
    {
     "data": {
      "text/plain": [
       "matrix([[-2. ,  1. ],\n",
       "        [ 1.5, -0.5]])"
      ]
     },
     "execution_count": 306,
     "metadata": {},
     "output_type": "execute_result"
    }
   ],
   "source": [
    "a=np.array([[1,2],[3,4]])  \n",
    "d=np.matrix([[1,2],[3,4]])\n",
    "print(a.shape)\n",
    "print(d.shape)\n",
    "np.linalg.inv(d)\n",
    "\n"
   ]
  },
  {
   "cell_type": "markdown",
   "id": "6aa441a3",
   "metadata": {},
   "source": [
    "## Broadcasting"
   ]
  },
  {
   "cell_type": "code",
   "execution_count": 308,
   "id": "2fa69f50",
   "metadata": {},
   "outputs": [],
   "source": [
    "## case 1  when shape is same "
   ]
  },
  {
   "cell_type": "code",
   "execution_count": null,
   "id": "fac3ceb2",
   "metadata": {},
   "outputs": [],
   "source": [
    "a1=np.arange(8).reshape(2,4)\n",
    "a2=np.arange(8,16).reshape(2,4)\n",
    "print(a1,\"\\n\\n\")\n",
    "print(a2)\n",
    "a1+a2"
   ]
  },
  {
   "cell_type": "code",
   "execution_count": 309,
   "id": "1c47968f",
   "metadata": {},
   "outputs": [
    {
     "name": "stdout",
     "output_type": "stream",
     "text": [
      "[[0 1 2]\n",
      " [3 4 5]\n",
      " [6 7 8]]\n"
     ]
    },
    {
     "data": {
      "text/plain": [
       "array([[ 0,  2,  4],\n",
       "       [ 6,  8, 10],\n",
       "       [12, 14, 16]])"
      ]
     },
     "execution_count": 309,
     "metadata": {},
     "output_type": "execute_result"
    }
   ],
   "source": [
    "### case: 2  when shape are different\n",
    "a1=np.arange(9).reshape(3,3)\n",
    "print(a1)\n",
    "a1*2  ### scalar"
   ]
  },
  {
   "cell_type": "markdown",
   "id": "53e89822",
   "metadata": {},
   "source": [
    "##case:2:b whn shapes are different\n",
    "a1=np.arange(9).reshape(3,3)\n",
    "a2=np.arange(9).reshape(1,3)\n",
    "print(a1)\n",
    "print(a2)"
   ]
  },
  {
   "cell_type": "markdown",
   "id": "ad6cd377",
   "metadata": {},
   "source": [
    "### creat an 3*3 array by all true"
   ]
  },
  {
   "cell_type": "code",
   "execution_count": 311,
   "id": "94bf5aa2",
   "metadata": {},
   "outputs": [
    {
     "data": {
      "text/plain": [
       "array([[ True,  True,  True],\n",
       "       [ True,  True,  True],\n",
       "       [ True,  True,  True]])"
      ]
     },
     "execution_count": 311,
     "metadata": {},
     "output_type": "execute_result"
    }
   ],
   "source": [
    "import numpy as np\n",
    "np.ones((3,3),dtype=bool)"
   ]
  },
  {
   "cell_type": "markdown",
   "id": "1871f709",
   "metadata": {},
   "source": [
    "## extract all odd numbers from array."
   ]
  },
  {
   "cell_type": "code",
   "execution_count": 312,
   "id": "a0b982a9",
   "metadata": {},
   "outputs": [
    {
     "data": {
      "text/plain": [
       "array([ 0,  2,  4,  6,  8, 10, 12, 14, 16, 18])"
      ]
     },
     "execution_count": 312,
     "metadata": {},
     "output_type": "execute_result"
    }
   ],
   "source": [
    "arr=np.arange(20)\n",
    "arr \n",
    "a=arr[arr%2==0]      #for even\n",
    "a"
   ]
  },
  {
   "cell_type": "code",
   "execution_count": 313,
   "id": "15867c5a",
   "metadata": {},
   "outputs": [
    {
     "data": {
      "text/plain": [
       "array([ 1,  3,  5,  7,  9, 11, 13, 15, 17, 19])"
      ]
     },
     "execution_count": 313,
     "metadata": {},
     "output_type": "execute_result"
    }
   ],
   "source": [
    "a=arr[arr%2==1]       # for odd\n",
    "a"
   ]
  },
  {
   "cell_type": "markdown",
   "id": "e810fb60",
   "metadata": {},
   "source": [
    "## repalce all odd num by (-1)."
   ]
  },
  {
   "cell_type": "code",
   "execution_count": 314,
   "id": "6fddf1cc",
   "metadata": {},
   "outputs": [
    {
     "data": {
      "text/plain": [
       "array([ 0, -1,  2, -1,  4, -1,  6, -1,  8, -1, 10, -1, 12, -1, 14, -1, 16,\n",
       "       -1, 18, -1])"
      ]
     },
     "execution_count": 314,
     "metadata": {},
     "output_type": "execute_result"
    }
   ],
   "source": [
    "arr[arr%2==1] = -1\n",
    "arr"
   ]
  },
  {
   "cell_type": "markdown",
   "id": "91fe1e2b",
   "metadata": {},
   "source": [
    "## replace all odd num by (-1) without chnging array."
   ]
  },
  {
   "cell_type": "code",
   "execution_count": 315,
   "id": "8c3d0171",
   "metadata": {},
   "outputs": [
    {
     "data": {
      "text/plain": [
       "array([ 0, -1,  2, -1,  4, -1,  6, -1,  8, -1, 10, -1, 12, -1, 14, -1, 16,\n",
       "       -1, 18, -1])"
      ]
     },
     "execution_count": 315,
     "metadata": {},
     "output_type": "execute_result"
    }
   ],
   "source": [
    "np.where(arr%2==1,-1,arr)"
   ]
  },
  {
   "cell_type": "markdown",
   "id": "773eb000",
   "metadata": {},
   "source": [
    "## convert 1D array in 2D arry with 2 rows."
   ]
  },
  {
   "cell_type": "code",
   "execution_count": 316,
   "id": "f9dbe577",
   "metadata": {},
   "outputs": [
    {
     "data": {
      "text/plain": [
       "array([[0, 1, 2, 3, 4],\n",
       "       [5, 6, 7, 8, 9]])"
      ]
     },
     "execution_count": 316,
     "metadata": {},
     "output_type": "execute_result"
    }
   ],
   "source": [
    "a=np.arange(10).reshape(2,5)\n",
    "a"
   ]
  },
  {
   "cell_type": "markdown",
   "id": "24ade567",
   "metadata": {},
   "source": [
    "##  find tha common items from A nd C."
   ]
  },
  {
   "cell_type": "code",
   "execution_count": 318,
   "id": "edd8a55f",
   "metadata": {},
   "outputs": [
    {
     "data": {
      "text/plain": [
       "array([2, 5])"
      ]
     },
     "execution_count": 318,
     "metadata": {},
     "output_type": "execute_result"
    }
   ],
   "source": [
    "a=np.array([1,2,3,4,5,6,7,8,9,5])\n",
    "c=np.array([11,2,12,14,15,16,17,18,5])\n",
    "np.intersect1d(a,c)"
   ]
  },
  {
   "cell_type": "markdown",
   "id": "5149e59f",
   "metadata": {},
   "source": [
    "## removes all tha items frm a whuch are c."
   ]
  },
  {
   "cell_type": "code",
   "execution_count": 319,
   "id": "bf2b60d0",
   "metadata": {},
   "outputs": [
    {
     "data": {
      "text/plain": [
       "array([1, 3, 4, 6, 7, 8, 9])"
      ]
     },
     "execution_count": 319,
     "metadata": {},
     "output_type": "execute_result"
    }
   ],
   "source": [
    "np.setdiff1d(a,c)"
   ]
  },
  {
   "cell_type": "markdown",
   "id": "005bd79e",
   "metadata": {},
   "source": [
    "## find all tha num btw 5 and 10."
   ]
  },
  {
   "cell_type": "code",
   "execution_count": 320,
   "id": "5d1d4500",
   "metadata": {},
   "outputs": [
    {
     "data": {
      "text/plain": [
       "array([ 0,  1,  2,  3,  4,  5,  6,  7,  8,  9, 10, 11, 12, 13, 14, 15, 16,\n",
       "       17, 18, 19])"
      ]
     },
     "execution_count": 320,
     "metadata": {},
     "output_type": "execute_result"
    }
   ],
   "source": [
    "a=np.arange(20)\n",
    "a"
   ]
  },
  {
   "cell_type": "code",
   "execution_count": 323,
   "id": "4972c0d4",
   "metadata": {},
   "outputs": [
    {
     "data": {
      "text/plain": [
       "array([ 5,  6,  7,  8,  9, 10])"
      ]
     },
     "execution_count": 323,
     "metadata": {},
     "output_type": "execute_result"
    }
   ],
   "source": [
    "a[(a>=5)&(a<=10)]"
   ]
  },
  {
   "cell_type": "code",
   "execution_count": 324,
   "id": "b4753cf0",
   "metadata": {},
   "outputs": [
    {
     "data": {
      "text/plain": [
       "(array([ 5,  6,  7,  8,  9, 10], dtype=int64),)"
      ]
     },
     "execution_count": 324,
     "metadata": {},
     "output_type": "execute_result"
    }
   ],
   "source": [
    "np.where((a>=5)&(a<=10))"
   ]
  },
  {
   "cell_type": "markdown",
   "id": "874fc0b5",
   "metadata": {},
   "source": [
    "## swap column 2 by 1."
   ]
  },
  {
   "cell_type": "code",
   "execution_count": 326,
   "id": "2c76815e",
   "metadata": {},
   "outputs": [
    {
     "name": "stdout",
     "output_type": "stream",
     "text": [
      "[[0 1 2]\n",
      " [3 4 5]\n",
      " [6 7 8]]\n"
     ]
    }
   ],
   "source": [
    "a=np.arange(9).reshape(3,3)\n",
    "print(a)"
   ]
  },
  {
   "cell_type": "code",
   "execution_count": 327,
   "id": "490e4a22",
   "metadata": {},
   "outputs": [
    {
     "data": {
      "text/plain": [
       "array([[1, 0, 2],\n",
       "       [4, 3, 5],\n",
       "       [7, 6, 8]])"
      ]
     },
     "execution_count": 327,
     "metadata": {},
     "output_type": "execute_result"
    }
   ],
   "source": [
    "a[:,[1,0,2]]"
   ]
  },
  {
   "cell_type": "markdown",
   "id": "7e05f814",
   "metadata": {},
   "source": [
    "## swap rows 1 to 2 "
   ]
  },
  {
   "cell_type": "code",
   "execution_count": 328,
   "id": "8135c75f",
   "metadata": {},
   "outputs": [
    {
     "data": {
      "text/plain": [
       "array([[3, 4, 5],\n",
       "       [0, 1, 2],\n",
       "       [6, 7, 8]])"
      ]
     },
     "execution_count": 328,
     "metadata": {},
     "output_type": "execute_result"
    }
   ],
   "source": [
    "a[[1,0,2],:]"
   ]
  },
  {
   "cell_type": "markdown",
   "id": "060aab3c",
   "metadata": {},
   "source": [
    "## reverse tha rows of 2D arr and coumn too."
   ]
  },
  {
   "cell_type": "code",
   "execution_count": 332,
   "id": "45986156",
   "metadata": {},
   "outputs": [
    {
     "data": {
      "text/plain": [
       "array([[0, 1, 2],\n",
       "       [3, 4, 5],\n",
       "       [6, 7, 8]])"
      ]
     },
     "execution_count": 332,
     "metadata": {},
     "output_type": "execute_result"
    }
   ],
   "source": [
    "a"
   ]
  },
  {
   "cell_type": "code",
   "execution_count": 333,
   "id": "22641cb6",
   "metadata": {},
   "outputs": [
    {
     "data": {
      "text/plain": [
       "array([[6, 7, 8],\n",
       "       [3, 4, 5],\n",
       "       [0, 1, 2]])"
      ]
     },
     "execution_count": 333,
     "metadata": {},
     "output_type": "execute_result"
    }
   ],
   "source": [
    "a[::-1]   ## row"
   ]
  },
  {
   "cell_type": "code",
   "execution_count": 334,
   "id": "8654b2f9",
   "metadata": {},
   "outputs": [
    {
     "data": {
      "text/plain": [
       "array([1, 4, 7])"
      ]
     },
     "execution_count": 334,
     "metadata": {},
     "output_type": "execute_result"
    }
   ],
   "source": [
    "a[:,1]    ## column"
   ]
  },
  {
   "cell_type": "markdown",
   "id": "55fc0ebe",
   "metadata": {},
   "source": [
    "##  create a 2D array of 5*3 to random decimal number  btw 5 and 10"
   ]
  },
  {
   "cell_type": "code",
   "execution_count": 335,
   "id": "15cda160",
   "metadata": {},
   "outputs": [
    {
     "data": {
      "text/plain": [
       "array([[7.98884243, 5.39496231, 9.5806239 ],\n",
       "       [8.48821906, 8.98347312, 7.91530997],\n",
       "       [8.28117481, 8.7678441 , 7.50663854],\n",
       "       [6.61140546, 6.74516424, 7.65277361],\n",
       "       [7.95477834, 8.2291896 , 6.93829241]])"
      ]
     },
     "execution_count": 335,
     "metadata": {},
     "output_type": "execute_result"
    }
   ],
   "source": [
    "np.random.uniform(5,10,size=(5,3))"
   ]
  },
  {
   "cell_type": "code",
   "execution_count": 336,
   "id": "22ee2d90",
   "metadata": {},
   "outputs": [
    {
     "data": {
      "text/plain": [
       "(3, 5)"
      ]
     },
     "execution_count": 336,
     "metadata": {},
     "output_type": "execute_result"
    }
   ],
   "source": [
    "import numpy as np\n",
    "a1=np.array([[1,2,3,4,5],[5,6,7,8,9],[2,3,4,5,6]])\n",
    "a1\n",
    "a1.shape"
   ]
  },
  {
   "cell_type": "code",
   "execution_count": 337,
   "id": "39a454a2",
   "metadata": {},
   "outputs": [
    {
     "data": {
      "text/plain": [
       "array([[1, 2, 3, 4, 5],\n",
       "       [5, 6, 7, 8, 9],\n",
       "       [2, 3, 4, 5, 6]])"
      ]
     },
     "execution_count": 337,
     "metadata": {},
     "output_type": "execute_result"
    }
   ],
   "source": [
    "a1"
   ]
  },
  {
   "cell_type": "code",
   "execution_count": 338,
   "id": "77a08bba",
   "metadata": {},
   "outputs": [
    {
     "data": {
      "text/plain": [
       "array([[1, 5],\n",
       "       [5, 9],\n",
       "       [2, 6]])"
      ]
     },
     "execution_count": 338,
     "metadata": {},
     "output_type": "execute_result"
    }
   ],
   "source": [
    "a1[:,::4]"
   ]
  },
  {
   "cell_type": "code",
   "execution_count": 339,
   "id": "a1297311",
   "metadata": {},
   "outputs": [
    {
     "data": {
      "text/plain": [
       "array([[1, 5],\n",
       "       [5, 9],\n",
       "       [2, 6]])"
      ]
     },
     "execution_count": 339,
     "metadata": {},
     "output_type": "execute_result"
    }
   ],
   "source": [
    "a1[:,::4]"
   ]
  },
  {
   "cell_type": "code",
   "execution_count": 340,
   "id": "b1f6cdf8",
   "metadata": {},
   "outputs": [
    {
     "data": {
      "text/plain": [
       "array([[1, 2, 3, 4, 5],\n",
       "       [5, 6, 7, 8, 9]])"
      ]
     },
     "execution_count": 340,
     "metadata": {},
     "output_type": "execute_result"
    }
   ],
   "source": [
    "a1[:-1]"
   ]
  },
  {
   "cell_type": "markdown",
   "id": "ffe093cd",
   "metadata": {},
   "source": [
    "### create an array of 10 zeros"
   ]
  },
  {
   "cell_type": "code",
   "execution_count": 342,
   "id": "f7528b33",
   "metadata": {},
   "outputs": [
    {
     "data": {
      "text/plain": [
       "array([0., 0., 0., 0., 0., 0., 0., 0., 0., 0.])"
      ]
     },
     "execution_count": 342,
     "metadata": {},
     "output_type": "execute_result"
    }
   ],
   "source": [
    "np.zeros(10)"
   ]
  },
  {
   "cell_type": "markdown",
   "id": "c40105b4",
   "metadata": {},
   "source": [
    "### create an array of 10 ones"
   ]
  },
  {
   "cell_type": "code",
   "execution_count": 343,
   "id": "7d5c2b3c",
   "metadata": {},
   "outputs": [
    {
     "data": {
      "text/plain": [
       "array([1., 1., 1., 1., 1., 1., 1., 1., 1., 1.])"
      ]
     },
     "execution_count": 343,
     "metadata": {},
     "output_type": "execute_result"
    }
   ],
   "source": [
    "np.ones(10)"
   ]
  },
  {
   "cell_type": "markdown",
   "id": "b56e9df9",
   "metadata": {},
   "source": [
    "### create an array of  10  fives."
   ]
  },
  {
   "cell_type": "code",
   "execution_count": 344,
   "id": "3130b049",
   "metadata": {},
   "outputs": [
    {
     "data": {
      "text/plain": [
       "array([5., 5., 5., 5., 5., 5., 5., 5., 5., 5.])"
      ]
     },
     "execution_count": 344,
     "metadata": {},
     "output_type": "execute_result"
    }
   ],
   "source": [
    "np.ones(10)*5"
   ]
  },
  {
   "cell_type": "markdown",
   "id": "43897d53",
   "metadata": {},
   "source": [
    "### create an array of interger 10 to 50."
   ]
  },
  {
   "cell_type": "code",
   "execution_count": 345,
   "id": "972afd0e",
   "metadata": {},
   "outputs": [
    {
     "name": "stdout",
     "output_type": "stream",
     "text": [
      "[10 11 12 13 14 15 16 17 18 19 20 21 22 23 24 25 26 27 28 29 30 31 32 33\n",
      " 34 35 36 37 38 39 40 41 42 43 44 45 46 47 48 49 50]\n"
     ]
    }
   ],
   "source": [
    "a=np.arange(10,51)\n",
    "print(a)"
   ]
  },
  {
   "cell_type": "markdown",
   "id": "4598da60",
   "metadata": {},
   "source": [
    "### createa an array of alll tha evn numbers frm 10 to 50."
   ]
  },
  {
   "cell_type": "code",
   "execution_count": 346,
   "id": "dd572069",
   "metadata": {},
   "outputs": [
    {
     "name": "stdout",
     "output_type": "stream",
     "text": [
      "[10 12 14 16 18 20 22 24 26 28 30 32 34 36 38 40 42 44 46 48 50]\n"
     ]
    }
   ],
   "source": [
    "a=np.arange(10,51)\n",
    "a1=a[a%2==0]\n",
    "print(a1)"
   ]
  },
  {
   "cell_type": "code",
   "execution_count": 347,
   "id": "700c26bb",
   "metadata": {},
   "outputs": [
    {
     "data": {
      "text/plain": [
       "array([10, 12, 14, 16, 18, 20, 22, 24, 26, 28, 30, 32, 34, 36, 38, 40, 42,\n",
       "       44, 46, 48, 50])"
      ]
     },
     "execution_count": 347,
     "metadata": {},
     "output_type": "execute_result"
    }
   ],
   "source": [
    "np.arange(10,51,2)"
   ]
  },
  {
   "cell_type": "markdown",
   "id": "cb5e1e17",
   "metadata": {},
   "source": [
    "### create an 3*3 matrux with values  ranging from 0 to 8."
   ]
  },
  {
   "cell_type": "code",
   "execution_count": 348,
   "id": "1af1f7b2",
   "metadata": {},
   "outputs": [
    {
     "data": {
      "text/plain": [
       "array([[0, 1, 2],\n",
       "       [3, 4, 5],\n",
       "       [6, 7, 8]])"
      ]
     },
     "execution_count": 348,
     "metadata": {},
     "output_type": "execute_result"
    }
   ],
   "source": [
    "np.arange(9).reshape(3,3)"
   ]
  },
  {
   "cell_type": "markdown",
   "id": "9c3632ac",
   "metadata": {},
   "source": [
    "### create an 3*3 identity matrix."
   ]
  },
  {
   "cell_type": "code",
   "execution_count": 349,
   "id": "273b82f2",
   "metadata": {},
   "outputs": [
    {
     "data": {
      "text/plain": [
       "array([[1., 0., 0.],\n",
       "       [0., 1., 0.],\n",
       "       [0., 0., 1.]])"
      ]
     },
     "execution_count": 349,
     "metadata": {},
     "output_type": "execute_result"
    }
   ],
   "source": [
    "np.eye(3,3)"
   ]
  },
  {
   "cell_type": "code",
   "execution_count": 350,
   "id": "bf002484",
   "metadata": {},
   "outputs": [
    {
     "data": {
      "text/plain": [
       "array([[1., 0., 0.],\n",
       "       [0., 1., 0.],\n",
       "       [0., 0., 1.]])"
      ]
     },
     "execution_count": 350,
     "metadata": {},
     "output_type": "execute_result"
    }
   ],
   "source": [
    "np.identity(3)"
   ]
  },
  {
   "cell_type": "markdown",
   "id": "01c47581",
   "metadata": {},
   "source": [
    "### using numpy generate random no. btw 0 to 1."
   ]
  },
  {
   "cell_type": "code",
   "execution_count": 351,
   "id": "f72b287e",
   "metadata": {},
   "outputs": [
    {
     "data": {
      "text/plain": [
       "array([0.62270804])"
      ]
     },
     "execution_count": 351,
     "metadata": {},
     "output_type": "execute_result"
    }
   ],
   "source": [
    "np.random.rand(1)"
   ]
  },
  {
   "cell_type": "markdown",
   "id": "34407172",
   "metadata": {},
   "source": [
    "###  generate 25 random sample from standard normal distribution."
   ]
  },
  {
   "cell_type": "code",
   "execution_count": 352,
   "id": "873dc1a7",
   "metadata": {},
   "outputs": [
    {
     "data": {
      "text/plain": [
       "array([-0.33223146, -0.06681175,  0.48733394, -0.37580328, -0.02701958,\n",
       "        2.39210557, -0.84153742, -1.14367325, -1.78808885, -0.78176912,\n",
       "       -0.20092044, -3.41561511,  2.17583335, -1.23140101, -0.63310605,\n",
       "        0.80880302,  0.88525687, -1.31003845, -1.40519252, -0.79253205,\n",
       "        0.61595281,  0.69944817,  0.96868356, -2.19106345,  0.10217072])"
      ]
     },
     "execution_count": 352,
     "metadata": {},
     "output_type": "execute_result"
    }
   ],
   "source": [
    "np.random.randn(25)"
   ]
  },
  {
   "cell_type": "markdown",
   "id": "5b7a0715",
   "metadata": {},
   "source": [
    "###  create  an array of 20 linearly spaced  number btw 0 and 1."
   ]
  },
  {
   "cell_type": "code",
   "execution_count": 353,
   "id": "3ace072e",
   "metadata": {},
   "outputs": [
    {
     "data": {
      "text/plain": [
       "array([0.        , 0.05263158, 0.10526316, 0.15789474, 0.21052632,\n",
       "       0.26315789, 0.31578947, 0.36842105, 0.42105263, 0.47368421,\n",
       "       0.52631579, 0.57894737, 0.63157895, 0.68421053, 0.73684211,\n",
       "       0.78947368, 0.84210526, 0.89473684, 0.94736842, 1.        ])"
      ]
     },
     "execution_count": 353,
     "metadata": {},
     "output_type": "execute_result"
    }
   ],
   "source": [
    "np.linspace(0,1,20)"
   ]
  },
  {
   "cell_type": "markdown",
   "id": "75cf4362",
   "metadata": {},
   "source": [
    "###  indexing"
   ]
  },
  {
   "cell_type": "code",
   "execution_count": 354,
   "id": "4f917a38",
   "metadata": {},
   "outputs": [
    {
     "data": {
      "text/plain": [
       "array([[ 1,  2,  3,  4,  5],\n",
       "       [ 6,  7,  8,  9, 10],\n",
       "       [11, 12, 13, 14, 15],\n",
       "       [16, 17, 18, 19, 20],\n",
       "       [21, 22, 23, 24, 25]])"
      ]
     },
     "execution_count": 354,
     "metadata": {},
     "output_type": "execute_result"
    }
   ],
   "source": [
    "a=np.arange(1,26).reshape(5,5)\n",
    "a"
   ]
  },
  {
   "cell_type": "code",
   "execution_count": 355,
   "id": "afd3c7e1",
   "metadata": {},
   "outputs": [
    {
     "data": {
      "text/plain": [
       "array([[13, 14, 15],\n",
       "       [18, 19, 20],\n",
       "       [23, 24, 25]])"
      ]
     },
     "execution_count": 355,
     "metadata": {},
     "output_type": "execute_result"
    }
   ],
   "source": [
    "a[2:,2:]"
   ]
  },
  {
   "cell_type": "code",
   "execution_count": 356,
   "id": "93cb3ca6",
   "metadata": {},
   "outputs": [
    {
     "data": {
      "text/plain": [
       "20"
      ]
     },
     "execution_count": 356,
     "metadata": {},
     "output_type": "execute_result"
    }
   ],
   "source": [
    "a[3,4]"
   ]
  },
  {
   "cell_type": "code",
   "execution_count": 357,
   "id": "c2b1c9b4",
   "metadata": {},
   "outputs": [
    {
     "data": {
      "text/plain": [
       "13"
      ]
     },
     "execution_count": 357,
     "metadata": {},
     "output_type": "execute_result"
    }
   ],
   "source": [
    "a[2,2]"
   ]
  },
  {
   "cell_type": "markdown",
   "id": "626516d5",
   "metadata": {},
   "source": [
    "## create an array of shape 3*2*3,"
   ]
  },
  {
   "cell_type": "code",
   "execution_count": 364,
   "id": "b7e6e68d",
   "metadata": {},
   "outputs": [
    {
     "data": {
      "text/plain": [
       "array([[[1, 2, 3],\n",
       "        [1, 2, 3]],\n",
       "\n",
       "       [[1, 2, 3],\n",
       "        [1, 2, 3]],\n",
       "\n",
       "       [[1, 2, 3],\n",
       "        [1, 2, 3]]])"
      ]
     },
     "execution_count": 364,
     "metadata": {},
     "output_type": "execute_result"
    }
   ],
   "source": [
    "import numpy as np\n",
    "a=np.array([[[1,2,3],[1,2,3]],[[1,2,3],[1,2,3]],[[1,2,3],[1,2,3]]])\n",
    "a"
   ]
  },
  {
   "cell_type": "code",
   "execution_count": 365,
   "id": "fd5453ea",
   "metadata": {},
   "outputs": [
    {
     "data": {
      "text/plain": [
       "(3, 2, 3)"
      ]
     },
     "execution_count": 365,
     "metadata": {},
     "output_type": "execute_result"
    }
   ],
   "source": [
    "a.shape"
   ]
  },
  {
   "cell_type": "code",
   "execution_count": 366,
   "id": "9e1dddd5",
   "metadata": {},
   "outputs": [
    {
     "data": {
      "text/plain": [
       "array([[[0., 0., 0.],\n",
       "        [0., 0., 0.]],\n",
       "\n",
       "       [[0., 0., 0.],\n",
       "        [0., 0., 0.]],\n",
       "\n",
       "       [[0., 0., 0.],\n",
       "        [0., 0., 0.]]])"
      ]
     },
     "execution_count": 366,
     "metadata": {},
     "output_type": "execute_result"
    }
   ],
   "source": [
    "np.zeros([3,2,3])"
   ]
  },
  {
   "cell_type": "markdown",
   "id": "57e90c26",
   "metadata": {},
   "source": [
    "### create a vetor of size 10"
   ]
  },
  {
   "cell_type": "code",
   "execution_count": 370,
   "id": "6bbb95ce",
   "metadata": {},
   "outputs": [
    {
     "data": {
      "text/plain": [
       "array([0, 1, 2, 3, 4, 5, 6, 7, 8, 9])"
      ]
     },
     "execution_count": 370,
     "metadata": {},
     "output_type": "execute_result"
    }
   ],
   "source": [
    "np.arange(10)"
   ]
  },
  {
   "cell_type": "markdown",
   "id": "5c0cfa2e",
   "metadata": {},
   "source": [
    "## create an array with random values of shape"
   ]
  },
  {
   "cell_type": "code",
   "execution_count": 371,
   "id": "91fca038",
   "metadata": {},
   "outputs": [
    {
     "data": {
      "text/plain": [
       "array([[ 2.2483538 , -0.55874098,  1.21003809],\n",
       "       [ 0.24817992, -1.17432594, -0.36045466],\n",
       "       [-1.3015913 , -0.89377319, -2.01334066]])"
      ]
     },
     "execution_count": 371,
     "metadata": {},
     "output_type": "execute_result"
    }
   ],
   "source": [
    "np.random.randn(3,3)   ####31"
   ]
  },
  {
   "cell_type": "code",
   "execution_count": 372,
   "id": "b93d3ca0",
   "metadata": {},
   "outputs": [
    {
     "data": {
      "text/plain": [
       "0.02140951029371596"
      ]
     },
     "execution_count": 372,
     "metadata": {},
     "output_type": "execute_result"
    }
   ],
   "source": [
    "np.random.random()   #### (we get one value in btw 1 and 0 ater every we tha diffrent value)"
   ]
  },
  {
   "cell_type": "code",
   "execution_count": 373,
   "id": "99200cf9",
   "metadata": {},
   "outputs": [
    {
     "data": {
      "text/plain": [
       "0.43599490214200376"
      ]
     },
     "execution_count": 373,
     "metadata": {},
     "output_type": "execute_result"
    }
   ],
   "source": [
    "np.random.seed(2) ## any value u cn take \n",
    "np.random.random()  #( generate same random value btw 0 and 1 on excuation)"
   ]
  },
  {
   "cell_type": "code",
   "execution_count": 374,
   "id": "3f7bc278",
   "metadata": {},
   "outputs": [
    {
     "data": {
      "text/plain": [
       "10.518524636557826"
      ]
     },
     "execution_count": 374,
     "metadata": {},
     "output_type": "execute_result"
    }
   ],
   "source": [
    "## generate singe random value with n given range\n",
    "np.random.uniform(10,30) # atart with 10 and ends with 30"
   ]
  },
  {
   "cell_type": "code",
   "execution_count": 375,
   "id": "7fd3911e",
   "metadata": {},
   "outputs": [
    {
     "data": {
      "text/plain": [
       "array([55.41658531, 44.09691687, 42.61641241, 33.70314728, 21.26021477,\n",
       "       62.30782567, 30.66581269, 27.41590024, 62.49224944, 53.38506733])"
      ]
     },
     "execution_count": 375,
     "metadata": {},
     "output_type": "execute_result"
    }
   ],
   "source": [
    "### generate random no.  of certain length i.e  arrray with given range\n",
    "import numpy as np\n",
    "np.random.uniform(1,100,10)"
   ]
  },
  {
   "cell_type": "code",
   "execution_count": 376,
   "id": "816c6ed4",
   "metadata": {},
   "outputs": [
    {
     "data": {
      "text/plain": [
       "array([[14.32341459, 51.84423401],\n",
       "       [19.2595467 , 78.74817963],\n",
       "       [85.54355397, 49.9294469 ],\n",
       "       [84.80958705,  8.88490222],\n",
       "       [51.01936292,  7.46336393]])"
      ]
     },
     "execution_count": 376,
     "metadata": {},
     "output_type": "execute_result"
    }
   ],
   "source": [
    "np.random.uniform(1,100,10).reshape(5,2)"
   ]
  },
  {
   "cell_type": "code",
   "execution_count": 377,
   "id": "09d6789c",
   "metadata": {},
   "outputs": [
    {
     "data": {
      "text/plain": [
       "array([[43.38411043, 10.55656065, 13.5888372 , 60.07778559, 23.37518806],\n",
       "       [11.58762275, 22.8103145 , 35.63280222, 47.31096097, 20.9725794 ]])"
      ]
     },
     "execution_count": 377,
     "metadata": {},
     "output_type": "execute_result"
    }
   ],
   "source": [
    "np.random.uniform(1,100,10).reshape(2,5)"
   ]
  },
  {
   "cell_type": "code",
   "execution_count": 378,
   "id": "c89045b4",
   "metadata": {},
   "outputs": [
    {
     "data": {
      "text/plain": [
       "array([[64.4002658 ],\n",
       "       [48.82391372],\n",
       "       [51.01843528],\n",
       "       [39.30237246],\n",
       "       [79.57010799],\n",
       "       [58.42041371],\n",
       "       [17.06756125],\n",
       "       [70.37448231],\n",
       "       [96.49055693],\n",
       "       [50.50082776]])"
      ]
     },
     "execution_count": 378,
     "metadata": {},
     "output_type": "execute_result"
    }
   ],
   "source": [
    "np.random.uniform(1,100,10).reshape(10,1)"
   ]
  },
  {
   "cell_type": "code",
   "execution_count": 379,
   "id": "4f8e4b91",
   "metadata": {},
   "outputs": [
    {
     "data": {
      "text/plain": [
       "array([1, 3, 9, 9, 3])"
      ]
     },
     "execution_count": 379,
     "metadata": {},
     "output_type": "execute_result"
    }
   ],
   "source": [
    "np.random.randint(1,10,5)  # 1d arry"
   ]
  },
  {
   "cell_type": "code",
   "execution_count": 380,
   "id": "130668b8",
   "metadata": {},
   "outputs": [
    {
     "data": {
      "text/plain": [
       "array([[7, 6, 7, 7, 7]])"
      ]
     },
     "execution_count": 380,
     "metadata": {},
     "output_type": "execute_result"
    }
   ],
   "source": [
    "np.random.randint(1,10,5).reshape(1,5)  # 2d arry"
   ]
  },
  {
   "cell_type": "code",
   "execution_count": 381,
   "id": "8de1257d",
   "metadata": {},
   "outputs": [
    {
     "data": {
      "text/plain": [
       "array([[4],\n",
       "       [9],\n",
       "       [3],\n",
       "       [2],\n",
       "       [5]])"
      ]
     },
     "execution_count": 381,
     "metadata": {},
     "output_type": "execute_result"
    }
   ],
   "source": [
    "np.random.randint(1,10,5).reshape(5,1)  # 2d arry"
   ]
  },
  {
   "cell_type": "code",
   "execution_count": 382,
   "id": "4d102a07",
   "metadata": {},
   "outputs": [
    {
     "data": {
      "text/plain": [
       "array([[9, 2, 7, 6, 2],\n",
       "       [3, 5, 8, 7, 5],\n",
       "       [6, 9, 4, 1, 1]])"
      ]
     },
     "execution_count": 382,
     "metadata": {},
     "output_type": "execute_result"
    }
   ],
   "source": [
    "np.random.randint(1,10,15).reshape(3,5)  # 2 darry"
   ]
  },
  {
   "cell_type": "markdown",
   "id": "294a3fbd",
   "metadata": {},
   "source": [
    "## NORMAL DISTRIBUTION  (symetric)"
   ]
  },
  {
   "cell_type": "code",
   "execution_count": 386,
   "id": "8a06b77c",
   "metadata": {},
   "outputs": [
    {
     "data": {
      "text/plain": [
       "array([ -2.7460184 ,   0.06692632,   0.25731357,  10.45110976,\n",
       "         7.45287202,   5.15468743,   0.32741272,   8.92564247,\n",
       "       -11.66556944])"
      ]
     },
     "execution_count": 386,
     "metadata": {},
     "output_type": "execute_result"
    }
   ],
   "source": [
    "a2=np.random.normal(loc=5,scale=7,size=9)\n",
    "a2"
   ]
  },
  {
   "cell_type": "code",
   "execution_count": 387,
   "id": "c5d9c7cb",
   "metadata": {},
   "outputs": [
    {
     "data": {
      "text/plain": [
       "array([ 8.54864839,  6.67954271,  0.28499756, 10.51287115,  0.10525521,\n",
       "       11.50469179, 15.86423703, 12.42641142, 10.25011107,  9.16098702,\n",
       "       18.27168418, 10.58683868,  8.59465198, 15.02762342, 14.20877324,\n",
       "        5.11913356,  5.02722486,  8.10809496, 11.57898571, 14.77403993,\n",
       "       13.42949728, 13.21913507,  8.19916626,  6.60469286, 13.88252011,\n",
       "        7.13534956, 13.29525007, 11.2766987 ,  7.57413469, 10.33488646,\n",
       "       13.26580908, 10.53233888,  5.51593311, 14.07314983, 13.10986544,\n",
       "        8.12948551,  6.4801163 ,  7.52529438, 10.75787548, 10.03550876,\n",
       "       12.80116948, 14.58506903,  8.98477179, -1.20885323,  4.91805313,\n",
       "       11.44507337, 10.80955173, 12.00428241,  9.97261969,  7.00047686,\n",
       "       12.49303321,  9.08867946,  8.51047416, 10.79240981, 11.97845947,\n",
       "       12.39632873,  6.16950201, 10.62682662,  9.68502316,  0.97151717,\n",
       "       11.60520299, -1.48683218, 11.37845287, 11.49997414, 10.71028526,\n",
       "        2.2350761 ,  8.28610006,  9.90918785,  8.5994796 , 10.62528864,\n",
       "        6.46751395, 12.24162489,  7.74105397,  8.96866645,  9.72061866,\n",
       "        9.86906666,  4.27909047,  9.80356791, 11.09692984, 14.60659821,\n",
       "       14.20889244, 10.22626767, 11.89068397,  4.35110154, 10.65134686,\n",
       "        8.15710996,  7.56634289, 13.30257619,  9.29554954,  6.28905783,\n",
       "       11.37785809,  7.02289988, 14.55496097, 13.24294322,  6.63253781,\n",
       "       17.71998688, 11.27067295,  9.63358286, 12.71226251,  8.68116274,\n",
       "        4.3873534 ,  5.73328019, 14.78823642, 11.00791703,  8.61174727,\n",
       "        5.32403828, 11.35213669, 10.01972388, 14.44541267,  1.37223808,\n",
       "       10.62923678, 16.4332162 , 19.34821806, 10.55350106, 11.00549433,\n",
       "        6.94735037, 13.55163731, 15.23985872,  8.59073526, 21.42794987,\n",
       "        8.77662451, 12.97729608,  1.55277618,  4.24290076,  2.81848191,\n",
       "       10.30116851,  9.41762719, 10.7948108 ,  6.83881452, 12.71057394,\n",
       "        8.91251   , 18.96390779, 11.63600945, 11.75472727,  7.67160877,\n",
       "        8.50983922, 10.43488036, 13.5338894 ,  8.58803622, 11.4212433 ,\n",
       "        5.555122  ,  8.28677434,  6.35270683, 13.05651587, 15.34500355,\n",
       "        7.82610181,  7.58634858, 10.11717947, 11.38398463,  4.14984969,\n",
       "       15.09346645,  6.13548237,  8.34672904,  8.66678366,  7.47378002,\n",
       "       13.12767122,  9.40709476, 10.21505681,  3.84289279,  9.86892769,\n",
       "       13.02270635,  4.76164082,  9.6735777 ,  8.6779299 , 12.31504804,\n",
       "        8.90997751,  9.19602646, 11.59130177, 13.24265843,  4.67506071,\n",
       "       15.177982  , 12.10550425, 10.48461922, 12.08596328, 13.28803625,\n",
       "       11.16625427,  7.18291442,  9.60804985,  4.72808809, 10.10371392,\n",
       "       11.38325078,  9.46239714,  8.35516512, 14.1676173 , 16.39154188,\n",
       "        9.12860361,  9.42489164,  9.94706414,  9.02726855,  5.26281495,\n",
       "       11.8956069 ,  4.48976248,  7.82730577, 21.5015096 , 18.97891011,\n",
       "       12.57305912,  7.45725679, 10.90913624, 11.46370759, 14.5361375 ,\n",
       "       12.02342501, 13.42040823, 14.64750143, 12.24668371, 11.49519011,\n",
       "       18.45606134, 14.76428458, 10.63835156,  7.40964777,  8.91178431,\n",
       "       10.81884461, 12.23137144, 14.1466776 , 14.09990314, 10.04401045,\n",
       "        5.41723574, 10.44730198, 16.44932217, 12.9410213 ,  4.58880854,\n",
       "       13.01285913,  8.46744019, 13.38085374, 11.04438402,  9.56352421,\n",
       "        7.91653201, 10.18544183,  6.37489162, 10.53108461,  3.70811466,\n",
       "        7.89953127,  4.14005634,  6.133326  ,  8.95472491, 11.83776882,\n",
       "       11.11363541,  8.84736114,  8.82302027,  6.41603804,  6.45591989,\n",
       "       13.62703482,  2.69559857, 12.91744214,  9.57830039,  2.32901776,\n",
       "       16.0298959 , 10.14111499,  5.00228941,  7.41508206, 15.79208301,\n",
       "        6.2022096 ,  9.54279168, 11.6969607 ,  5.18336875,  8.01934979,\n",
       "       15.63223209,  4.51186534,  4.35828428,  3.16651651,  6.68580468,\n",
       "        7.61851283,  7.84349461, 11.07588297,  8.81156741, 10.47826845,\n",
       "        7.67763944,  6.43322745, 12.35261909,  7.49238511,  6.76130869,\n",
       "       10.10073936,  4.88515382,  9.52941344, 17.22262291,  7.68066995,\n",
       "       15.95643113,  9.50307446,  5.68657953,  8.75776308, 10.42358813,\n",
       "        8.07683424,  9.95074484,  7.70728018, 13.41257383,  9.29229445,\n",
       "        8.33880786, 10.70249591, 13.67742006,  4.99254138,  1.7910424 ,\n",
       "        7.47296474, 14.35857704,  6.02341776, 11.93619431,  6.69825506,\n",
       "       13.13886659, 10.04106402, 11.71148051, 10.99485509,  8.24957031,\n",
       "        8.30885294, 10.0880121 ,  8.56947452,  6.76406876, 15.57440836,\n",
       "        2.33388282, 10.89071948, 11.50521908, 12.65308573, 15.23043691,\n",
       "        6.25625092, 10.16256826, 10.87308518, 11.25412796, 13.88183831,\n",
       "       15.6226208 , 11.52740719,  4.02480866,  6.38908645,  5.87037511,\n",
       "        4.63703236,  9.15175759,  9.29477294,  2.31421121,  8.03810541,\n",
       "       11.63060793, 14.7158498 , 15.71414325, 10.20343907,  2.41413695,\n",
       "        1.97232315, 10.72265773,  9.81373155, 13.79852199,  8.83202067,\n",
       "        7.9568078 , 15.43947776, 12.26812585, 10.6154957 ,  7.06546125,\n",
       "       16.20657103,  5.53342418, 13.43780377, 18.00185733,  7.89935077,\n",
       "       10.09961216,  8.89742459, 10.23246383, 11.95831689, 11.46962468,\n",
       "       11.65976508,  7.13975217, 12.9644847 , 10.38752506,  9.1475079 ,\n",
       "       11.7008808 ,  6.03262064,  3.99629041, 12.48534505, 12.84666068,\n",
       "        8.52025765, 14.13092002,  9.01559232,  7.94086131,  6.16496596,\n",
       "        5.81744083, 16.54110085, 13.98710659, 16.85577965, 11.10528164,\n",
       "        3.46497906, 11.11518052,  9.71664861, 11.46325063, 15.85969881,\n",
       "        7.37513684, 15.34832081,  3.03902864,  8.71334715,  3.69831385,\n",
       "       10.76746401, 15.02193689,  8.59952731, 15.99409328, 16.02373775,\n",
       "        2.2125269 , 10.91161644,  5.31270474,  9.88914194, 11.51967316,\n",
       "        9.97621846,  5.62274256, 10.34284855,  8.17186769,  3.89032223,\n",
       "        5.02561863,  6.47921468, 11.63286022,  8.00390418,  1.02436883,\n",
       "        9.21261014,  4.14906429,  4.85939466, 13.22648116,  7.73012792,\n",
       "        5.96375765,  7.83859296, 15.72294873, 10.42945536,  8.76332481,\n",
       "        9.70728399,  9.65706151, 15.8222452 ,  3.71207051, 11.38185913,\n",
       "       10.20927454,  3.42430694, 11.74348755, 12.8792125 ,  9.39274212,\n",
       "        8.07701512, 11.72829486, 13.04114967,  3.96581136,  6.67929276,\n",
       "       10.54502765, 11.47073137,  9.82688275, 10.51360659,  8.87141892,\n",
       "        7.56441847, 15.29753903,  5.94902338, 12.5266194 ,  7.61105115,\n",
       "        8.65114926,  6.45180938, 13.80834395, 10.94591523,  5.61243144,\n",
       "        5.96808821, 11.24503019, 10.50670898,  8.42384059,  3.29113544,\n",
       "       12.16517976, 11.3537103 , 18.41223642, 11.17309317, 16.10137939,\n",
       "        4.31159411,  8.6192302 , 14.56978538,  7.75125843, 10.77232706,\n",
       "        9.24873094, 11.57768461,  1.07644371,  5.18607609, 10.70889671,\n",
       "       13.5456237 , 12.8950425 ,  8.1361455 , 13.61802988,  5.07758232,\n",
       "        5.31335691, 19.92972829,  7.93052584,  0.34149227, 15.09895057,\n",
       "        7.90922704,  7.52320392, 12.41582109, 10.09715754, 11.47834542,\n",
       "       12.55186187, 10.45332812, 13.64884086, 14.15443422, 15.06651992,\n",
       "       19.22918626, 12.26344382,  8.43868221, 11.26896946,  9.3188113 ,\n",
       "        4.45091732,  7.89439024,  1.15326248,  6.77641785, 11.52570207,\n",
       "        5.26685736,  9.29355837, 10.17783259,  9.84918556, 14.51268217,\n",
       "       12.45127299,  8.85443918, 13.05488846, 16.11899227,  3.43362697,\n",
       "       12.61653901,  7.9170321 ,  8.98611159,  4.38645899,  8.80709516,\n",
       "        6.88847461,  5.71207327, 10.39720573, 10.18821343,  8.5042346 ,\n",
       "       12.90630243,  5.85503835,  5.92518169,  5.68926671,  8.26460619,\n",
       "       10.86642222, 16.06612007, 12.13864735, 18.96328785, 11.58418634,\n",
       "       11.67293422, 12.5987915 , 13.45115168,  9.83395559, 10.99552853,\n",
       "       13.55260477,  7.48571167, 13.54696285, 15.78576234, 10.43883999,\n",
       "        7.35777423, 15.50092369,  6.28005316,  9.07763679, 12.21955411,\n",
       "       13.13666466,  5.93981348,  5.04876088,  8.08516843,  5.34078448,\n",
       "        4.94792777,  5.6605087 ,  8.15883233, 12.81450672,  6.4221179 ,\n",
       "        6.75113893, 12.10022695, 15.10524047, 16.16414077,  4.03980246,\n",
       "       12.27780964,  5.29183188, 13.85840097,  4.10523834, 16.03513749,\n",
       "        9.94148219, 13.05310398,  7.96271765, 12.87549535,  9.75039465,\n",
       "       11.24989315,  5.51447905,  9.26643487,  8.22497501, 12.24883083,\n",
       "       12.6792847 ,  7.19063072,  8.93380432, 15.99409063,  7.25635593,\n",
       "        9.05695544, 14.03728145, 10.43479639,  9.71303486, 11.00774162,\n",
       "        7.34185051,  7.64721832, 15.58854261, 16.03613492,  9.43681755,\n",
       "        8.23624286, 13.63279618,  6.36588894,  3.87475093, 11.65766618,\n",
       "        7.32117621,  9.30045692,  7.94834272,  5.4391318 ,  9.40370299,\n",
       "       11.45745619,  7.48798598, 10.23174337,  7.46426245, 19.18205491,\n",
       "        4.23891498,  9.13427275,  5.52420171,  9.05412171,  9.01324607,\n",
       "       13.56962953, 12.90054916, 11.44713992,  9.40681185, 10.66215157,\n",
       "       12.84121572, 11.16354915, 10.64755511, 18.83790697, 10.28056013,\n",
       "       11.57919473,  6.69582672, 10.31590815,  9.83720892,  5.93448017,\n",
       "       11.83529409,  6.0100026 , 12.546659  , 10.57361224,  9.44394444,\n",
       "       17.88620287,  1.53820982,  7.07011368, 12.80556107,  9.66090736,\n",
       "        7.50862251, 17.41799341, 16.51742599, 13.82737865, 13.48267455,\n",
       "        9.64310454, 12.43814468,  7.74031786,  6.49674152,  4.12775235,\n",
       "        6.48555961, 17.8161097 ,  8.27561319, 12.6686538 , 12.24383817,\n",
       "        7.72940372, 10.82693151, 10.74112574,  8.34106243, 11.80283904,\n",
       "        9.57765748, 13.53829601,  9.31621294, 10.65171265,  6.4643757 ,\n",
       "        5.97241134, 15.78930464, 11.07564848,  1.85914378,  8.45824481,\n",
       "       13.60632169,  3.77420253,  9.72277533, 18.81805231, 12.3137574 ,\n",
       "       10.72429583, 11.59110353, 12.48001664,  3.52402878, 14.5408164 ,\n",
       "       13.35898073, 10.32620891,  8.68979084,  8.29088894,  3.19102241,\n",
       "        5.74418771,  9.65646773, 16.28212598,  6.27257562, 11.37132552,\n",
       "       17.04213435,  7.54842129,  7.60556115, 10.28872684, 15.24258325,\n",
       "        2.93422688, 14.50766353, 14.61543103,  7.57834727, 13.91547204,\n",
       "        4.98251432, 11.7530948 ,  8.57584838,  5.85814141, 14.13431933,\n",
       "       11.14196386, 10.56109635,  8.42844919,  1.19848626,  9.77939777,\n",
       "       10.30062067,  7.90946013,  8.2959344 , 14.26776818,  6.94135902,\n",
       "       12.32452228, 11.87757201, 14.18623132, 22.13160299,  7.83739059,\n",
       "       15.13087051,  8.67114572,  5.29381932,  6.20821481,  9.39926028,\n",
       "        8.40508099, 10.68051897, 11.43326322, 13.75945843,  7.3846175 ,\n",
       "       12.29847235, 12.56166383, 11.86211008,  7.17568803,  1.84380167,\n",
       "        5.49522953, 11.01977619,  6.69977658, 12.641801  ,  8.41019561,\n",
       "       14.80975689,  9.85234777, 14.59552264, 12.96563061,  7.84993472,\n",
       "        4.79273388,  5.34033252,  7.08674603,  5.49083211, 12.88136132,\n",
       "        7.23376774,  5.23665262, 12.33141204,  3.82811117,  6.81227524,\n",
       "       14.15055851,  6.36951402, 15.31083363,  7.95407772, 13.56109518,\n",
       "        7.63631697,  0.40916513, 17.8927849 ,  4.91558279, 12.7551887 ,\n",
       "        7.02515733,  9.9140488 ,  5.78177121, 10.38171803,  8.04059148,\n",
       "        2.75473671,  9.40885325, 13.87171307,  6.18585731,  9.56568976,\n",
       "       11.52274856, 12.81501111, 10.06132715,  7.48216433, 11.17429627,\n",
       "       11.02007186, 13.95282793,  5.23106221,  2.14285754,  7.7431615 ,\n",
       "       15.69092006,  5.88982722,  6.52384946,  5.50610275,  5.0232283 ,\n",
       "       10.10457709,  9.25949931,  6.8359784 , 10.34705819,  6.69531647,\n",
       "       10.25743218,  9.22907323,  7.39573097, 10.31869476,  7.36407661,\n",
       "        9.64790685,  4.36042857, 13.89498758,  9.22026004,  9.81110745,\n",
       "       20.67464776,  6.62580919, 12.34620556, 11.37222977, 12.95497115,\n",
       "       13.87686227,  9.6437607 , 12.78848118,  2.83984117,  6.95139103,\n",
       "       12.3117075 ,  9.06821261,  4.1094124 , 14.11094183,  8.07503486,\n",
       "        7.17090527, 12.18553689,  9.57527666, 10.30509444,  5.4340149 ,\n",
       "       11.48166511,  6.5683246 ,  9.58070935,  5.94026698, 15.23536235,\n",
       "       12.79476107,  5.62237475,  6.63795857,  6.20778325, 11.30370668,\n",
       "        6.86149016, 13.26828434,  6.52795688,  8.5076238 ,  7.8187451 ,\n",
       "       17.01901031,  9.97956087,  3.82852733,  8.07562977,  8.38865053,\n",
       "        5.08039337, 19.32048694,  5.78784677, 11.37200328,  7.71013003,\n",
       "       17.5294537 , 11.57728579,  9.94472892, 14.41476356, 11.68374123,\n",
       "        7.70160311, 16.122603  ,  8.48510531, 15.97049113, 14.88485326,\n",
       "       13.29980728,  7.29324048, 15.37735168, 11.18409631, 10.28614469,\n",
       "       12.82597911,  9.82907511, 10.62679094,  8.69632851,  7.84906519,\n",
       "        6.03588234, 13.49369365, 14.79382224,  9.6322481 ,  6.19211938,\n",
       "        6.15080004,  7.2289646 ,  3.06193555, 15.2871103 , 11.67274865,\n",
       "        9.35412154, 14.6596167 ,  9.3747731 ,  9.74667572,  6.15483216,\n",
       "       12.96167869, 12.17441388,  9.04174885,  5.08375843, 10.63723874,\n",
       "        8.16919031, 15.73709491, 11.73615823, 12.38165041,  3.86456837,\n",
       "        9.34182879, 10.20801846,  5.44183467, 13.73923808, 15.51681634,\n",
       "       19.03902157, 11.3205794 ,  5.05659176,  7.41483953, 11.25938257,\n",
       "       11.17289423, 11.04918095, 10.15357999, 13.45267043, 15.54133933,\n",
       "        7.72201205, 12.56118025, 17.26429793,  2.67174091, 14.67681063,\n",
       "        9.83919804,  6.10044712,  5.19730915,  5.14371655, 14.39757292,\n",
       "        0.2276439 ,  8.29660073,  5.60257984,  9.76362118, 14.50870017,\n",
       "        3.17435717, 11.78531646,  7.94972654,  6.1376739 , 16.29219005,\n",
       "        7.75593116,  5.30553728, 15.24415446, 13.09770303, 10.37103836,\n",
       "        2.67772648,  8.75801598, 11.28599478, 15.53553216, 14.26318601,\n",
       "        3.92320112, 12.72358582,  7.77496551,  8.2162578 , 13.397103  ,\n",
       "       14.69522694,  7.72508027, 11.61882766, 13.51737659, 15.99823592,\n",
       "        6.12455309, 10.0621078 , 10.35743414,  8.71514311, 11.15377225,\n",
       "       10.38960616, 12.04593133,  5.50566873,  4.43428972, 13.15953152,\n",
       "        6.3248183 , 11.5919583 , 12.97002108, 16.69700976,  5.08095036,\n",
       "       10.68131945,  9.00337601,  8.14810001,  8.61815786, 11.81085106,\n",
       "       12.56869875, 14.46326825, 10.84308453, 11.56853963, 17.99167748,\n",
       "       16.48982169, 10.37031883,  9.72941645,  3.14960526,  3.82857432,\n",
       "        4.03245014, 17.49372824, 12.74176932, 13.80056821, 12.41291933,\n",
       "       11.33616903,  5.82848925, 15.9059848 , 11.1436604 ,  5.74134139,\n",
       "        6.47799285,  6.52374036,  3.55924074,  9.91782726,  4.94392579,\n",
       "        9.77537403,  9.01347131, 12.29963019, 13.49652611, 11.73412875,\n",
       "        0.33894232,  3.08284467,  8.5718657 ,  6.63681491, 12.13604276,\n",
       "        9.25671221,  4.14349897,  5.65087986,  5.10900785, 13.97632855,\n",
       "        6.95531626, 10.92538084, 16.08262896, 14.66789941, 12.01897816])"
      ]
     },
     "execution_count": 387,
     "metadata": {},
     "output_type": "execute_result"
    }
   ],
   "source": [
    "a2=np.random.normal(loc=10,scale=4,size=1000)\n",
    "a2"
   ]
  },
  {
   "cell_type": "code",
   "execution_count": 388,
   "id": "6206d02f",
   "metadata": {},
   "outputs": [
    {
     "name": "stdout",
     "output_type": "stream",
     "text": [
      "9.851206681401036 9.899164894819213\n"
     ]
    }
   ],
   "source": [
    "print(np.mean(a2),np.median(a2))"
   ]
  },
  {
   "cell_type": "code",
   "execution_count": 389,
   "id": "61ffe54c",
   "metadata": {},
   "outputs": [
    {
     "data": {
      "text/plain": [
       "8.548648387309754"
      ]
     },
     "execution_count": 389,
     "metadata": {},
     "output_type": "execute_result"
    }
   ],
   "source": [
    "import statistics\n",
    "statistics.mode(a2)"
   ]
  },
  {
   "cell_type": "markdown",
   "id": "51759e56",
   "metadata": {},
   "source": [
    "## generate tha random  value that form normal standarisation appoximately to zero and std is appp(to 1)"
   ]
  },
  {
   "cell_type": "code",
   "execution_count": 390,
   "id": "d40b9898",
   "metadata": {},
   "outputs": [
    {
     "data": {
      "text/plain": [
       "array([-1.23170807e+00, -4.26693027e-01, -2.94036017e-01,  7.83946928e-01,\n",
       "        9.23302953e-01,  4.49854283e-01, -5.04616942e-01,  1.54111028e+00,\n",
       "       -3.31337629e-01,  6.27368612e-01, -5.52166251e-01, -2.47825339e-01,\n",
       "       -5.11848032e-01, -2.02074982e+00, -1.51470895e+00, -1.01314713e+00,\n",
       "       -4.10937078e-01, -8.21527881e-01,  2.54515655e-01, -1.65751603e-01,\n",
       "       -1.26213568e+00, -5.26299870e-01,  2.68433712e-01, -5.87263043e-01,\n",
       "       -2.30642249e-01,  1.28689410e-03, -6.22807119e-01, -9.28858285e-01,\n",
       "       -1.64682289e+00, -4.48235802e-01,  6.48456773e-01, -2.63644132e-02,\n",
       "       -6.64180539e-01,  1.61512076e+00,  8.83618824e-01,  5.10387648e-01,\n",
       "       -1.18335145e+00,  7.03185652e-01, -1.84847998e-01, -1.11245618e-01,\n",
       "        3.92202246e-01, -1.70411775e+00, -7.53776019e-01,  1.30519259e+00,\n",
       "       -7.62899717e-02, -3.71456570e-01, -2.70755986e-01,  1.38420648e+00,\n",
       "       -1.70153018e+00, -2.00316090e+00, -1.54262776e+00,  1.09384259e-01,\n",
       "        7.85450079e-01,  3.52609930e-01, -5.00551168e-02,  7.35850749e-02,\n",
       "       -2.15137611e-02, -2.77048981e-01,  1.23903501e-01, -2.27546468e-01,\n",
       "        6.83836043e-01, -6.45725530e-01,  2.06045166e+00,  9.36683411e-01,\n",
       "        2.02739185e-01, -1.81672591e+00, -1.49163209e-01,  1.80285083e-01,\n",
       "       -1.05225284e+00, -2.11774309e+00, -7.13374154e-01,  2.03781090e+00,\n",
       "        1.91792955e+00, -4.99428885e-01,  1.60794374e-01, -1.12092217e+00,\n",
       "       -2.30106602e-01,  2.54084764e-02, -5.33015198e-01, -1.05246456e+00,\n",
       "        1.13022907e+00, -9.67598805e-01, -8.87788714e-01, -2.79653184e-01,\n",
       "        1.18576022e+00, -1.52360864e+00,  1.38572852e+00, -2.32699589e-02,\n",
       "        8.08937993e-01,  1.95273773e-01,  1.86198238e+00, -1.86762504e+00,\n",
       "        5.90713317e-01, -8.83709086e-01, -3.55882845e-01,  8.13678773e-01,\n",
       "       -4.38711694e-01,  7.37226083e-01,  8.10832443e-01, -1.25296492e+00,\n",
       "        1.41919655e+00,  1.26311641e+00, -1.77849695e-01,  8.09990437e-01,\n",
       "        8.76408575e-01, -3.33970657e-01,  1.40854811e+00, -5.69289533e-01,\n",
       "        5.03244482e-01,  3.60082693e-01,  2.37430086e-01,  1.86539249e+00,\n",
       "        7.32897907e-01, -2.11210399e+00, -1.47546682e-01, -8.31611349e-01,\n",
       "       -2.69555159e-01, -1.26951451e-01, -1.35080299e-01,  1.63316481e+00,\n",
       "       -1.24240853e+00,  4.56440533e-01,  1.46633818e-01,  1.32762575e+00,\n",
       "       -1.46250251e+00, -1.10075611e+00,  3.60681723e-01, -2.75612172e-01,\n",
       "       -2.25651488e+00, -8.72246512e-01, -4.71010364e-01,  1.67466242e-01,\n",
       "        9.10559030e-03,  8.49667590e-01,  8.80778337e-01, -1.01642539e+00,\n",
       "        4.98729843e-01,  2.13435295e+00, -7.65038300e-01,  7.20128122e-01,\n",
       "       -1.73917563e+00,  4.54423392e-01,  3.08046780e-01, -6.86817888e-01,\n",
       "        3.19606527e+00, -9.78734497e-01, -2.32111100e+00, -4.36567665e-01,\n",
       "        1.27041992e+00,  6.02277946e-01, -7.27591143e-01, -9.79621525e-01,\n",
       "       -3.75548583e-02, -9.77763645e-02, -6.38701441e-01, -5.31318867e-01,\n",
       "        6.18771391e-01,  1.24508975e+00, -9.50265151e-02, -2.34648649e-02,\n",
       "        1.58341946e+00, -5.85697257e-01,  2.48805240e-01, -2.53601124e-02,\n",
       "        6.78653818e-01,  6.40541997e-01, -1.46212918e+00,  5.62980207e-01,\n",
       "       -2.88042716e+00, -3.43901884e-01,  7.27135262e-01, -8.53129327e-01,\n",
       "       -2.20038810e-01,  8.37050760e-02,  5.34553956e-01, -3.08527523e-01,\n",
       "        1.04103893e+00,  7.24825956e-02, -1.42499324e+00,  8.92301205e-01,\n",
       "        1.27418346e+00,  8.15475405e-01, -1.26196328e+00,  5.87669933e-01,\n",
       "        2.09050720e+00,  1.50912586e+00,  9.21271198e-01,  1.18991242e+00,\n",
       "        6.69580506e-01, -1.16079377e+00, -9.30112943e-01,  6.23828042e-01,\n",
       "        3.25228683e-01,  1.68535181e-01, -3.84435202e-01,  6.53955766e-01,\n",
       "        2.05464715e+00,  1.46285654e+00, -4.54768607e-01,  1.05017209e+00,\n",
       "       -1.32102189e+00, -5.44907622e-01, -5.93597807e-01, -4.95510841e-02,\n",
       "       -4.25134824e-01,  4.61084976e-01, -1.42158587e+00, -2.51247441e-01,\n",
       "        5.19864536e-01, -7.08138245e-01,  6.00045374e-01,  1.27248767e+00,\n",
       "       -5.46017689e-01, -3.51222478e-01, -5.39832224e-01, -1.50617114e+00,\n",
       "       -9.62385769e-01, -9.24595890e-01, -2.14243220e+00, -2.14313419e-01,\n",
       "       -4.17942137e-01,  2.10041697e+00, -1.05754810e+00, -5.69976495e-01,\n",
       "       -1.38172390e+00,  3.72602775e-01,  1.24459055e+00,  2.14139405e-01,\n",
       "        1.50544319e-01,  2.30692986e-01, -3.38505079e-01,  8.90204674e-02,\n",
       "       -1.57745877e+00,  5.29235598e-01,  1.15178422e-01,  1.37481204e+00,\n",
       "       -2.79645968e-01, -6.59691109e-01, -2.14417609e+00,  1.05942244e+00,\n",
       "        1.83608037e+00,  1.09991825e+00,  1.90285738e+00, -2.24243854e-01,\n",
       "        5.82414942e-01, -5.84249154e-01,  7.92211614e-01,  5.93254098e-01,\n",
       "        1.45805954e+00,  8.87324361e-01, -7.75465420e-01,  1.05704828e+00,\n",
       "        1.58216362e-01,  6.80326636e-01, -5.70360415e-01,  1.30362709e+00,\n",
       "        9.04273977e-01,  4.94721247e-02, -6.71555841e-01,  2.32210533e-01,\n",
       "        4.02004603e-02,  1.68650274e+00, -8.03412676e-01,  2.03296573e-01,\n",
       "        1.65343779e+00,  1.32549899e+00, -9.21162335e-01,  3.26791403e-01,\n",
       "       -5.64200524e-01,  7.41925366e-01,  4.30777307e-01,  1.89917658e-01,\n",
       "        7.53203498e-01,  3.77067766e-01,  9.86930221e-01, -3.79398029e-01,\n",
       "        6.44129438e-01, -1.55054022e-01,  6.88119581e-01,  1.86748988e-01,\n",
       "       -8.22573592e-01, -7.70715929e-01,  5.89161871e-01,  1.28912566e-02,\n",
       "       -1.09003506e+00,  5.46507656e-01, -1.69143485e-01,  7.57592814e-01,\n",
       "       -1.67336338e-02, -1.89167116e-03,  1.57684718e+00, -7.72839417e-01,\n",
       "        8.65274916e-02, -4.22195834e-01,  4.20270563e-01, -5.50636056e-01,\n",
       "        1.04644916e+00, -1.79827550e+00, -3.97629615e-01, -4.94892523e-01,\n",
       "       -5.58313152e-01,  1.66033810e-01,  8.10303413e-02,  1.15465403e+00,\n",
       "       -3.22472209e-01, -1.92312893e-01, -1.61814995e+00, -8.11434083e-01,\n",
       "       -3.23379881e-01,  5.03807760e-01, -6.31636817e-01,  6.61582852e-01,\n",
       "        2.00760323e-01, -3.09697899e+00, -2.75527634e-01,  6.17756694e-01,\n",
       "       -1.27618989e+00,  3.93599987e-01,  2.55410765e-01, -1.63208667e+00,\n",
       "        1.77857817e+00,  1.08078832e+00,  1.31475910e+00,  1.21327887e+00,\n",
       "        3.36053647e+00,  1.16795243e-01, -1.84866979e+00, -2.05828122e+00,\n",
       "       -5.03619857e-01, -1.15218128e-01, -3.57605238e-02, -4.20580540e-01,\n",
       "        1.26460594e+00,  7.43512018e-01,  1.57134999e+00, -2.13103207e+00,\n",
       "       -1.42455090e+00, -9.54372417e-01, -1.07566965e+00,  9.69997932e-01,\n",
       "       -1.05601318e+00, -6.28166804e-01,  9.64745469e-01,  7.53935378e-01,\n",
       "       -3.98116866e-01,  1.15621761e+00,  1.37195829e+00, -4.92747438e-01,\n",
       "        6.74794158e-01,  1.38331518e+00,  7.78940228e-01,  2.49208276e-01,\n",
       "        2.37154824e+00, -1.63628934e+00, -6.12420419e-01,  1.90743672e+00,\n",
       "        6.71615212e-01,  6.76301314e-01,  3.22511246e-01,  2.51523261e-01,\n",
       "       -4.61484099e-01, -2.23665305e-01,  1.46885829e+00, -1.00601460e+00,\n",
       "       -1.10504958e+00, -2.13937728e+00, -8.91815623e-01,  1.23004930e-01,\n",
       "        5.24276787e-01,  6.02769158e-02, -1.73480407e+00,  2.33862903e+00,\n",
       "        1.81015078e-01, -1.07068639e-01, -5.83514959e-01, -5.81387381e-01,\n",
       "        1.41467267e+00,  2.05108306e+00,  7.20278638e-02,  4.64325978e-01,\n",
       "       -3.94576807e-02, -8.16507869e-01, -8.16691527e-01, -5.44968623e-01,\n",
       "        1.57512731e-01,  5.10697120e-02, -6.91139542e-01, -2.76769587e+00,\n",
       "       -8.57538976e-01,  3.73517271e-01,  1.15594198e-01, -3.19025245e-01,\n",
       "       -1.14235260e+00, -4.46585870e-01,  8.18155441e-01,  3.09189209e-01,\n",
       "       -4.42801552e-01, -1.86803907e-01,  1.73015093e+00,  1.09684070e+00,\n",
       "       -6.97404994e-01, -1.96697002e+00, -9.92120948e-01, -1.84796113e-01,\n",
       "       -1.16336753e-01,  2.30810156e-01, -8.09515347e-01,  1.88459784e-01,\n",
       "        1.32418236e+00,  1.22812720e+00, -1.33453978e+00,  8.81976981e-01,\n",
       "        2.01286566e-01, -5.59781119e-03, -1.58299140e+00,  3.17892210e-02,\n",
       "        5.25247641e-01,  3.52835072e-01, -7.48879378e-01, -1.30716054e+00,\n",
       "        1.14674509e+00, -5.79126985e-01,  4.93979045e-01,  5.00685019e-01,\n",
       "        7.61841474e-01, -8.66448706e-01, -6.51823613e-01, -4.36867533e-01,\n",
       "        1.47866931e+00, -1.12643441e+00,  4.83419042e-01, -3.34183651e-01,\n",
       "        7.45259174e-01,  5.23405182e-02,  1.23645606e+00, -2.48494581e-01,\n",
       "        7.84198817e-01,  7.44955279e-01,  9.73068498e-01,  1.75661357e+00,\n",
       "       -1.76742869e+00,  7.04848487e-01,  2.94808991e-01,  6.19381833e-02,\n",
       "       -1.41912543e+00,  1.01366898e+00,  2.33555288e-01, -2.04931986e-01,\n",
       "        1.09916750e+00,  4.87164238e-01,  2.20796364e-01, -8.94367915e-01,\n",
       "       -1.24722949e+00, -6.77622689e-01,  2.03039297e+00, -9.76114179e-01,\n",
       "       -7.03520007e-01, -1.40806754e-01, -3.32294980e-01, -6.52135996e-01,\n",
       "       -2.05570491e+00,  2.07554567e-01,  4.35791256e-01, -4.34586549e-01,\n",
       "       -1.35692944e-01,  1.25176917e+00, -1.73324120e+00,  1.38562428e+00,\n",
       "        1.17954060e+00, -1.36388873e+00, -4.59264336e-01, -1.15055553e+00,\n",
       "        1.72879107e-01, -7.83583803e-01,  5.77678436e-01,  6.80918103e-01,\n",
       "        1.24084604e+00,  1.00721747e+00,  1.04127476e+00,  9.55514722e-01,\n",
       "        2.68903605e-01, -9.26107158e-01,  9.73242303e-01,  1.52253634e-01,\n",
       "        1.97918075e+00, -2.34239953e-01, -1.23072631e-01, -1.27613021e+00,\n",
       "       -6.20113198e-01, -9.82887832e-01, -5.99206479e-01, -2.40671246e-01,\n",
       "        1.41278705e+00,  2.16049811e-02,  2.29684565e-01,  1.94780809e+00,\n",
       "        2.91822192e-03,  3.62931175e-01, -8.89467630e-01, -5.37165109e-01,\n",
       "        4.55456181e-01,  1.38625597e-01, -2.10241783e-01, -1.32743963e+00,\n",
       "        3.26925270e-01,  1.62574608e+00,  8.46676853e-01, -1.66889787e-01,\n",
       "        8.25189412e-01,  9.42838106e-02, -6.46327839e-02,  1.96058383e+00,\n",
       "        2.04625090e+00, -5.45974067e-02,  1.51241832e+00, -7.07774972e-01,\n",
       "        3.25745739e-02,  1.21627183e-01,  1.73046336e-01, -2.34966392e-01,\n",
       "        1.24799454e-01, -7.35912424e-01, -6.91397412e-02,  2.36749180e-02,\n",
       "        1.69552138e+00, -5.88035029e-01,  5.56180716e-01, -1.14126383e+00,\n",
       "       -6.10445979e-01,  1.07050715e+00, -3.36733558e-01,  8.60308783e-01,\n",
       "        2.86003267e-01, -9.42901112e-01,  6.40433143e-01, -1.27863031e+00,\n",
       "       -1.13239899e+00, -3.85095233e-01,  9.13365175e-01, -4.20975316e-01,\n",
       "        1.82000791e+00,  2.62390690e-01,  2.14076408e-01, -1.33420313e+00,\n",
       "       -1.56658897e-01, -4.49154792e-01, -3.76912856e-02,  1.47741040e+00,\n",
       "        5.52536458e-02, -1.82589186e+00, -6.66392853e-01, -3.25368954e-01,\n",
       "       -6.91810109e-01,  7.64531366e-01,  2.36680231e+00, -3.10701663e-01,\n",
       "       -3.21325323e-01,  9.56621238e-01,  8.70493028e-01, -7.29725044e-02,\n",
       "        6.15358209e-01, -1.51392189e+00,  3.21539878e-01,  3.54222376e-01,\n",
       "        1.17117804e+00, -1.08688515e+00, -1.48860738e+00,  4.40323282e-01,\n",
       "        2.04120938e-01,  9.92067464e-03, -7.29859023e-01,  3.73846941e-01,\n",
       "        3.11289204e-01, -2.12056501e-01, -1.82751726e+00, -4.67174891e-01,\n",
       "        6.47113275e-01,  1.98530672e-01, -4.86708189e-01, -7.29213195e-01,\n",
       "       -1.71597492e-01, -6.55284398e-01,  3.30095866e-01,  1.30623124e-01,\n",
       "        2.21777710e+00, -2.86866491e+00, -5.60487963e-01, -1.37539276e+00,\n",
       "       -1.00784195e+00,  1.53734435e+00,  4.93136957e-02,  1.43679157e+00,\n",
       "        1.26147787e+00, -1.30876246e+00,  1.16552421e+00,  1.33553680e+00,\n",
       "        7.85254854e-01,  3.03583784e-01, -1.02940308e-01,  9.95344729e-01,\n",
       "       -1.08585699e+00,  1.25163505e+00, -3.69352926e-02, -1.53156431e+00,\n",
       "        1.46076247e+00, -4.49951499e-02,  1.69488645e-01,  2.90338544e-01,\n",
       "       -2.32121848e-01,  2.87844817e-02,  1.56802683e-01,  1.22807029e+00,\n",
       "        1.12523627e+00, -1.00354933e-01, -6.82597747e-01, -1.29969675e-01,\n",
       "       -5.56260810e-01,  8.75855210e-01, -2.47384792e-01, -3.74417037e-01,\n",
       "       -1.91803296e-01,  3.44489100e-01,  1.07109797e+00,  9.54494985e-01,\n",
       "        2.12040168e-01, -4.95955352e-01, -9.04475219e-01,  2.94873008e-01,\n",
       "        2.12545196e-01,  1.38699282e-01,  2.03322962e+00, -8.40785563e-01,\n",
       "        8.83383366e-01, -7.56488262e-01, -1.31195759e+00, -1.29023475e+00,\n",
       "       -1.22839903e+00, -9.83951272e-01,  3.72885202e-01,  1.91980592e+00,\n",
       "        1.18623489e+00, -1.41381710e+00,  1.03307283e+00,  9.39967478e-01,\n",
       "       -4.30380555e-01, -4.93051927e-01,  1.15438483e-01, -9.65967864e-01,\n",
       "       -4.69100179e-01, -2.30399480e+00,  1.18787200e+00, -7.84746190e-01,\n",
       "        5.68098319e-01, -6.99634701e-01,  5.94567588e-01, -1.62678318e+00,\n",
       "        1.21086005e+00, -8.26055166e-01, -2.37801991e-01, -2.94821505e-01,\n",
       "       -9.51390054e-01,  6.15703104e-01, -1.80156466e-01,  1.23916542e+00,\n",
       "       -2.33074821e-01, -1.77979302e+00,  1.67838783e-01, -8.48996937e-01,\n",
       "        5.10902458e-01,  3.20795635e-01,  2.43282736e-02, -5.89126878e-01,\n",
       "        1.39072602e+00,  1.37516413e+00, -1.95328813e+00, -1.07584471e+00,\n",
       "       -7.98502564e-01, -1.49844920e+00, -3.97065439e-01, -1.73463353e-01,\n",
       "        8.97803996e-01, -1.64024877e-01, -5.70533626e-02,  2.98322738e-01,\n",
       "        1.70489584e-01,  1.87343562e-01,  1.15898777e+00,  1.53535766e+00,\n",
       "       -7.61791913e-01,  1.40028859e-01,  2.85624733e-01, -4.42505040e-01,\n",
       "       -3.56151702e-01, -1.03365271e+00,  2.63745254e+00, -8.39344319e-01,\n",
       "       -2.08631952e+00,  2.15727713e+00, -8.17700155e-01, -6.44606818e-01,\n",
       "        3.88136842e-01, -9.61556240e-02,  3.10999576e-01, -1.04897218e+00,\n",
       "       -5.86697542e-02, -3.08782763e-01, -1.19705821e+00, -8.84300820e-01,\n",
       "       -5.83686249e-01, -7.59075917e-01, -4.91616399e-01,  5.49922205e-01,\n",
       "        1.60705833e+00,  1.69847412e-01,  1.06413210e+00, -1.83879815e+00,\n",
       "        5.75941596e-01,  1.94110912e+00, -1.22449529e+00,  1.84289684e+00,\n",
       "       -1.54147971e+00,  1.68983208e+00,  4.97901619e-02, -8.41550960e-02,\n",
       "        2.41865174e-01, -2.15030313e-02,  2.71381801e-01,  4.14670799e-01,\n",
       "       -6.70570703e-01, -1.11131509e+00, -9.11022786e-02, -5.71875738e-01,\n",
       "       -2.91029526e-01, -8.54658338e-01, -7.54331246e-01, -1.43852987e-01,\n",
       "        3.69917365e-01,  1.10770996e+00,  8.65341610e-01, -7.62022343e-01,\n",
       "        7.85796543e-01, -7.22185306e-01, -2.00095927e-01, -8.55738370e-01,\n",
       "        1.59136306e+00, -1.06063471e+00,  1.05856265e+00,  3.16856256e-02,\n",
       "        1.83559950e-01,  2.97472870e-01, -7.42822517e-01,  1.52847241e-01,\n",
       "        6.80745166e-01, -3.33121046e-01, -8.68284540e-01, -6.23767897e-01,\n",
       "        2.39144459e+00, -1.69346230e-01, -1.48367242e+00, -1.03966393e+00,\n",
       "        2.33688948e-01, -3.10842788e-01, -1.65131690e+00,  2.83606093e-01,\n",
       "        1.07542473e+00, -1.15940574e+00,  4.60904084e-01,  6.51638645e-02,\n",
       "        5.79724849e-01,  1.64430228e-01,  2.43081336e-01, -3.06518982e-01,\n",
       "       -1.14670722e-02, -2.53399437e-01, -7.30526353e-01,  2.36318108e-01,\n",
       "        8.26803605e-01,  9.30990951e-01, -1.27086694e+00,  2.96560895e-01,\n",
       "        5.06007058e-01,  6.60313650e-01, -7.77108965e-01, -2.43992604e+00,\n",
       "       -9.23957816e-01, -6.42648405e-02, -5.83200571e-02,  8.90521606e-03,\n",
       "       -3.67801512e-01, -1.37473747e+00, -1.91999161e-01, -5.91390423e-01,\n",
       "       -6.04150586e-01, -1.36304279e+00, -2.40386707e+00, -1.08367047e+00,\n",
       "       -1.93045219e+00,  3.28116602e-01,  7.15884121e-02,  1.24390166e+00,\n",
       "       -1.45701819e+00, -1.35313825e+00,  1.89018075e+00,  1.14278448e+00,\n",
       "       -1.04380229e-01, -5.59291862e-01, -1.07932579e+00,  4.89727973e-02,\n",
       "        1.89756365e+00, -3.85433688e+00,  6.38483304e-01, -1.32439386e+00,\n",
       "       -4.32310189e-01, -2.01266980e+00,  1.45067627e+00, -5.52669754e-01,\n",
       "       -5.10783563e-01,  1.58113507e+00, -4.94472271e-01,  4.66197551e-01,\n",
       "        8.53370015e-01,  4.45536783e-01,  6.41598146e-01,  6.31205977e-01,\n",
       "        8.81624133e-01,  9.54797789e-01,  3.37302175e-01,  1.65352336e-01,\n",
       "       -4.67382689e-01,  9.19657965e-02,  6.88433398e-01,  8.92076978e-02,\n",
       "        4.76481821e-01, -3.51810903e-01,  1.70842014e+00, -2.16245084e-01,\n",
       "       -1.48595866e+00,  1.28734582e+00, -1.35816904e-01, -7.07001961e-01,\n",
       "        9.07521384e-01, -1.82469967e+00, -9.73417370e-01, -6.32401825e-01,\n",
       "        1.23043608e+00, -1.58848894e+00,  8.42141916e-01,  1.04526520e+00,\n",
       "        5.45165005e-01, -8.34600275e-01, -1.91128303e-01, -9.85553866e-01,\n",
       "        1.44756561e+00,  1.67270823e-01,  4.65502546e-01, -1.73878999e+00,\n",
       "       -1.10766454e+00,  6.79154901e-01,  1.21981477e-01, -3.11866717e-01,\n",
       "        2.00887291e-01,  9.75126933e-01,  2.22197321e+00, -2.24189316e-01,\n",
       "        2.06501458e+00,  2.39088234e-02, -8.01167288e-01,  1.12562125e+00,\n",
       "       -5.91068948e-01,  1.42910498e+00, -5.60792444e-01,  7.05625623e-01,\n",
       "        1.22944364e+00, -3.55488711e-01, -1.11287538e+00,  1.73931976e+00,\n",
       "       -3.09294226e-01,  7.10918913e-01, -4.12420825e-03,  1.29919452e+00,\n",
       "       -4.50527898e-01, -3.65174977e-01,  8.95393123e-01, -3.48657241e-01,\n",
       "        1.64406450e+00, -7.98901348e-01,  3.52548782e-01,  2.49439088e-01,\n",
       "        1.30014363e-01, -6.68051568e-01, -6.05816048e-01,  8.79488942e-01,\n",
       "        1.19399993e+00,  9.10460396e-01,  4.44333567e-01, -8.17655554e-01,\n",
       "        5.45130085e-01,  6.47286181e-01,  8.70737108e-02,  9.69187859e-01,\n",
       "       -1.37096942e+00, -1.04562849e+00,  7.74576025e-01, -8.56992666e-01,\n",
       "       -6.33248986e-01, -3.70462666e-01,  6.94925076e-01,  4.73412999e-01,\n",
       "       -9.24200785e-01,  1.81262282e-01, -4.75353640e-01,  6.34225114e-01,\n",
       "        9.43798631e-01, -6.10366247e-01, -2.86636831e-01, -8.13660482e-01,\n",
       "       -6.46658138e-02,  6.45689578e-01,  1.34308683e+00,  6.95469987e-01,\n",
       "        2.20202635e-01, -1.05839606e+00,  7.00402540e-01, -6.25680464e-01,\n",
       "       -1.58335801e+00,  1.66218460e+00,  1.25361262e+00,  6.93888609e-01,\n",
       "        9.88450566e-02,  5.52240999e-01,  1.07947792e-01, -3.72977910e-01,\n",
       "        1.18478967e+00, -5.68025031e-01, -8.48888063e-01,  1.39143373e-01,\n",
       "       -1.02785725e+00,  5.36541018e-01, -1.41464839e+00, -1.35732773e+00,\n",
       "        1.60448347e+00,  1.01485452e+00,  4.12334912e-01, -1.51601586e+00,\n",
       "       -1.11021885e+00,  1.83990820e+00, -1.14945648e-01,  1.48915846e+00,\n",
       "       -1.42467083e-01,  8.86261385e-01,  1.01813465e+00,  1.47340608e-01,\n",
       "       -5.47279219e-01,  5.21900628e-01,  2.08312075e-01,  1.91471761e-01,\n",
       "       -4.21640017e-01,  1.00987058e+00, -2.16195169e-01, -1.64011339e-01,\n",
       "        1.08380652e+00, -3.81362624e-01, -1.81000379e+00,  2.41969855e-01,\n",
       "        1.26926703e+00,  6.35196990e-01,  2.90220873e-02, -2.70271911e-01,\n",
       "       -6.61092973e-01, -2.52163825e-01, -1.16265682e+00,  1.06339008e-01,\n",
       "        8.07705660e-01, -2.26129599e-01,  2.36779441e-01,  1.30109072e+00,\n",
       "        1.57641281e+00,  1.08348431e-01, -5.10709337e-01, -6.16249701e-01,\n",
       "       -1.26411700e+00, -6.54947611e-01,  7.89527616e-01,  2.71526922e-01,\n",
       "       -7.45454612e-01, -9.96570012e-02,  9.94099304e-02,  7.98443549e-01,\n",
       "        8.21616702e-01, -1.78849370e+00,  5.80903271e-01, -9.14570169e-01,\n",
       "        9.49495271e-03, -1.37371114e-01, -1.11192039e+00, -2.29027006e-02,\n",
       "       -6.21724160e-01, -6.50621705e-01,  6.34400142e-01,  4.79303678e-01])"
      ]
     },
     "execution_count": 390,
     "metadata": {},
     "output_type": "execute_result"
    }
   ],
   "source": [
    "a=np.random.randn(1000)\n",
    "a"
   ]
  },
  {
   "cell_type": "code",
   "execution_count": 391,
   "id": "47054c44",
   "metadata": {},
   "outputs": [
    {
     "data": {
      "text/plain": [
       "0.010246179695024902"
      ]
     },
     "execution_count": 391,
     "metadata": {},
     "output_type": "execute_result"
    }
   ],
   "source": [
    "np.mean(a)  ### approx to 0"
   ]
  },
  {
   "cell_type": "code",
   "execution_count": 392,
   "id": "2e83fce5",
   "metadata": {},
   "outputs": [
    {
     "data": {
      "text/plain": [
       "0.9795748425744399"
      ]
     },
     "execution_count": 392,
     "metadata": {},
     "output_type": "execute_result"
    }
   ],
   "source": [
    "np.std(a)   ### approx to 1"
   ]
  },
  {
   "cell_type": "code",
   "execution_count": 393,
   "id": "e4f8a490",
   "metadata": {},
   "outputs": [
    {
     "data": {
      "text/plain": [
       "array([[0.53185522, 0.86586477, 0.86032423, 0.72475914, 0.02058719,\n",
       "        0.39987575, 0.39622064],\n",
       "       [0.25312393, 0.9605086 , 0.57909185, 0.17201761, 0.72192772,\n",
       "        0.45090886, 0.77822767],\n",
       "       [0.16475718, 0.22587834, 0.12593046, 0.95873594, 0.82898405,\n",
       "        0.98873624, 0.9297042 ],\n",
       "       [0.40460812, 0.64263674, 0.19794177, 0.67895279, 0.63363189,\n",
       "        0.90791268, 0.62221058]])"
      ]
     },
     "execution_count": 393,
     "metadata": {},
     "output_type": "execute_result"
    }
   ],
   "source": [
    "np.random.random_sample((4,7))   ### generte random sample of size 4*7 bte 0 to 1"
   ]
  },
  {
   "cell_type": "markdown",
   "id": "37ff25e4",
   "metadata": {},
   "source": [
    "## create an identity matrix"
   ]
  },
  {
   "cell_type": "code",
   "execution_count": 394,
   "id": "8a7dfc08",
   "metadata": {},
   "outputs": [
    {
     "data": {
      "text/plain": [
       "array([[1, 2, 3],\n",
       "       [1, 2, 3],\n",
       "       [1, 2, 3]])"
      ]
     },
     "execution_count": 394,
     "metadata": {},
     "output_type": "execute_result"
    }
   ],
   "source": [
    "import numpy as np\n",
    "a=np.array([[1,2,3],[1,2,3],[1,2,3]])\n",
    "a"
   ]
  },
  {
   "cell_type": "code",
   "execution_count": 395,
   "id": "b36ea606",
   "metadata": {},
   "outputs": [
    {
     "data": {
      "text/plain": [
       "array([1, 2])"
      ]
     },
     "execution_count": 395,
     "metadata": {},
     "output_type": "execute_result"
    }
   ],
   "source": [
    "np.diag(a,k=-1)"
   ]
  },
  {
   "cell_type": "code",
   "execution_count": 396,
   "id": "8ffbdcf3",
   "metadata": {},
   "outputs": [
    {
     "data": {
      "text/plain": [
       "array([2, 3])"
      ]
     },
     "execution_count": 396,
     "metadata": {},
     "output_type": "execute_result"
    }
   ],
   "source": [
    "np.diag(a,k=1)"
   ]
  },
  {
   "cell_type": "code",
   "execution_count": 397,
   "id": "b11435ff",
   "metadata": {},
   "outputs": [
    {
     "data": {
      "text/plain": [
       "array([3])"
      ]
     },
     "execution_count": 397,
     "metadata": {},
     "output_type": "execute_result"
    }
   ],
   "source": [
    "np.diag(a,k=2)"
   ]
  },
  {
   "cell_type": "code",
   "execution_count": 398,
   "id": "435613ae",
   "metadata": {},
   "outputs": [
    {
     "data": {
      "text/plain": [
       "array([1, 2, 3])"
      ]
     },
     "execution_count": 398,
     "metadata": {},
     "output_type": "execute_result"
    }
   ],
   "source": [
    "a=np.diag(a,k=0)  ##  make rest of tha element zero only given diagonal elements \n",
    "a"
   ]
  },
  {
   "cell_type": "code",
   "execution_count": 399,
   "id": "f53cd4de",
   "metadata": {},
   "outputs": [
    {
     "data": {
      "text/plain": [
       "array([[1., 0., 0.],\n",
       "       [0., 1., 0.],\n",
       "       [0., 0., 1.]])"
      ]
     },
     "execution_count": 399,
     "metadata": {},
     "output_type": "execute_result"
    }
   ],
   "source": [
    "np.eye(3,3)"
   ]
  },
  {
   "cell_type": "code",
   "execution_count": 400,
   "id": "9777807e",
   "metadata": {},
   "outputs": [
    {
     "data": {
      "text/plain": [
       "array([[1., 0., 0.],\n",
       "       [0., 1., 0.],\n",
       "       [0., 0., 1.]])"
      ]
     },
     "execution_count": 400,
     "metadata": {},
     "output_type": "execute_result"
    }
   ],
   "source": [
    "a=np.eye(3,k=0)\n",
    "a"
   ]
  },
  {
   "cell_type": "code",
   "execution_count": 401,
   "id": "ea842c20",
   "metadata": {},
   "outputs": [
    {
     "data": {
      "text/plain": [
       "array([[0., 1., 0.],\n",
       "       [0., 0., 1.],\n",
       "       [0., 0., 0.]])"
      ]
     },
     "execution_count": 401,
     "metadata": {},
     "output_type": "execute_result"
    }
   ],
   "source": [
    "a=np.eye(3,k=1)\n",
    "a"
   ]
  },
  {
   "cell_type": "code",
   "execution_count": 402,
   "id": "1c6951b0",
   "metadata": {},
   "outputs": [
    {
     "data": {
      "text/plain": [
       "array([[0., 0., 0.],\n",
       "       [1., 0., 0.],\n",
       "       [0., 1., 0.]])"
      ]
     },
     "execution_count": 402,
     "metadata": {},
     "output_type": "execute_result"
    }
   ],
   "source": [
    "a=np.eye(3,k=-1)\n",
    "a"
   ]
  },
  {
   "cell_type": "code",
   "execution_count": 403,
   "id": "fd73eb16",
   "metadata": {},
   "outputs": [
    {
     "data": {
      "text/plain": [
       "array([[0., 0., 1.],\n",
       "       [0., 0., 0.],\n",
       "       [0., 0., 0.]])"
      ]
     },
     "execution_count": 403,
     "metadata": {},
     "output_type": "execute_result"
    }
   ],
   "source": [
    "a=np.eye(3,k=2)\n",
    "a"
   ]
  },
  {
   "cell_type": "code",
   "execution_count": 404,
   "id": "020ef238",
   "metadata": {},
   "outputs": [
    {
     "data": {
      "text/plain": [
       "array([[0., 0., 0.],\n",
       "       [0., 0., 0.],\n",
       "       [1., 0., 0.]])"
      ]
     },
     "execution_count": 404,
     "metadata": {},
     "output_type": "execute_result"
    }
   ],
   "source": [
    "a=np.eye(3,k=-2)\n",
    "a"
   ]
  },
  {
   "cell_type": "markdown",
   "id": "c064904e",
   "metadata": {},
   "source": [
    "### diagflat: for creating array means tha element is to be placed diagonaly based odn tha"
   ]
  },
  {
   "cell_type": "code",
   "execution_count": 406,
   "id": "b5b3a081",
   "metadata": {},
   "outputs": [
    {
     "data": {
      "text/plain": [
       "array([[1, 0, 0, 0],\n",
       "       [0, 2, 0, 0],\n",
       "       [0, 0, 3, 0],\n",
       "       [0, 0, 0, 4]])"
      ]
     },
     "execution_count": 406,
     "metadata": {},
     "output_type": "execute_result"
    }
   ],
   "source": [
    "import numpy as np\n",
    "a2=np.diagflat([1,2,3,4],k=0)\n",
    "a2"
   ]
  },
  {
   "cell_type": "code",
   "execution_count": 407,
   "id": "616eba6e",
   "metadata": {},
   "outputs": [
    {
     "data": {
      "text/plain": [
       "array([[0, 1, 0, 0, 0],\n",
       "       [0, 0, 2, 0, 0],\n",
       "       [0, 0, 0, 3, 0],\n",
       "       [0, 0, 0, 0, 4],\n",
       "       [0, 0, 0, 0, 0]])"
      ]
     },
     "execution_count": 407,
     "metadata": {},
     "output_type": "execute_result"
    }
   ],
   "source": [
    "import numpy as np\n",
    "a2=np.diagflat([1,2,3,4],k=1)\n",
    "a2"
   ]
  },
  {
   "cell_type": "code",
   "execution_count": 408,
   "id": "957d8348",
   "metadata": {},
   "outputs": [
    {
     "data": {
      "text/plain": [
       "array([[ 1,  2,  3],\n",
       "       [12,  3,  5],\n",
       "       [ 4,  5,  6]])"
      ]
     },
     "execution_count": 408,
     "metadata": {},
     "output_type": "execute_result"
    }
   ],
   "source": [
    "a=np.array([[1,2,3],[12,3,5],[4,5,6]])\n",
    "a"
   ]
  },
  {
   "cell_type": "markdown",
   "id": "20a1a249",
   "metadata": {},
   "source": [
    "## From function"
   ]
  },
  {
   "cell_type": "code",
   "execution_count": 409,
   "id": "615d9ec0",
   "metadata": {},
   "outputs": [
    {
     "data": {
      "text/plain": [
       "array([[0., 0., 0., 0.],\n",
       "       [0., 1., 2., 3.],\n",
       "       [0., 2., 4., 6.],\n",
       "       [0., 3., 6., 9.]])"
      ]
     },
     "execution_count": 409,
     "metadata": {},
     "output_type": "execute_result"
    }
   ],
   "source": [
    "np.fromfunction(lambda i,j:i*j,(4,4))"
   ]
  },
  {
   "cell_type": "code",
   "execution_count": 410,
   "id": "3112266b",
   "metadata": {},
   "outputs": [
    {
     "data": {
      "text/plain": [
       "array([[0., 1., 2., 3.],\n",
       "       [1., 2., 3., 4.],\n",
       "       [2., 3., 4., 5.],\n",
       "       [3., 4., 5., 6.]])"
      ]
     },
     "execution_count": 410,
     "metadata": {},
     "output_type": "execute_result"
    }
   ],
   "source": [
    "np.fromfunction(lambda i,j:i+j,(4,4))"
   ]
  },
  {
   "cell_type": "code",
   "execution_count": 411,
   "id": "e8888ca1",
   "metadata": {},
   "outputs": [
    {
     "data": {
      "text/plain": [
       "array([[ 0., -1., -2., -3.],\n",
       "       [ 1.,  0., -1., -2.],\n",
       "       [ 2.,  1.,  0., -1.],\n",
       "       [ 3.,  2.,  1.,  0.]])"
      ]
     },
     "execution_count": 411,
     "metadata": {},
     "output_type": "execute_result"
    }
   ],
   "source": [
    "np.fromfunction(lambda i,j:i-j,(4,4))"
   ]
  },
  {
   "cell_type": "markdown",
   "id": "32ce0561",
   "metadata": {},
   "source": []
  },
  {
   "cell_type": "code",
   "execution_count": null,
   "id": "6e8e32a9",
   "metadata": {},
   "outputs": [],
   "source": []
  },
  {
   "cell_type": "code",
   "execution_count": null,
   "id": "b3b8cd31",
   "metadata": {},
   "outputs": [],
   "source": []
  }
 ],
 "metadata": {
  "kernelspec": {
   "display_name": "Python 3 (ipykernel)",
   "language": "python",
   "name": "python3"
  },
  "language_info": {
   "codemirror_mode": {
    "name": "ipython",
    "version": 3
   },
   "file_extension": ".py",
   "mimetype": "text/x-python",
   "name": "python",
   "nbconvert_exporter": "python",
   "pygments_lexer": "ipython3",
   "version": "3.9.12"
  }
 },
 "nbformat": 4,
 "nbformat_minor": 5
}
